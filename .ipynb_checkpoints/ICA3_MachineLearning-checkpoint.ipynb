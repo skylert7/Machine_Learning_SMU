{
 "cells": [
  {
   "cell_type": "code",
   "execution_count": 0,
   "metadata": {
    "colab": {
     "base_uri": "https://localhost:8080/",
     "height": 17
    },
    "colab_type": "code",
    "id": "F6XvyN5-q2Af",
    "outputId": "1a2921f0-602e-4fac-c5b9-23a2e6c6fa52"
   },
   "outputs": [
    {
     "data": {
      "text/html": [
       "<link href='https://fonts.googleapis.com/css?family=Passion+One' rel='stylesheet' type='text/css'><style>div.attn { font-family: 'Helvetica Neue'; font-size: 30px; line-height: 40px; color: #FFFFFF; text-align: center; margin: 30px 0; border-width: 10px 0; border-style: solid; border-color: #5AAAAA; padding: 30px 0; background-color: #DDDDFF; }hr { border: 0; background-color: #ffffff; border-top: 1px solid black; }hr.major { border-top: 10px solid #5AAA5A; }hr.minor { border: none; background-color: #ffffff; border-top: 5px dotted #CC3333; }div.bubble { width: 65%; padding: 20px; background: #DDDDDD; border-radius: 15px; margin: 0 auto; font-style: italic; color: #f00; }em { color: #AAA; }div.c1{visibility:hidden;margin:0;height:0;}div.note{color:red;}</style>"
      ],
      "text/plain": [
       "<IPython.core.display.HTML object>"
      ]
     },
     "execution_count": 1,
     "metadata": {
      "tags": []
     },
     "output_type": "execute_result"
    }
   ],
   "source": [
    "# Enable HTML/CSS \n",
    "from IPython.core.display import HTML\n",
    "HTML(\"<link href='https://fonts.googleapis.com/css?family=Passion+One' rel='stylesheet' type='text/css'><style>div.attn { font-family: 'Helvetica Neue'; font-size: 30px; line-height: 40px; color: #FFFFFF; text-align: center; margin: 30px 0; border-width: 10px 0; border-style: solid; border-color: #5AAAAA; padding: 30px 0; background-color: #DDDDFF; }hr { border: 0; background-color: #ffffff; border-top: 1px solid black; }hr.major { border-top: 10px solid #5AAA5A; }hr.minor { border: none; background-color: #ffffff; border-top: 5px dotted #CC3333; }div.bubble { width: 65%; padding: 20px; background: #DDDDDD; border-radius: 15px; margin: 0 auto; font-style: italic; color: #f00; }em { color: #AAA; }div.c1{visibility:hidden;margin:0;height:0;}div.note{color:red;}</style>\")"
   ]
  },
  {
   "cell_type": "markdown",
   "metadata": {
    "colab_type": "text",
    "id": "CwrEZVerq2Al"
   },
   "source": [
    "___\n",
    "Enter Team Member Names here (*double click to edit*):\n",
    "\n",
    "- Name 1: Taylor Slaton\n",
    "- Name 2: Skyler Tran\n",
    "\n",
    "___"
   ]
  },
  {
   "cell_type": "markdown",
   "metadata": {
    "colab_type": "text",
    "id": "JM8fe-_8q2Am"
   },
   "source": [
    "# In Class Assignment Three\n",
    "In the following assignment you will be asked to fill in python code and derivations for a number of different problems. Please read all instructions carefully and turn in the rendered notebook (or HTML of the rendered notebook)  before the end of class (or right after class). The initial portion of this notebook is given before class and the remainder is given during class. Please answer the initial questions before class, to the best of your ability. Once class has started you may rework your answers as a team for the initial part of the assignment. \n",
    "\n",
    "<a id=\"top\"></a>\n",
    "## Contents\n",
    "* <a href=\"#Loading\">Loading the Data</a>\n",
    "* <a href=\"#ff\">Defining a Feedforward Network in Python</a>\n",
    "* <a href=\"#bp\">Back Propagation in Python</a>\n",
    "* <a href=\"#vis\">Visualizing Back Propagation</a>\n",
    "________________________________________________________________________________________________________\n",
    "\n",
    "<a id=\"Loading\"></a>\n",
    "<a href=\"#top\">Back to Top</a>\n",
    "## Loading the Data\n",
    "Please run the following code to read in the \"digits\" dataset from sklearn's data loading module. This data contains hand written digits for the characters 0-9.\n",
    "\n",
    "This will load the data into the variable `ds`. `ds` is a `bunch` object with fields like `ds.data` and `ds.target`. The field `ds.data` is a numpy matrix of the continuous features in the dataset. **The object is not a pandas dataframe. It is a numpy matrix.** Each row is a set of observed instances, each column is a different feature. It also has a field called `ds.target` that is an integer value we are trying to predict (i.e., a specific integer represents a specific person). Each entry in `ds.target` is a label for each row of the `ds.data` matrix. "
   ]
  },
  {
   "cell_type": "code",
   "execution_count": 0,
   "metadata": {
    "colab": {
     "base_uri": "https://localhost:8080/",
     "height": 68
    },
    "colab_type": "code",
    "id": "S0d4oZbjq2Ao",
    "outputId": "cac66360-d3d2-4dac-f81b-5415c5b87732"
   },
   "outputs": [
    {
     "name": "stdout",
     "output_type": "stream",
     "text": [
      "(1797, 64)\n",
      "(1797,)\n",
      "[0 1 2 ... 8 9 8]\n"
     ]
    }
   ],
   "source": [
    "# lets load up the handwritten digit dataset\n",
    "from sklearn.datasets import load_digits\n",
    "from sklearn.metrics import accuracy_score\n",
    "from sklearn.preprocessing import StandardScaler\n",
    "import numpy as np\n",
    "\n",
    "ds = load_digits()\n",
    "X = ds.data/16.0-0.5 # normalize the data\n",
    "y = ds.target\n",
    "print(X.shape)\n",
    "print(y.shape)\n",
    "print(y)"
   ]
  },
  {
   "cell_type": "code",
   "execution_count": 0,
   "metadata": {
    "colab": {
     "base_uri": "https://localhost:8080/",
     "height": 211
    },
    "colab_type": "code",
    "id": "b1dBTzT3q2Av",
    "outputId": "d080e90f-23db-463a-ac59-8e13f17fbe12"
   },
   "outputs": [
    {
     "data": {
      "image/png": "[encoded data removed]",
      "text/plain": [
       "<Figure size 432x288 with 10 Axes>"
      ]
     },
     "metadata": {
      "tags": []
     },
     "output_type": "display_data"
    }
   ],
   "source": [
    "# reshape and print a few of the images in the digits dataset\n",
    "import matplotlib.pyplot as plt\n",
    "%matplotlib inline\n",
    "\n",
    "fig, ax = plt.subplots(nrows=2, ncols=5, sharex=True, sharey=True,)\n",
    "ax = ax.flatten()\n",
    "for i in range(10):\n",
    "    img = X[i].reshape(8, 8)\n",
    "    ax[i].imshow(img, cmap='Greys', interpolation='nearest')\n",
    "\n",
    "ax[0].set_xticks([])\n",
    "ax[0].set_yticks([])\n",
    "plt.show()"
   ]
  },
  {
   "cell_type": "markdown",
   "metadata": {
    "colab_type": "text",
    "id": "IkTGXq_Wq2A6"
   },
   "source": [
    "\n",
    "____\n",
    "**Question 1:** For the digits dataset, what does each column in $\\mathbf{X}$ represent? What does each row in $\\mathbf{X}$ represent? What does each value in $\\mathbf{X}$ represent? What does each unique value of the target, $y$ represent?"
   ]
  },
  {
   "cell_type": "markdown",
   "metadata": {
    "colab_type": "text",
    "id": "3uTVGLSyq2A9"
   },
   "source": [
    "\n",
    "\n",
    "```\n",
    "# This is formatted as code\n",
    "```\n",
    "\n",
    "Enter you answer here\n",
    "\n",
    "**Each row in X represents a picture. Each column in X represents a pixel location for the picture. Each value in y represents what number the picture actually is, aka what was drawn.**\n",
    "\n",
    "\n",
    "___"
   ]
  },
  {
   "cell_type": "markdown",
   "metadata": {
    "colab_type": "text",
    "id": "iIhmOwkyq2A_"
   },
   "source": [
    "____\n",
    "\n",
    "<img src=\"https://raw.githubusercontent.com/eclarson/MachineLearningNotebooks/master/PDF_Slides/MultiLayerNetwork.png\" width=\"500\">\n",
    "\n",
    "**Question 2:** For the digits dataset, we want to train a neural network with one hidden layer. The hidden layer will have 30 neurons. What will be the size of the matrices in each layer? That is, what is the size of $\\mathbf{W}^{(1)}$ and what is the size of $\\mathbf{W}^{(2)}$?"
   ]
  },
  {
   "cell_type": "markdown",
   "metadata": {
    "colab_type": "text",
    "id": "L1goeJ_Rq2BA"
   },
   "source": [
    "\n",
    "\n",
    "Enter you answer here\n",
    "\n",
    "W1 : 30x65 <br/>\n",
    "W2 : 10x31 <br />\n",
    "\n",
    "\n",
    "___"
   ]
  },
  {
   "cell_type": "markdown",
   "metadata": {
    "colab_type": "text",
    "id": "kwcVLt-Bq2BE"
   },
   "source": [
    "<a id=\"ff\"></a>\n",
    "<a href=\"#top\">Back to Top</a>\n",
    "\n",
    "\n",
    "\n",
    "# Defining a Feedforward Network\n",
    "\n",
    "Below we will setup the functions for use in a feedforward neural network **with two layers**. Take a quick look at the functions defined. There are a number of convenience functions including:\n",
    "- a function for the sigmoid calculation\n",
    "- a function to one hot encode the output\n",
    "- a function to add ones (for intercept/bias) terms on the row or column\n",
    "- an initialization function for initializing the weights\n",
    "\n",
    "A few functions are not yet implemented including:\n",
    "- a `fit` function\n",
    "- a `get_gradient` function"
   ]
  },
  {
   "cell_type": "code",
   "execution_count": 0,
   "metadata": {
    "colab": {
     "base_uri": "https://localhost:8080/",
     "height": 136
    },
    "colab_type": "code",
    "id": "7s2fw96Vq2BF",
    "outputId": "12fd6f19-1b65-4b91-b09d-712afbc4a394"
   },
   "outputs": [
    {
     "name": "stdout",
     "output_type": "stream",
     "text": [
      "W1:  (30, 65)\n",
      "W2:  (10, 31)\n",
      "A1:  (65, 1797)\n",
      "A2:  (31, 1797)\n",
      "Z1:  (30, 1797)\n",
      "Z2:  (10, 1797)\n",
      "A3:  (10, 1797)\n"
     ]
    }
   ],
   "source": [
    "# Example adapted from https://github.com/rasbt/python-machine-learning-book/blob/master/code/ch12/ch12.ipynb\n",
    "# Original Author: Sebastian Raschka\n",
    "\n",
    "# This is the optional book we use in the course, excellent intuitions and straightforward programming examples\n",
    "# please note, however, that this code has been manipulated to reflect our assumptions and notation.\n",
    "import numpy as np\n",
    "from scipy.special import expit\n",
    "import sys\n",
    "import pandas as pd\n",
    "\n",
    "# start with a simple base classifier, which can't be fit or predicted\n",
    "# it only has internal classes to be used by classes that will subclass it\n",
    "class TwoLayerPerceptronBase(object):\n",
    "    def __init__(self, n_hidden=30,\n",
    "                 C=0.0, epochs=500, eta=0.001, random_state=None):\n",
    "        np.random.seed(random_state)\n",
    "        self.n_hidden = n_hidden\n",
    "        self.l2_C = C\n",
    "        self.epochs = epochs\n",
    "        self.eta = eta\n",
    "        self.n_features_ = 64\n",
    "        self.n_output_ = 10\n",
    "\n",
    "    @staticmethod\n",
    "    def _encode_labels(y):\n",
    "        \"\"\"Encode labels into one-hot representation\"\"\"\n",
    "        onehot = pd.get_dummies(y).values.T\n",
    "            \n",
    "        return onehot\n",
    "\n",
    "    def _initialize_weights(self):\n",
    "        \"\"\"Initialize weights with small random numbers.\"\"\"\n",
    "        W1_num_elems = (self.n_features_ + 1)*self.n_hidden\n",
    "        W1 = np.random.uniform(-1.0, 1.0, size=W1_num_elems)\n",
    "        W1 = W1.reshape(self.n_hidden, self.n_features_ + 1) # reshape to be W\n",
    "        \n",
    "        W2_num_elems = (self.n_hidden + 1)*self.n_output_\n",
    "        W2 = np.random.uniform(-1.0, 1.0, size=W2_num_elems)\n",
    "        W2 = W2.reshape(self.n_output_, self.n_hidden + 1)\n",
    "        return W1, W2\n",
    "    \n",
    "    @staticmethod\n",
    "    def _sigmoid(z):\n",
    "        \"\"\"Use scipy.special.expit to avoid overflow\"\"\"\n",
    "        # 1.0 / (1.0 + np.exp(-z))\n",
    "        return expit(z)\n",
    "    \n",
    "    @staticmethod\n",
    "    def _add_bias_unit(X, how='column'):\n",
    "        \"\"\"Add bias unit (column or row of 1s) to array at index 0\"\"\"\n",
    "        if how == 'column':\n",
    "            ones = np.ones((X.shape[0], 1))\n",
    "            X_new = np.hstack((ones, X))\n",
    "        elif how == 'row':\n",
    "            ones = np.ones((1, X.shape[1]))\n",
    "            X_new = np.vstack((ones, X))\n",
    "        return X_new\n",
    "    \n",
    "    def _feedforward(self, X, W1, W2):\n",
    "        \"\"\"Compute feedforward step\n",
    "        -----------\n",
    "        X : Input layer with original features.\n",
    "        W1: Weight matrix for input layer -> hidden layer.\n",
    "        W2: Weight matrix for hidden layer -> output layer.\n",
    "        ----------\n",
    "        a1-a3 : activations into layer (or output layer)\n",
    "        z1-z2 : layer inputs \n",
    "\n",
    "        \"\"\"\n",
    "        A1 = self._add_bias_unit(X.T, how='row')\n",
    "        Z1 = W1 @ A1\n",
    "        A2 = self._sigmoid(Z1)\n",
    "        \n",
    "        A2 = self._add_bias_unit(A2, how='row')\n",
    "        Z2 = W2 @ A2\n",
    "        A3 = self._sigmoid(Z2)\n",
    "        return A1, Z1, A2, Z2, A3\n",
    "    \n",
    "    def predict(self, X):\n",
    "        \"\"\"Predict class labels\"\"\"\n",
    "        _, _, _, _, A3 = self._feedforward(X, self.W1, self.W2)\n",
    "        y_pred = np.argmax(A3, axis=0)\n",
    "        return y_pred\n",
    "\n",
    "just_a_var = TwoLayerPerceptronBase()\n",
    "W1, W2 = just_a_var._initialize_weights()\n",
    "A1, Z1, A2, Z2, A3 = just_a_var._feedforward(X, W1, W2)\n",
    "print(\"W1: \", W1.shape)\n",
    "print(\"W2: \", W2.shape)\n",
    "print(\"A1: \", A1.shape)\n",
    "print(\"A2: \", A2.shape)\n",
    "print(\"Z1: \", Z1.shape)\n",
    "print(\"Z2: \", Z2.shape)\n",
    "print(\"A3: \", A3.shape)\n"
   ]
  },
  {
   "cell_type": "markdown",
   "metadata": {
    "colab_type": "text",
    "id": "QHeRJQMwq2BL"
   },
   "source": [
    "___\n",
    "<img src=\"https://raw.githubusercontent.com/eclarson/MachineLearningNotebooks/master/PDF_Slides/MultiLayerNetwork.png\" width=\"500\">\n",
    "\n",
    "Recall from the videos that all instances in $\\mathbf{X}$ can be fed into the network with a single matrix multiplication operation for each intermediate vector, $\\mathbf{a}^{(l)}$ and $\\mathbf{z}^{(l)}$. When we feed all the instances, $\\mathbf{X}$, the intermediate vectors, $\\mathbf{a}^{(l)}$ and $\\mathbf{z}^{(l)}$ get stacked together to form matrices, $\\mathbf{A}^{(l)}$ and $\\mathbf{Z}^{(l)}$. This is already done for you in the `_feedforward` function defined above.\n",
    "\n",
    "**Question 3:**\n",
    "For the digits dataset we are using and a network with 30 neurons in the hidden layer, what are the sizes of:\n",
    "- **Part A**: the intermediate vectors, $\\mathbf{a}^{(1)}$ and $\\mathbf{a}^{(2)}$\n",
    "- **Part B**: the intermediate vectors, $\\mathbf{z}^{(1)}$ and $\\mathbf{z}^{(2)}$\n",
    "- **Part C**: the intermediate matrices, $\\mathbf{A}^{(1)}$ and $\\mathbf{A}^{(2)}$\n",
    "- **Part D**: the intermediate matrices, $\\mathbf{Z}^{(1)}$ and $\\mathbf{Z}^{(2)}$\n",
    "\n"
   ]
  },
  {
   "cell_type": "markdown",
   "metadata": {
    "colab_type": "text",
    "id": "9CLCpLaPq2BO"
   },
   "source": [
    "*Enter you answer here (double click)*\n",
    "\n",
    "\n",
    "A. a(1) : 65x1 <br />\n",
    "  a(2) : 31x1 <br />\n",
    "\n",
    "\n",
    "B. z(1) : 30x1<br />\n",
    "   z(2) : 10x1 <br />\n",
    "\n",
    "\n",
    "C. A(1) : 65x1797 <br />\n",
    "  A(2) : 31x1797 <br />\n",
    "\n",
    "\n",
    "D. Z(1) : 30x1797 <br />\n",
    "   Z(2) : 10x1797 <br />\n",
    "\n",
    "___"
   ]
  },
  {
   "cell_type": "markdown",
   "metadata": {
    "colab_type": "text",
    "id": "9uDSy6Fuq2BQ"
   },
   "source": [
    "___\n",
    "<a id=\"bp\"></a>\n",
    "<a href=\"#top\">Back to Top</a>\n",
    "\n",
    "# Back Propagation in Python\n",
    "Now let's add in the back propagation steps from the video. First, we need to add in a `fit` function that will update all the trainable weights in the $\\mathbf{W}^{(l)}$ matrices. Because this is a two layer network we have layers $\\mathbf{W}^{(1)}$ and $\\mathbf{W}^{(2)}$. Look at the given `fit` function written below for you. \n",
    "\n",
    "The `fit` function below will update matrices using steepest descent. And the update equation is:\n",
    "$$  w_{i,j}^{(l)} \\leftarrow w_{i,j}^{(l)} - \\eta \\frac{\\partial J(\\mathbf{W})}{\\partial w_{i,j}^{(l)}}$$\n",
    "\n",
    "for each value in each matrix, $\\mathbf{W}^{(l)}$. \n",
    "\n",
    "The objective function is simply the mean squared error:\n",
    "$$ J(\\mathbf{W}) = \\sum_{k=1}^M (\\mathbf{y}^{(k)}-[\\mathbf{a}^{(L)}]^{(k)})^2 $$\n",
    "\n",
    "where $L$ is the output of the last layer. For our two layer implementation, $L=3$."
   ]
  },
  {
   "cell_type": "code",
   "execution_count": 0,
   "metadata": {
    "colab": {},
    "colab_type": "code",
    "id": "ZAZHCWhpq2BS"
   },
   "outputs": [],
   "source": [
    "class TwoLayerPerceptron(TwoLayerPerceptronBase):\n",
    "    def fit(self, X, y):\n",
    "        \"\"\" Learn weights from training data.\n",
    "            Input X should be a matrix with separate instances\n",
    "            in each row, and separate features in each column.\n",
    "            The target variable, y, should be integer values \n",
    "            starting from zero, that represent the unique classes.\n",
    "        \"\"\"\n",
    "        \n",
    "        # copy over the data and one-hot-encode Y\n",
    "        X_data, y_data = X.copy(), y.copy()\n",
    "        Y_enc = self._encode_labels(y)\n",
    "        \n",
    "        # init weights and setup matrices\n",
    "        self.n_features_ = X_data.shape[1]\n",
    "        self.n_output_ = Y_enc.shape[0]\n",
    "        self.W1, self.W2 = self._initialize_weights()\n",
    "\n",
    "        #------------------------------------------\n",
    "        # ENTER YOUR CODE HERE here to initialize \n",
    "        # self.grad_w1_ and self.grad_w2_\n",
    "        self.grad_w1_=np.ones((self.epochs))\n",
    "        self.grad_w2_=np.ones((self.epochs))\n",
    "        #------------------------------------------\n",
    "\n",
    "        # run training for specified number of iterations\n",
    "        for i in range(self.epochs):\n",
    "\n",
    "            # feedforward all instances\n",
    "            A1, Z1, A2, Z2, A3 = self._feedforward(X_data,self.W1,self.W2)\n",
    "\n",
    "            # compute gradient via backpropagation\n",
    "            # WE HAVE NOT YET WRITTEN THE GRADIENT FUNCTION YET\n",
    "            grad1, grad2 = self._get_gradient(A1=A1, A2=A2, A3=A3, Z1=Z1, Z2=Z2, Y=Y_enc,\n",
    "                                              W1=self.W1, W2=self.W2)\n",
    "            \n",
    "            #------------------------------------------\n",
    "            # ENTER YOUR CODE HERE to keep track of the \n",
    "            # magnitude of gradients grad_w1_ and grad_w2_\n",
    "            self.grad_w1_[i]=np.mean(grad1)\n",
    "            self.grad_w2_[i]=np.mean(grad2)\n",
    "            #------------------------------------------\n",
    "\n",
    "            # update each matrix to minimize objective function\n",
    "            self.W1 -= self.eta * grad1\n",
    "            self.W2 -= self.eta * grad2\n",
    "            \n",
    "\n",
    "        return self\n",
    "    "
   ]
  },
  {
   "cell_type": "markdown",
   "metadata": {
    "colab_type": "text",
    "id": "UY0lWT-Xq2BY"
   },
   "source": [
    "**Exercise 1:** In the code above, add class properties (variables), `grad_w1_` and `grad_w2_` that save the average magnitude of the gradient for each layer at every epoch. That is, if you ran the `fit` function for 50 epochs, `grad_w1_` and `grad_w2_` would be 50 element vectors when training is complete.\n",
    "\n",
    "When training is completed, `grad_w1_` and `grad_w2_` should be accessible using dot notation from the class object, as shown in the example syntax below. \n",
    "\n",
    "```\n",
    "clf = TwoLayerPerceptron()\n",
    "clf.fit(X,y)\n",
    "clf.grad_w1_ \n",
    "clf.grad_w2_\n",
    "```\n",
    "___"
   ]
  },
  {
   "cell_type": "markdown",
   "metadata": {
    "colab_type": "text",
    "id": "1ZfofF4Pq2Ba"
   },
   "source": [
    "## Adding the Gradient Calculation\n",
    "From the videos, recall that the the sensitivities, $\\mathbf{V}$, can be calculated as follows:\n",
    "\n",
    "$$ \\mathbf{V}^{(2)} = -2(\\mathbf{Y}-\\mathbf{A}^{(3)})*\\mathbf{A}^{(3)}*(1-\\mathbf{A}^{(3)}) $$\n",
    "$$ \\mathbf{V}^{(1)} =  \\mathbf{A}^{(2)} * (1-\\mathbf{A}^{(2)}) * [\\mathbf{W}^{(2)}]^T \\cdot \\mathbf{V}^{(2)}  $$\n",
    "\n",
    "Once we have these sensitivities, its easy to calculate the gradient of each layer. The gradient of the objective function with respect to the final layer $\\mathbf{W}^{(2)}$ can be calculated with:\n",
    "$$  \\frac{\\nabla J(\\mathbf{W})}{\\partial\\mathbf{W}^{(2)}} = \\mathbf{V}^{(2)}\\cdot [\\mathbf{A}^{(2)}]^T $$\n",
    "\n",
    "And the gradient of the objective function with respect to the first layer $\\mathbf{W}^{(2)}$ can be calculated with: \n",
    "$$  \\frac{\\nabla J(\\mathbf{W})}{\\partial\\mathbf{W}^{(1)}} = \\mathbf{V}^{(1)}\\cdot [\\mathbf{A}^{(1)}]^T $$\n",
    "\n",
    "___\n",
    "** Exercise 2:** In the code below, use numpy linear algebra functions to calculate the sensitivities at each layer, $\\mathbf{V}^{(1)}$ and $\\mathbf{V}^{(2)}$. This will complete the `_get_gradient` private method."
   ]
  },
  {
   "cell_type": "code",
   "execution_count": 0,
   "metadata": {
    "colab": {},
    "colab_type": "code",
    "id": "9PxB7lulq2Bc"
   },
   "outputs": [],
   "source": [
    "class TwoLayerPerceptronVect(TwoLayerPerceptron):\n",
    "    # just need a different gradient calculation\n",
    "    def _get_gradient(self, A1, A2, A3, Z1, Z2, Y, W1, W2):\n",
    "        \"\"\" Compute gradient step using backpropagation.\n",
    "        \"\"\"\n",
    "        \n",
    "        #---------------------------------\n",
    "        # ENTER YOUR CODE HERE to\n",
    "        # calculate the sensitivities\n",
    "        V2 = -2*(Y-A3)*(A3)*(1-A3)\n",
    "        V1 = A2*(1-A2)*((W2.T)@V2)\n",
    "        #---------------------------------\n",
    "        \n",
    "        grad2 = V2 @ A2.T\n",
    "        grad1 = V1[1:,:] @ A1.T # don't include added bias term in recurrence relation\n",
    "\n",
    "        return grad1, grad2\n",
    "    \n"
   ]
  },
  {
   "cell_type": "code",
   "execution_count": 0,
   "metadata": {
    "colab": {
     "base_uri": "https://localhost:8080/",
     "height": 1000
    },
    "colab_type": "code",
    "id": "hdXclTOxcrbf",
    "outputId": "47e3c1b1-e2a6-493b-c0f3-d61ad0f41cf8"
   },
   "outputs": [
    {
     "data": {
      "text/plain": [
       "array([ 7.87163775e+01,  2.42980418e+01,  4.28888503e+00,  1.79693585e+00,\n",
       "        8.34858975e-01,  2.83899996e-01, -6.35279712e-02, -2.93415491e-01,\n",
       "       -4.50184429e-01, -5.59529562e-01, -6.37044300e-01, -6.92162235e-01,\n",
       "       -7.30339545e-01, -7.54506073e-01, -7.66157463e-01, -7.66208137e-01,\n",
       "       -7.55604418e-01, -7.35636398e-01, -7.07905685e-01, -6.74014864e-01,\n",
       "       -6.35171612e-01, -5.91931632e-01, -5.44207878e-01, -4.91534644e-01,\n",
       "       -4.33487102e-01, -3.70123466e-01, -3.02296125e-01, -2.31679090e-01,\n",
       "       -1.60447904e-01, -9.07347973e-02, -2.41341236e-02,  3.85086880e-02,\n",
       "        9.70010684e-02,  1.51553339e-01,  2.02542090e-01,  2.50361975e-01,\n",
       "        2.95358675e-01,  3.37808680e-01,  3.77919225e-01,  4.15835417e-01,\n",
       "        4.51649834e-01,  4.85413018e-01,  5.17144169e-01,  5.46841473e-01,\n",
       "        5.74491631e-01,  6.00078206e-01,  6.23588539e-01,  6.45019087e-01,\n",
       "        6.64379152e-01,  6.81693076e-01,  6.97001063e-01,  7.10358854e-01,\n",
       "        7.21836507e-01,  7.31516536e-01,  7.39491670e-01,  7.45862434e-01,\n",
       "        7.50734728e-01,  7.54217546e-01,  7.56420903e-01,  7.57454048e-01,\n",
       "        7.57423967e-01,  7.56434182e-01,  7.54583830e-01,  7.51967000e-01,\n",
       "        7.48672287e-01,  7.44782535e-01,  7.40374735e-01,  7.35520046e-01,\n",
       "        7.30283913e-01,  7.24726259e-01,  7.18901723e-01,  7.12859934e-01,\n",
       "        7.06645813e-01,  7.00299874e-01,  6.93858535e-01,  6.87354417e-01,\n",
       "        6.80816637e-01,  6.74271090e-01,  6.67740711e-01,  6.61245723e-01,\n",
       "        6.54803866e-01,  6.48430614e-01,  6.42139371e-01,  6.35941651e-01,\n",
       "        6.29847245e-01,  6.23864374e-01,  6.17999829e-01,  6.12259099e-01,\n",
       "        6.06646487e-01,  6.01165221e-01,  5.95817551e-01,  5.90604843e-01,\n",
       "        5.85527663e-01,  5.80585857e-01,  5.75778628e-01,  5.71104602e-01,\n",
       "        5.66561893e-01,  5.62148170e-01,  5.57860709e-01,  5.53696450e-01,\n",
       "        5.49652051e-01,  5.45723931e-01,  5.41908321e-01,  5.38201305e-01,\n",
       "        5.34598859e-01,  5.31096887e-01,  5.27691260e-01,  5.24377843e-01,\n",
       "        5.21152525e-01,  5.18011242e-01,  5.14950007e-01,  5.11964923e-01,\n",
       "        5.09052201e-01,  5.06208181e-01,  5.03429336e-01,  5.00712287e-01,\n",
       "        4.98053808e-01,  4.95450832e-01,  4.92900454e-01,  4.90399930e-01,\n",
       "        4.87946680e-01,  4.85538282e-01,  4.83172469e-01,  4.80847127e-01,\n",
       "        4.78560284e-01,  4.76310106e-01,  4.74094889e-01,  4.71913049e-01,\n",
       "        4.69763115e-01,  4.67643719e-01,  4.65553587e-01,  4.63491529e-01,\n",
       "        4.61456433e-01,  4.59447251e-01,  4.57462995e-01,  4.55502727e-01,\n",
       "        4.53565552e-01,  4.51650609e-01,  4.49757068e-01,  4.47884121e-01,\n",
       "        4.46030977e-01,  4.44196859e-01,  4.42381002e-01,  4.40582642e-01,\n",
       "        4.38801023e-01,  4.37035389e-01,  4.35284984e-01,  4.33549052e-01,\n",
       "        4.31826837e-01,  4.30117583e-01,  4.28420533e-01,  4.26734935e-01,\n",
       "        4.25060039e-01,  4.23395101e-01,  4.21739386e-01,  4.20092166e-01,\n",
       "        4.18452732e-01,  4.16820385e-01,  4.15194450e-01,  4.13574270e-01,\n",
       "        4.11959213e-01,  4.10348676e-01,  4.08742085e-01,  4.07138896e-01,\n",
       "        4.05538601e-01,  4.03940728e-01,  4.02344843e-01,  4.00750552e-01,\n",
       "        3.99157499e-01,  3.97565371e-01,  3.95973898e-01,  3.94382848e-01,\n",
       "        3.92792035e-01,  3.91201313e-01,  3.89610574e-01,  3.88019755e-01,\n",
       "        3.86428827e-01,  3.84837802e-01,  3.83246723e-01,  3.81655672e-01,\n",
       "        3.80064760e-01,  3.78474127e-01,  3.76883943e-01,  3.75294402e-01,\n",
       "        3.73705722e-01,  3.72118141e-01,  3.70531917e-01,  3.68947322e-01,\n",
       "        3.67364644e-01,  3.65784180e-01,  3.64206241e-01,  3.62631141e-01,\n",
       "        3.61059202e-01,  3.59490748e-01,  3.57926106e-01,  3.56365603e-01,\n",
       "        3.54809564e-01,  3.53258310e-01,  3.51712160e-01,  3.50171425e-01,\n",
       "        3.48636412e-01,  3.47107417e-01,  3.45584731e-01,  3.44068633e-01,\n",
       "        3.42559393e-01,  3.41057271e-01,  3.39562515e-01,  3.38075363e-01,\n",
       "        3.36596039e-01,  3.35124756e-01,  3.33661717e-01,  3.32207111e-01,\n",
       "        3.30761114e-01,  3.29323892e-01,  3.27895598e-01,  3.26476372e-01,\n",
       "        3.25066344e-01,  3.23665633e-01,  3.22274344e-01,  3.20892574e-01,\n",
       "        3.19520408e-01,  3.18157921e-01,  3.16805177e-01,  3.15462232e-01,\n",
       "        3.14129132e-01,  3.12805913e-01,  3.11492605e-01,  3.10189227e-01,\n",
       "        3.08895792e-01,  3.07612305e-01,  3.06338765e-01,  3.05075162e-01,\n",
       "        3.03821483e-01,  3.02577705e-01,  3.01343803e-01,  3.00119744e-01,\n",
       "        2.98905493e-01,  2.97701007e-01,  2.96506242e-01,  2.95321147e-01,\n",
       "        2.94145669e-01,  2.92979751e-01,  2.91823334e-01,  2.90676353e-01,\n",
       "        2.89538745e-01,  2.88410439e-01,  2.87291367e-01,  2.86181455e-01,\n",
       "        2.85080630e-01,  2.83988816e-01,  2.82905934e-01,  2.81831908e-01,\n",
       "        2.80766656e-01,  2.79710099e-01,  2.78662155e-01,  2.77622741e-01,\n",
       "        2.76591776e-01,  2.75569175e-01,  2.74554855e-01,  2.73548732e-01,\n",
       "        2.72550723e-01,  2.71560743e-01,  2.70578709e-01,  2.69604536e-01,\n",
       "        2.68638142e-01,  2.67679442e-01,  2.66728353e-01,  2.65784794e-01,\n",
       "        2.64848681e-01,  2.63919933e-01,  2.62998468e-01,  2.62084207e-01,\n",
       "        2.61177067e-01,  2.60276971e-01,  2.59383839e-01,  2.58497593e-01,\n",
       "        2.57618155e-01,  2.56745449e-01,  2.55879399e-01,  2.55019928e-01,\n",
       "        2.54166964e-01,  2.53320431e-01,  2.52480258e-01,  2.51646371e-01,\n",
       "        2.50818700e-01,  2.49997174e-01,  2.49181722e-01,  2.48372277e-01,\n",
       "        2.47568770e-01,  2.46771134e-01,  2.45979302e-01,  2.45193209e-01,\n",
       "        2.44412790e-01,  2.43637980e-01,  2.42868717e-01,  2.42104937e-01,\n",
       "        2.41346580e-01,  2.40593584e-01,  2.39845889e-01,  2.39103437e-01,\n",
       "        2.38366168e-01,  2.37634024e-01,  2.36906949e-01,  2.36184885e-01,\n",
       "        2.35467779e-01,  2.34755574e-01,  2.34048217e-01,  2.33345654e-01,\n",
       "        2.32647832e-01,  2.31954699e-01,  2.31266205e-01,  2.30582298e-01,\n",
       "        2.29902928e-01,  2.29228045e-01,  2.28557602e-01,  2.27891550e-01,\n",
       "        2.27229842e-01,  2.26572430e-01,  2.25919268e-01,  2.25270312e-01,\n",
       "        2.24625515e-01,  2.23984833e-01,  2.23348223e-01,  2.22715641e-01,\n",
       "        2.22087045e-01,  2.21462391e-01,  2.20841639e-01,  2.20224747e-01,\n",
       "        2.19611675e-01,  2.19002383e-01,  2.18396831e-01,  2.17794980e-01,\n",
       "        2.17196791e-01,  2.16602227e-01,  2.16011249e-01,  2.15423821e-01,\n",
       "        2.14839906e-01,  2.14259468e-01,  2.13682471e-01,  2.13108879e-01,\n",
       "        2.12538659e-01,  2.11971775e-01,  2.11408194e-01,  2.10847882e-01,\n",
       "        2.10290805e-01,  2.09736932e-01,  2.09186230e-01,  2.08638666e-01,\n",
       "        2.08094211e-01,  2.07552831e-01,  2.07014497e-01,  2.06479179e-01,\n",
       "        2.05946845e-01,  2.05417468e-01,  2.04891017e-01,  2.04367463e-01,\n",
       "        2.03846779e-01,  2.03328936e-01,  2.02813905e-01,  2.02301661e-01,\n",
       "        2.01792175e-01,  2.01285421e-01,  2.00781372e-01,  2.00280002e-01,\n",
       "        1.99781286e-01,  1.99285197e-01,  1.98791712e-01,  1.98300804e-01,\n",
       "        1.97812450e-01,  1.97326624e-01,  1.96843304e-01,  1.96362465e-01,\n",
       "        1.95884085e-01,  1.95408140e-01,  1.94934607e-01,  1.94463464e-01,\n",
       "        1.93994688e-01,  1.93528259e-01,  1.93064153e-01,  1.92602350e-01,\n",
       "        1.92142829e-01,  1.91685569e-01,  1.91230549e-01,  1.90777749e-01,\n",
       "        1.90327148e-01,  1.89878728e-01,  1.89432469e-01,  1.88988350e-01,\n",
       "        1.88546354e-01,  1.88106461e-01,  1.87668653e-01,  1.87232911e-01,\n",
       "        1.86799217e-01,  1.86367554e-01,  1.85937904e-01,  1.85510249e-01,\n",
       "        1.85084573e-01,  1.84660857e-01,  1.84239087e-01,  1.83819244e-01,\n",
       "        1.83401313e-01,  1.82985277e-01,  1.82571121e-01,  1.82158829e-01,\n",
       "        1.81748386e-01,  1.81339776e-01,  1.80932984e-01,  1.80527995e-01,\n",
       "        1.80124795e-01,  1.79723369e-01,  1.79323702e-01,  1.78925782e-01,\n",
       "        1.78529593e-01,  1.78135122e-01,  1.77742355e-01,  1.77351280e-01,\n",
       "        1.76961882e-01,  1.76574149e-01,  1.76188068e-01,  1.75803626e-01,\n",
       "        1.75420811e-01,  1.75039610e-01,  1.74660011e-01,  1.74282002e-01,\n",
       "        1.73905572e-01,  1.73530708e-01,  1.73157398e-01,  1.72785633e-01,\n",
       "        1.72415399e-01,  1.72046687e-01,  1.71679485e-01,  1.71313782e-01,\n",
       "        1.70949568e-01,  1.70586832e-01,  1.70225563e-01,  1.69865752e-01,\n",
       "        1.69507388e-01,  1.69150461e-01,  1.68794962e-01,  1.68440881e-01,\n",
       "        1.68088207e-01,  1.67736932e-01,  1.67387046e-01,  1.67038540e-01,\n",
       "        1.66691405e-01,  1.66345631e-01,  1.66001211e-01,  1.65658134e-01,\n",
       "        1.65316393e-01,  1.64975979e-01,  1.64636882e-01,  1.64299096e-01,\n",
       "        1.63962612e-01,  1.63627421e-01,  1.63293516e-01,  1.62960888e-01,\n",
       "        1.62629531e-01,  1.62299435e-01,  1.61970593e-01,  1.61642998e-01,\n",
       "        1.61316643e-01,  1.60991519e-01,  1.60667620e-01,  1.60344939e-01,\n",
       "        1.60023467e-01,  1.59703199e-01,  1.59384127e-01,  1.59066245e-01,\n",
       "        1.58749545e-01,  1.58434020e-01,  1.58119665e-01,  1.57806473e-01,\n",
       "        1.57494437e-01,  1.57183550e-01,  1.56873807e-01,  1.56565201e-01,\n",
       "        1.56257725e-01,  1.55951374e-01,  1.55646142e-01,  1.55342022e-01,\n",
       "        1.55039009e-01,  1.54737096e-01,  1.54436279e-01,  1.54136550e-01,\n",
       "        1.53837904e-01,  1.53540336e-01,  1.53243841e-01,  1.52948411e-01,\n",
       "        1.52654043e-01,  1.52360730e-01,  1.52068467e-01,  1.51777250e-01,\n",
       "        1.51487071e-01,  1.51197927e-01,  1.50909812e-01,  1.50622721e-01,\n",
       "        1.50336648e-01,  1.50051589e-01,  1.49767539e-01,  1.49484493e-01])"
      ]
     },
     "execution_count": 7,
     "metadata": {
      "tags": []
     },
     "output_type": "execute_result"
    }
   ],
   "source": [
    "clf = TwoLayerPerceptronVect()\n",
    "clf.fit(X,y)\n",
    "clf.grad_w1_\n",
    "clf.grad_w2_"
   ]
  },
  {
   "cell_type": "markdown",
   "metadata": {
    "colab_type": "text",
    "id": "7QZ1z7zyq2Bh"
   },
   "source": [
    "___\n",
    "<a id=\"vis\"></a>\n",
    "<a href=\"#top\">Back to Top</a>\n",
    "\n",
    "# Visualizing Back Propagation\n",
    "Now let's test the code you wrote above to perform gradient calculations and save the magnitude of the gradient at each epoch. Run the code in the cell below. If it runs and the accuracy is relatively high, it is likely that your sensitivity calculation above was written correctly.\n",
    "\n",
    "*If it does not run or the accuracy is low, there is probably something wrong with the sensitivity calculation. Try to fix it before moving on.*"
   ]
  },
  {
   "cell_type": "code",
   "execution_count": 0,
   "metadata": {
    "colab": {
     "base_uri": "https://localhost:8080/",
     "height": 34
    },
    "colab_type": "code",
    "id": "obLEbu4_q2Bi",
    "outputId": "12654f7e-879e-41ab-dd86-13d97c5f2a39"
   },
   "outputs": [
    {
     "data": {
      "text/plain": [
       "0.9821925431274346"
      ]
     },
     "execution_count": 8,
     "metadata": {
      "tags": []
     },
     "output_type": "execute_result"
    }
   ],
   "source": [
    "clf = TwoLayerPerceptronVect(n_hidden=10, epochs=1500, eta=0.001)\n",
    "clf.fit(X,y)\n",
    "\n",
    "from sklearn.metrics import accuracy_score\n",
    "yhat = clf.predict(X)\n",
    "accuracy_score(y,yhat)"
   ]
  },
  {
   "cell_type": "markdown",
   "metadata": {
    "colab_type": "text",
    "id": "JUADDFUVq2Bo"
   },
   "source": [
    "___\n",
    "## Visualizing the gradients\n",
    "Now let's check your calculation of the average gradient magnitude. Run the code below to visualize the average gradient magnitude versus the epochs run while training. \n",
    "\n",
    "*If the code below does not run, you likely have an error in your calculation of the average gradient magnitude.*"
   ]
  },
  {
   "cell_type": "code",
   "execution_count": 0,
   "metadata": {
    "colab": {
     "base_uri": "https://localhost:8080/",
     "height": 279
    },
    "colab_type": "code",
    "id": "iwPutXvRq2Bq",
    "outputId": "15bc74dd-8c51-4d19-846a-0f2f95ee7a0b"
   },
   "outputs": [
    {
     "data": {
      "image/png": "[encoded data removed]",
      "text/plain": [
       "<Figure size 432x288 with 1 Axes>"
      ]
     },
     "metadata": {
      "tags": []
     },
     "output_type": "display_data"
    }
   ],
   "source": [
    "ax = plt.subplot(1,1,1)\n",
    "plt.plot(abs(clf.grad_w1_[10:]), label='w1')\n",
    "plt.plot(abs(clf.grad_w2_[10:]), label='w2')\n",
    "plt.legend()\n",
    "plt.ylabel('Average gradient magnitude')\n",
    "plt.xlabel('Iteration')\n",
    "plt.show()"
   ]
  },
  {
   "cell_type": "markdown",
   "metadata": {
    "colab_type": "text",
    "id": "yucrFwa_q2Bt"
   },
   "source": [
    "**Question 5:** In the plot above, you should see that one layer always has a larger gradient magnitude than the other layer. \n",
    "\n",
    "- **Part A:** Which layer always has the larger magnitude? Why do you think this particular layer always has a larger magnitude? \n",
    "- **Part B:** If one layer has a larger gradient, does this also mean that the weights for that layer are training more quickly (that is, with fewer iterations)? Is that desireable for training the neural network? Explain your reasoning. "
   ]
  },
  {
   "cell_type": "markdown",
   "metadata": {
    "colab_type": "text",
    "id": "SyVScuOyq2Bu"
   },
   "source": [
    "*Enter you answer here (double click to edit)*\n",
    "\n",
    "- Part A: W2 akways has the larger gradiant magnitude\n",
    "- Part B: If we have too many iterations, we may start to over fit the data. This will start to cause an increase in the error of our fit. This is bad. Thus we want to make sure we do not have too many iterations. On the other hand, too few and we could have issues generalizing our data, and thus will miss identify. Since the goal is to have a good generalization to do well on unseen examples, we want fewer iterations to avoid over fitting the data. So it is better to have fewer iterations.\n",
    "\n",
    "___"
   ]
  },
  {
   "cell_type": "markdown",
   "metadata": {
    "colab_type": "text",
    "id": "XXkbCWgxq2Bv"
   },
   "source": [
    "**Final Exercise:** In the block of code below, come up with an adaptive scheme to mitigate the effect of unequal magnitude gradients in each layer. Your algorithm should not 'break' the optimization algorithm (*i.e.*, the accuracy should remain somewhat high). Save the magnitude of the resulting update for each layer. \n",
    "\n",
    "Explain your scheme below (that is, document what your adaptive algorithm does) and then implement your strategy below. "
   ]
  },
  {
   "cell_type": "markdown",
   "metadata": {
    "colab_type": "text",
    "id": "mbIo_8iSq2Bw"
   },
   "source": [
    "___\n",
    "Enter description here (*double click to edit*)\n",
    "\n",
    "For preventing unequal gradients, we decided to use RMSProp.\n",
    "___"
   ]
  },
  {
   "cell_type": "code",
   "execution_count": 0,
   "metadata": {
    "colab": {
     "base_uri": "https://localhost:8080/",
     "height": 295
    },
    "colab_type": "code",
    "id": "qPlUliIlq2Bx",
    "outputId": "af98bc3b-9d89-42b4-9a83-341b65b0703d"
   },
   "outputs": [
    {
     "name": "stdout",
     "output_type": "stream",
     "text": [
      "0.9577072899276572\n"
     ]
    },
    {
     "data": {
      "image/png": "[encoded data removed]",
      "text/plain": [
       "<Figure size 432x288 with 1 Axes>"
      ]
     },
     "metadata": {
      "tags": []
     },
     "output_type": "display_data"
    }
   ],
   "source": [
    "class TwoLayerPerceptronNew(TwoLayerPerceptronVect):\n",
    "    def fit(self, X, y):\n",
    "        \"\"\" Learn weights from training data.\n",
    "            Input X should be a matrix with separate instances\n",
    "            in each row, and separate features in each column.\n",
    "            The target variable, y, should be integer values \n",
    "            starting from zero, that represent the unique classes.\n",
    "        \"\"\"\n",
    "        \n",
    "        # copy over the data and one-hot-encode Y\n",
    "        X_data, y_data = X.copy(), y.copy()\n",
    "        Y_enc = self._encode_labels(y)\n",
    "        \n",
    "        # init weights and setup matrices\n",
    "        self.n_features_ = X_data.shape[1]\n",
    "        self.n_output_ = Y_enc.shape[0]\n",
    "        self.W1, self.W2 = self._initialize_weights()\n",
    "\n",
    "        #------------------------------------------\n",
    "        # Enter you Code here to initialize \n",
    "        # self.grad_w1_ and self.grad_w2_\n",
    "        self.grad_w1_=np.ones((self.epochs))\n",
    "        self.grad_w2_=np.ones((self.epochs))\n",
    "        #------------------------------------------\n",
    "\n",
    "        epsilon = 1e-8\n",
    "        # run training for specified number of iterations\n",
    "        eta1 = 0\n",
    "        eta2 = 0\n",
    "        for i in range(self.epochs):\n",
    "\n",
    "            # feedforward all instances\n",
    "            A1, Z1, A2, Z2, A3 = self._feedforward(X_data,self.W1,self.W2)\n",
    "\n",
    "            # compute gradient via backpropagation\n",
    "            grad1, grad2 = self._get_gradient(A1=A1, A2=A2, A3=A3, Z1=Z1, Z2=Z2, Y=Y_enc,\n",
    "                                              W1=self.W1, W2=self.W2)\n",
    "            \n",
    "            #------------------------------------------\n",
    "            # ENTER YOUR CODE HERE to keep track of the \n",
    "            #    average magnitude of gradient of each layer \n",
    "            #    grad_w1_ and grad_w2_\n",
    "            #    and make the eta values for each adaptive \n",
    "            \n",
    "            self.grad_w1_[i]=np.mean(grad1)\n",
    "            self.grad_w2_[i]=np.mean(grad2)\n",
    "\n",
    "            # Using RMSProp\n",
    "\n",
    "            eta1 = 0.9 * eta1 + 0.1 * grad1 * grad1\n",
    "            eta2 = 0.9 * eta2 + 0.1 * grad2 * grad2\n",
    "            \n",
    "            #------------------------------------------\n",
    "\n",
    "            # update each matrix to minimize objective function\n",
    "            self.W1 -= (self.eta / np.sqrt(eta1)) * grad1\n",
    "            self.W2 -= (self.eta / np.sqrt(eta2)) * grad2\n",
    "            \n",
    "        return self\n",
    "    \n",
    "    \n",
    "clf2 = TwoLayerPerceptronNew(n_hidden=10, epochs=1500, eta=0.001)\n",
    "clf2.fit(X,y)\n",
    "\n",
    "from sklearn.metrics import accuracy_score\n",
    "yhat = clf2.predict(X)\n",
    "print(accuracy_score(y,yhat))\n",
    "\n",
    "ax = plt.subplot(1,1,1)\n",
    "plt.plot(abs(clf2.grad_w1_[10:]), label='w1')\n",
    "plt.plot(abs(clf2.grad_w2_[10:]), label='w2')\n",
    "plt.legend()\n",
    "plt.ylabel('Average gradient magnitude')\n",
    "plt.xlabel('Iteration')\n",
    "plt.show()"
   ]
  },
  {
   "cell_type": "markdown",
   "metadata": {
    "colab_type": "text",
    "id": "Yz8rRJLmq2B0"
   },
   "source": [
    "________________________________________________________________________________________________________\n",
    "\n",
    "That's all! Please **save (make sure you saved!!!) and upload your rendered notebook** and please include **team member names** in the notebook submission."
   ]
  },
  {
   "cell_type": "code",
   "execution_count": 0,
   "metadata": {
    "colab": {},
    "colab_type": "code",
    "id": "Af0eAdQxq2B2"
   },
   "outputs": [],
   "source": []
  }
 ],
 "metadata": {
  "anaconda-cloud": {},
  "colab": {
   "collapsed_sections": [],
   "name": "ICA3_MachineLearning.ipynb",
   "provenance": []
  },
  "kernelspec": {
   "display_name": "Python 3",
   "language": "python",
   "name": "python3"
  },
  "language_info": {
   "codemirror_mode": {
    "name": "ipython",
    "version": 3
   },
   "file_extension": ".py",
   "mimetype": "text/x-python",
   "name": "python",
   "nbconvert_exporter": "python",
   "pygments_lexer": "ipython3",
   "version": "3.7.4"
  }
 },
 "nbformat": 4,
 "nbformat_minor": 1
}
