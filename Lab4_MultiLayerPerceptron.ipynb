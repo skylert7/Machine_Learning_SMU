{
 "cells": [
  {
   "cell_type": "markdown",
   "metadata": {
    "colab_type": "text",
    "id": "GtO2JgLNV8lz"
   },
   "source": [
    "# Lab Four: Multi-Layer Perceptron\n"
   ]
  },
  {
   "cell_type": "markdown",
   "metadata": {
    "colab_type": "text",
    "id": "7ZhRjxC4QROl"
   },
   "source": [
    "### Skyler Tran, Taylor Slaton"
   ]
  },
  {
   "cell_type": "code",
   "execution_count": 35,
   "metadata": {
    "colab": {
     "base_uri": "https://localhost:8080/",
     "height": 50
    },
    "colab_type": "code",
    "id": "K-ka-jz6U995",
    "outputId": "0fc4d270-24d6-4021-a658-6b53c3fe9fbf"
   },
   "outputs": [
    {
     "name": "stdout",
     "output_type": "stream",
     "text": [
      "This is Taylor checking in\n",
      "Skyler\n"
     ]
    }
   ],
   "source": [
    "print(\"This is Taylor checking in\")\n",
    "print(\"Skyler\")"
   ]
  },
  {
   "cell_type": "code",
   "execution_count": 0,
   "metadata": {
    "colab": {},
    "colab_type": "code",
    "id": "B5xoN7jyvBko"
   },
   "outputs": [],
   "source": [
    "import numpy as np\n",
    "import matplotlib.pyplot as plt\n",
    "import seaborn as sns\n",
    "import pandas as pd\n",
    "\n",
    "\n",
    "import warnings\n",
    "warnings.simplefilter('ignore', DeprecationWarning)\n",
    "%matplotlib inline \n",
    "\n",
    "import missingno as mn\n"
   ]
  },
  {
   "cell_type": "code",
   "execution_count": 37,
   "metadata": {
    "colab": {
     "base_uri": "https://localhost:8080/",
     "height": 34
    },
    "colab_type": "code",
    "id": "qzx5eMpDD6Fu",
    "outputId": "e100ecab-ef0c-4dcb-d155-d45175cac1ce"
   },
   "outputs": [
    {
     "name": "stdout",
     "output_type": "stream",
     "text": [
      "Drive already mounted at /content/drive; to attempt to forcibly remount, call drive.mount(\"/content/drive\", force_remount=True).\n"
     ]
    }
   ],
   "source": [
    "# Mount google drive folder\n",
    "# This will prompt for authorization.\n",
    "\n",
    "from google.colab import drive\n",
    "drive.mount('/content/drive')\n",
    "\n",
    "# Read in data from csv and put in pandas\n",
    "\n",
    "raw_data = pd.read_csv('/content/drive/My Drive/ML_Spring2020/Lab4/lab4_dataset.csv')\n",
    "\n",
    "# raw_data = pd.read_csv('./lab4_dataset.csv')"
   ]
  },
  {
   "cell_type": "code",
   "execution_count": 38,
   "metadata": {
    "colab": {
     "base_uri": "https://localhost:8080/",
     "height": 34
    },
    "colab_type": "code",
    "id": "simwv5Wav967",
    "outputId": "14b6170b-473d-4e36-e049-32e6cb064963"
   },
   "outputs": [
    {
     "name": "stdout",
     "output_type": "stream",
     "text": [
      "lab4_dataset.csv  Lab4.ipynb\n"
     ]
    }
   ],
   "source": [
    "# View content in folder\n",
    "!ls \"/content/drive/My Drive/ML_Spring2020/Lab4\""
   ]
  },
  {
   "cell_type": "markdown",
   "metadata": {
    "colab_type": "text",
    "id": "Vu1Owa01WRJA"
   },
   "source": [
    "## Load, Split, and Balance ***(15 points)***"
   ]
  },
  {
   "cell_type": "markdown",
   "metadata": {
    "colab_type": "text",
    "id": "ha2t6Gh5Wbe3"
   },
   "source": [
    "### ***5 points***\n",
    "Load the data into memory and save it to a pandas data frame. Do not normalize or one-hot encode any of the variables until asked to do so.  Remove any observations that having missing data. Encode any string data as integers for now. \n"
   ]
  },
  {
   "cell_type": "markdown",
   "metadata": {
    "colab_type": "text",
    "id": "U2G3s7SDU8Ux"
   },
   "source": [
    "*Comment from student: I have removed rows that have missing data and ended up with 72718 entries.*"
   ]
  },
  {
   "cell_type": "code",
   "execution_count": 0,
   "metadata": {
    "colab": {},
    "colab_type": "code",
    "id": "VltdXUQDWl6G"
   },
   "outputs": [],
   "source": [
    "# code here"
   ]
  },
  {
   "cell_type": "code",
   "execution_count": 40,
   "metadata": {
    "colab": {
     "base_uri": "https://localhost:8080/",
     "height": 725
    },
    "colab_type": "code",
    "id": "01h7mEiGE72X",
    "outputId": "c797e292-039d-492f-eb2a-e1290445145a"
   },
   "outputs": [
    {
     "name": "stdout",
     "output_type": "stream",
     "text": [
      "<class 'pandas.core.frame.DataFrame'>\n",
      "RangeIndex: 72718 entries, 0 to 72717\n",
      "Data columns (total 35 columns):\n",
      " #   Column            Non-Null Count  Dtype  \n",
      "---  ------            --------------  -----  \n",
      " 0   State             72718 non-null  int64  \n",
      " 1   TotalPop          72718 non-null  int64  \n",
      " 2   Men               72718 non-null  int64  \n",
      " 3   Women             72718 non-null  int64  \n",
      " 4   Hispanic          72718 non-null  float64\n",
      " 5   White             72718 non-null  float64\n",
      " 6   Black             72718 non-null  float64\n",
      " 7   Native            72718 non-null  float64\n",
      " 8   Asian             72718 non-null  float64\n",
      " 9   Pacific           72718 non-null  float64\n",
      " 10  VotingAgeCitizen  72718 non-null  int64  \n",
      " 11  Income            72718 non-null  int64  \n",
      " 12  IncomeErr         72718 non-null  int64  \n",
      " 13  IncomePerCap      72718 non-null  int64  \n",
      " 14  IncomePerCapErr   72718 non-null  int64  \n",
      " 15  Poverty           72718 non-null  float64\n",
      " 16  ChildPoverty      72718 non-null  float64\n",
      " 17  Professional      72718 non-null  float64\n",
      " 18  Service           72718 non-null  float64\n",
      " 19  Office            72718 non-null  float64\n",
      " 20  Construction      72718 non-null  float64\n",
      " 21  Production        72718 non-null  float64\n",
      " 22  Drive             72718 non-null  float64\n",
      " 23  Carpool           72718 non-null  float64\n",
      " 24  Transit           72718 non-null  float64\n",
      " 25  Walk              72718 non-null  float64\n",
      " 26  OtherTransp       72718 non-null  float64\n",
      " 27  WorkAtHome        72718 non-null  float64\n",
      " 28  MeanCommute       72718 non-null  float64\n",
      " 29  Employed          72718 non-null  int64  \n",
      " 30  PrivateWork       72718 non-null  float64\n",
      " 31  PublicWork        72718 non-null  float64\n",
      " 32  SelfEmployed      72718 non-null  float64\n",
      " 33  FamilyWork        72718 non-null  float64\n",
      " 34  Unemployment      72718 non-null  float64\n",
      "dtypes: float64(25), int64(10)\n",
      "memory usage: 19.4 MB\n"
     ]
    }
   ],
   "source": [
    "# Read in data from csv and put in pandas\n",
    "from sklearn.preprocessing import LabelEncoder\n",
    "\n",
    "raw_data = pd.read_csv('/content/drive/My Drive/ML_Spring2020/Lab4/lab4_dataset.csv')\n",
    "\n",
    "true_raw_data = pd.read_csv('/content/drive/My Drive/ML_Spring2020/Lab4/lab4_dataset.csv')\n",
    "# Remove two columns\n",
    "raw_data = raw_data.drop(columns=['TractId', 'County'])\n",
    "true_raw_data = true_raw_data.drop(columns=['TractId', 'County'])\n",
    "\n",
    "# Getting unique states before label encoding them\n",
    "state = raw_data['State'].unique()\n",
    "\n",
    "state_label = [x for x in range(len(state))]\n",
    "\n",
    "LE = LabelEncoder()\n",
    "raw_data['State'] = LE.fit_transform(raw_data['State'])\n",
    "\n",
    "# raw_data = raw_data.astype('float64').dtypes\n",
    "raw_data.info()"
   ]
  },
  {
   "cell_type": "markdown",
   "metadata": {
    "colab_type": "text",
    "id": "U7P3zBgMWnuH"
   },
   "source": [
    "### ***5 points***\n",
    "Assume you are equally interested in the classification performance for each class in the dataset. Split the dataset into 80% for training and 20% for testing."
   ]
  },
  {
   "cell_type": "code",
   "execution_count": 0,
   "metadata": {
    "colab": {},
    "colab_type": "code",
    "id": "ftcQSIjuWxdH"
   },
   "outputs": [],
   "source": [
    "# code here"
   ]
  },
  {
   "cell_type": "code",
   "execution_count": 0,
   "metadata": {
    "colab": {},
    "colab_type": "code",
    "id": "QnM3mT06GJcD"
   },
   "outputs": [],
   "source": [
    "# divide training / testing\n",
    "from sklearn.model_selection import train_test_split\n",
    "from sklearn import datasets\n",
    "from sklearn import svm\n",
    "\n",
    "X_train, X_test, Y_train, Y_test = train_test_split(raw_data, raw_data['ChildPoverty'], test_size=0.20)"
   ]
  },
  {
   "cell_type": "markdown",
   "metadata": {
    "colab_type": "text",
    "id": "UJ8eIBXMW01P"
   },
   "source": [
    "### ***5 points***\n",
    "Balance the dataset so that about the same number of instances are within each class. Choose a method for balancing the dataset and explain your reasoning for selecting this method. One option is to choose quantization thresholds for the \"ChildPoverty\" variable that equally divide the data into four classes. Should balancing of the dataset be done for both the training and testing set? Explain."
   ]
  },
  {
   "cell_type": "code",
   "execution_count": 43,
   "metadata": {
    "colab": {
     "base_uri": "https://localhost:8080/",
     "height": 455
    },
    "colab_type": "code",
    "id": "kYY-CHB9fzze",
    "outputId": "6e4d063e-69ac-419f-e5fa-92cf15a9c60a"
   },
   "outputs": [
    {
     "name": "stdout",
     "output_type": "stream",
     "text": [
      "0.0     3896\n",
      "2.0      227\n",
      "2.2      223\n",
      "2.4      212\n",
      "1.3      212\n",
      "        ... \n",
      "92.8       1\n",
      "90.9       1\n",
      "93.2       1\n",
      "84.4       1\n",
      "94.6       1\n",
      "Name: ChildPoverty, Length: 951, dtype: int64\n",
      "0.0     990\n",
      "2.7      60\n",
      "1.7      59\n",
      "1.2      58\n",
      "2.6      57\n",
      "       ... \n",
      "95.9      1\n",
      "85.6      1\n",
      "89.5      1\n",
      "75.8      1\n",
      "88.8      1\n",
      "Name: ChildPoverty, Length: 841, dtype: int64\n",
      "(58174, 35)\n",
      "(14544, 35)\n"
     ]
    }
   ],
   "source": [
    "print(Y_train.value_counts())\n",
    "print(Y_test.value_counts())\n",
    "print(X_train.shape)\n",
    "print(X_test.shape)"
   ]
  },
  {
   "cell_type": "code",
   "execution_count": 44,
   "metadata": {
    "colab": {
     "base_uri": "https://localhost:8080/",
     "height": 282
    },
    "colab_type": "code",
    "id": "hKvBGjBGumNR",
    "outputId": "43d13712-0188-44f3-a348-53b688ea5e60"
   },
   "outputs": [
    {
     "data": {
      "text/plain": [
       "<matplotlib.axes._subplots.AxesSubplot at 0x7f0507437470>"
      ]
     },
     "execution_count": 44,
     "metadata": {
      "tags": []
     },
     "output_type": "execute_result"
    },
    {
     "data": {
      "image/png": "[encoded data removed]",
      "text/plain": [
       "<Figure size 432x288 with 1 Axes>"
      ]
     },
     "metadata": {
      "tags": []
     },
     "output_type": "display_data"
    }
   ],
   "source": [
    "# balance dataset\n",
    "raw_data['ChildPoverty'] = pd.qcut(raw_data['ChildPoverty'], 4, labels=[0, \n",
    "                                                                        1, \n",
    "                                                                        2, \n",
    "                                                                        3])\n",
    "\n",
    "raw_data['ChildPoverty'].hist()"
   ]
  },
  {
   "cell_type": "markdown",
   "metadata": {
    "colab_type": "text",
    "id": "gCnTZu0gXBeM"
   },
   "source": [
    "*We used pandas.qcut because it is meant to create equal sized buckets based on sample quantiles. This works for what we wanted this method to do. It allowed for an equal distribution.*"
   ]
  },
  {
   "cell_type": "code",
   "execution_count": 60,
   "metadata": {
    "colab": {
     "base_uri": "https://localhost:8080/",
     "height": 185
    },
    "colab_type": "code",
    "id": "IFk9dMpDw7CY",
    "outputId": "3f14c851-cf0a-4595-b49b-49cb18e781ab"
   },
   "outputs": [
    {
     "name": "stdout",
     "output_type": "stream",
     "text": [
      "[[0.000e+00 1.845e+03 8.990e+02 ... 4.500e+00 0.000e+00 4.600e+00]\n",
      " [0.000e+00 2.172e+03 1.167e+03 ... 9.000e+00 0.000e+00 3.400e+00]\n",
      " [0.000e+00 3.385e+03 1.533e+03 ... 4.800e+00 7.000e-01 4.700e+00]\n",
      " ...\n",
      " [3.900e+01 2.218e+03 1.001e+03 ... 8.000e+00 0.000e+00 2.300e+01]\n",
      " [3.900e+01 4.380e+03 1.964e+03 ... 1.900e+00 0.000e+00 2.950e+01]\n",
      " [3.900e+01 3.001e+03 1.343e+03 ... 5.000e+00 0.000e+00 1.790e+01]]\n",
      "[2, 3, 2, 0, 2, ..., 3, 3, 3, 3, 3]\n",
      "Length: 72718\n",
      "Categories (4, int64): [0 < 1 < 2 < 3]\n"
     ]
    }
   ],
   "source": [
    "sub_dataset = raw_data.drop(columns=['ChildPoverty'])\n",
    "X_train, X_test, Y_train, Y_test = train_test_split(sub_dataset.values,\n",
    "                                                    raw_data['ChildPoverty'].values,\n",
    "                                                    test_size=0.20)\n",
    "\n",
    "print(sub_dataset.values)\n",
    "print(raw_data['ChildPoverty'].values)\n"
   ]
  },
  {
   "cell_type": "markdown",
   "metadata": {
    "colab_type": "text",
    "id": "A7rqFfN7XKaL"
   },
   "source": [
    "*Balancing should be done on this dataset, as there are large percentage differences between the possible answers. When there is a large difference in percentage of the data, it makes sense to balance the data so that it comes out more accurate. Otherwise, the system can encouter inaccurate classification due to a lack of a specific dataset within each bucket.*\n",
    "\n"
   ]
  },
  {
   "cell_type": "markdown",
   "metadata": {
    "colab_type": "text",
    "id": "1QotHU7AXSQF"
   },
   "source": [
    "## Pre-Processing ***(25 points)***"
   ]
  },
  {
   "cell_type": "markdown",
   "metadata": {
    "colab_type": "text",
    "id": "Lp9lqaRvXZWi"
   },
   "source": [
    "### ***5 points***\n",
    "Use the example two-layer perceptron network from the class example and quantify performance using accuracy. Do not normalize or one-hot encode the data (not yet). Be sure that training converges by graphing the loss function versus the number of epochs."
   ]
  },
  {
   "cell_type": "code",
   "execution_count": 0,
   "metadata": {
    "colab": {},
    "colab_type": "code",
    "id": "A2sl4k_sXlUL"
   },
   "outputs": [],
   "source": [
    "# code here"
   ]
  },
  {
   "cell_type": "code",
   "execution_count": 0,
   "metadata": {
    "colab": {},
    "colab_type": "code",
    "id": "qrDYRkrIp3hl"
   },
   "outputs": [],
   "source": [
    "from scipy.special import expit\n",
    "import sys\n",
    "# from class example\n",
    "class TwoLayerPerceptronBase(object):\n",
    "    def __init__(self, n_hidden=30,\n",
    "                 C=0.0, epochs=500, eta=0.001, random_state=None):\n",
    "        np.random.seed(random_state)\n",
    "        self.n_hidden = n_hidden\n",
    "        self.l2_C = C\n",
    "        self.epochs = epochs\n",
    "        self.eta = eta\n",
    "        \n",
    "    @staticmethod\n",
    "    def _encode_labels(y):\n",
    "        \"\"\"Encode labels into one-hot representation\"\"\"\n",
    "        onehot = pd.get_dummies(y).values.T\n",
    "            \n",
    "        return onehot\n",
    "\n",
    "    def _initialize_weights(self):\n",
    "        \"\"\"Initialize weights with small random numbers.\"\"\"\n",
    "        W1_num_elems = (self.n_features_ + 1)*self.n_hidden\n",
    "        W1 = np.random.uniform(-1.0, 1.0, size=W1_num_elems)\n",
    "        W1 = W1.reshape(self.n_hidden, self.n_features_ + 1) # reshape to be W\n",
    "        \n",
    "        W2_num_elems = (self.n_hidden + 1)*self.n_output_\n",
    "        W2 = np.random.uniform(-1.0, 1.0, size=W2_num_elems)\n",
    "        W2 = W2.reshape(self.n_output_, self.n_hidden + 1)\n",
    "        return W1, W2\n",
    "    \n",
    "    @staticmethod\n",
    "    def _sigmoid(z):\n",
    "        \"\"\"Use scipy.special.expit to avoid overflow\"\"\"\n",
    "        # 1.0 / (1.0 + np.exp(-z))\n",
    "        return expit(z)\n",
    "    \n",
    "    @staticmethod\n",
    "    def _add_bias_unit(X, how='column'):\n",
    "        \"\"\"Add bias unit (column or row of 1s) to array at index 0\"\"\"\n",
    "        if how == 'column':\n",
    "            ones = np.ones((X.shape[0], 1))\n",
    "            X_new = np.hstack((ones, X))\n",
    "        elif how == 'row':\n",
    "            ones = np.ones((1, X.shape[1]))\n",
    "            X_new = np.vstack((ones, X))\n",
    "        return X_new\n",
    "    \n",
    "    @staticmethod\n",
    "    def _L2_reg(lambda_, W1, W2):\n",
    "        \"\"\"Compute L2-regularization cost\"\"\"\n",
    "        # only compute for non-bias terms\n",
    "        return (lambda_/2.0) * np.sqrt(np.mean(W1[:, 1:] ** 2) + np.mean(W2[:, 1:] ** 2))\n",
    "    \n",
    "    def _cost(self,A3,Y_enc,W1,W2):\n",
    "        '''Get the objective function value'''\n",
    "        cost = np.mean((Y_enc-A3)**2)\n",
    "        L2_term = self._L2_reg(self.l2_C, W1, W2)\n",
    "        return cost + L2_term\n"
   ]
  },
  {
   "cell_type": "code",
   "execution_count": 0,
   "metadata": {
    "colab": {},
    "colab_type": "code",
    "id": "dTaXdaGVqIW_"
   },
   "outputs": [],
   "source": [
    "# from class example\n",
    "class TwoLayerPerceptron(TwoLayerPerceptronBase):\n",
    "    def _feedforward(self, X, W1, W2):\n",
    "        \"\"\"Compute feedforward step\n",
    "        -----------\n",
    "        X : Input layer with original features.\n",
    "        W1: Weight matrix for input layer -> hidden layer.\n",
    "        W2: Weight matrix for hidden layer -> output layer.\n",
    "        ----------\n",
    "        a1-a3 : activations into layer (or output layer)\n",
    "        z1-z2 : layer inputs \n",
    "\n",
    "        \"\"\"\n",
    "        A1 = self._add_bias_unit(X.T, how='row')\n",
    "        Z1 = W1 @ A1\n",
    "        A2 = self._sigmoid(Z1)\n",
    "        A2 = self._add_bias_unit(A2, how='row')\n",
    "        Z2 = W2 @ A2\n",
    "        A3 = self._sigmoid(Z2)\n",
    "        return A1, Z1, A2, Z2, A3\n",
    "    \n",
    "    def _get_gradient(self, A1, A2, A3, Z1, Z2, Y_enc, W1, W2):\n",
    "        \"\"\" Compute gradient step using backpropagation.\n",
    "        \"\"\"\n",
    "        # vectorized backpropagation\n",
    "        V2 = -2*(Y_enc-A3)*A3*(1-A3)\n",
    "        V1 = A2*(1-A2)*(W2.T @ V2)\n",
    "        \n",
    "        grad2 = V2 @ A2.T\n",
    "        grad1 = V1[1:,:] @ A1.T\n",
    "        \n",
    "        \n",
    "        # regularize weights that are not bias terms\n",
    "        grad1[:, 1:] += W1[:, 1:] * self.l2_C\n",
    "        grad2[:, 1:] += W2[:, 1:] * self.l2_C\n",
    "\n",
    "        return grad1, grad2\n",
    "    \n",
    "    def predict(self, X):\n",
    "        \"\"\"Predict class labels\"\"\"\n",
    "        _, _, _, _, A3 = self._feedforward(X, self.W1, self.W2)\n",
    "        y_pred = np.argmax(A3, axis=0)\n",
    "        return y_pred\n",
    "    \n",
    "    \n",
    "    def fit(self, X, y, print_progress=False):\n",
    "        \"\"\" Learn weights from training data.\"\"\"\n",
    "        \n",
    "        X_data, y_data = X.copy(), y.copy()\n",
    "        Y_enc = self._encode_labels(y)\n",
    "        \n",
    "        # init weights and setup matrices\n",
    "        self.n_features_ = X_data.shape[1]\n",
    "        self.n_output_ = Y_enc.shape[0]\n",
    "        self.W1, self.W2 = self._initialize_weights()\n",
    "\n",
    "        self.cost_ = []\n",
    "        for i in range(self.epochs):\n",
    "\n",
    "            if print_progress>0 and (i+1)%print_progress==0:\n",
    "                sys.stderr.write('\\rEpoch: %d/%d' % (i+1, self.epochs))\n",
    "                sys.stderr.flush()\n",
    "\n",
    "            # feedforward all instances\n",
    "            A1, Z1, A2, Z2, A3 = self._feedforward(X_data,self.W1,self.W2)\n",
    "            \n",
    "            cost = self._cost(A3,Y_enc,self.W1,self.W2)\n",
    "            self.cost_.append(cost)\n",
    "\n",
    "            # compute gradient via backpropagation\n",
    "            grad1, grad2 = self._get_gradient(A1=A1, A2=A2, A3=A3, Z1=Z1, Z2=Z2, Y_enc=Y_enc,\n",
    "                                              W1=self.W1, W2=self.W2)\n",
    "\n",
    "            self.W1 -= self.eta * grad1\n",
    "            self.W2 -= self.eta * grad2\n",
    "            \n",
    "\n",
    "        return self"
   ]
  },
  {
   "cell_type": "code",
   "execution_count": 0,
   "metadata": {
    "colab": {},
    "colab_type": "code",
    "id": "RGT4fN46OjZD"
   },
   "outputs": [],
   "source": [
    "# This is original data\n",
    "dataframe1 = raw_data.drop(columns=['ChildPoverty'])\n",
    "X_train, X_test, Y_train, Y_test = train_test_split(dataframe1.values,\n",
    "                                                    raw_data['ChildPoverty'].values,\n",
    "                                                    test_size=0.20)"
   ]
  },
  {
   "cell_type": "code",
   "execution_count": 67,
   "metadata": {
    "colab": {
     "base_uri": "https://localhost:8080/",
     "height": 50
    },
    "colab_type": "code",
    "id": "g7IyH62PxYdq",
    "outputId": "2588fd50-09d5-4154-b2a0-c3bc89b259a1"
   },
   "outputs": [
    {
     "name": "stderr",
     "output_type": "stream",
     "text": [
      "Epoch: 300/300"
     ]
    },
    {
     "name": "stdout",
     "output_type": "stream",
     "text": [
      "\n",
      "Accuracy: 0.3595984598459846\n"
     ]
    }
   ],
   "source": [
    "from sklearn.metrics import accuracy_score\n",
    "\n",
    "params = dict(n_hidden=50, \n",
    "              C=0.1, # tradeoff L2 regularizer\n",
    "              epochs=300, # iterations\n",
    "              eta=0.0000001,  # learning rate\n",
    "              random_state=1)\n",
    "\n",
    "nn = TwoLayerPerceptron(**params)\n",
    "\n",
    "nn.fit(X_train, Y_train, print_progress=50)\n",
    "yhat = nn.predict(X_test)\n",
    "print('\\nAccuracy:',accuracy_score(Y_test,yhat))"
   ]
  },
  {
   "cell_type": "code",
   "execution_count": 51,
   "metadata": {
    "colab": {
     "base_uri": "https://localhost:8080/",
     "height": 310
    },
    "colab_type": "code",
    "id": "f2uEYelGLMes",
    "outputId": "7fbc33f9-1ae7-40f4-ed91-80acf1d0439c"
   },
   "outputs": [
    {
     "data": {
      "image/png": "[encoded data removed]",
      "text/plain": [
       "<Figure size 432x288 with 1 Axes>"
      ]
     },
     "metadata": {
      "tags": []
     },
     "output_type": "display_data"
    }
   ],
   "source": [
    "plt.plot(range(len(nn.cost_)), nn.cost_)\n",
    "plt.ylabel('Cost')\n",
    "plt.xlabel('Epochs')\n",
    "plt.tight_layout()\n",
    "plt.title(\"Cost with original data\")\n",
    "plt.show()"
   ]
  },
  {
   "cell_type": "markdown",
   "metadata": {
    "colab_type": "text",
    "id": "kc5gqX8NXntT"
   },
   "source": [
    "### ***5 points***\n",
    "Now normalize the continuous numeric feature data. Use the example two-layer perceptron network from the class example and quantify performance using accuracy. Be sure that training converges by graphing the loss function versus the number of epochs.  "
   ]
  },
  {
   "cell_type": "code",
   "execution_count": 0,
   "metadata": {
    "colab": {},
    "colab_type": "code",
    "id": "9UPzk-dyXuZj"
   },
   "outputs": [],
   "source": [
    "# code here"
   ]
  },
  {
   "cell_type": "code",
   "execution_count": 79,
   "metadata": {
    "colab": {
     "base_uri": "https://localhost:8080/",
     "height": 50
    },
    "colab_type": "code",
    "id": "aX7zBjryMOV3",
    "outputId": "2871e4d9-f136-48cc-8f76-656454cdbc87"
   },
   "outputs": [
    {
     "name": "stderr",
     "output_type": "stream",
     "text": [
      "Epoch: 300/300"
     ]
    },
    {
     "name": "stdout",
     "output_type": "stream",
     "text": [
      "\n",
      "Accuracy: 0.24023652365236522\n"
     ]
    }
   ],
   "source": [
    "from sklearn import preprocessing\n",
    "dataframe2 = raw_data.drop(columns = [\"ChildPoverty\", \"State\"]) \n",
    "# Because \"State\" will be used for one hot encoded\n",
    "\n",
    "min_max_scaler = preprocessing.MinMaxScaler()\n",
    "dataframe2_min_max = min_max_scaler.fit_transform(dataframe2.values)\n",
    "\n",
    "# MinMaxScaler normalize\n",
    "X_train, X_test, Y_train, Y_test = train_test_split(dataframe2_min_max,\n",
    "                                                    raw_data['ChildPoverty'].values,\n",
    "                                                    test_size=0.20)\n",
    "\n",
    "nn = TwoLayerPerceptron(**params)\n",
    "\n",
    "nn.fit(X_train, Y_train, print_progress=50)\n",
    "yhat = nn.predict(X_test)\n",
    "print('\\nAccuracy:',accuracy_score(Y_test,yhat))"
   ]
  },
  {
   "cell_type": "code",
   "execution_count": 80,
   "metadata": {
    "colab": {
     "base_uri": "https://localhost:8080/",
     "height": 313
    },
    "colab_type": "code",
    "id": "ToWH3l7xNa8n",
    "outputId": "7e2b0cf5-3142-4bc8-dbdf-885985130b86"
   },
   "outputs": [
    {
     "data": {
      "image/png": "[encoded data removed]",
      "text/plain": [
       "<Figure size 432x288 with 1 Axes>"
      ]
     },
     "metadata": {
      "tags": []
     },
     "output_type": "display_data"
    }
   ],
   "source": [
    "plt.plot(range(len(nn.cost_)), nn.cost_)\n",
    "plt.ylabel('Cost')\n",
    "plt.xlabel('Epochs')\n",
    "plt.tight_layout()\n",
    "plt.title(\"Cost after normalizing the continuous numeric feature data (no ohe)\")\n",
    "plt.show()"
   ]
  },
  {
   "cell_type": "markdown",
   "metadata": {
    "colab_type": "text",
    "id": "LL2D5Q9qXwCk"
   },
   "source": [
    "### ***5 points***\n",
    "Now normalize the continuous numeric feature data AND one hot encode the categorical data. Use the example two-layer perceptron network from the class example and quantify performance using accuracy. Be sure that training converges by graphing the loss function versus the number of epochs. "
   ]
  },
  {
   "cell_type": "code",
   "execution_count": 0,
   "metadata": {
    "colab": {},
    "colab_type": "code",
    "id": "Rexl_nXWX5-e"
   },
   "outputs": [],
   "source": [
    "# code here"
   ]
  },
  {
   "cell_type": "code",
   "execution_count": 83,
   "metadata": {
    "colab": {
     "base_uri": "https://localhost:8080/",
     "height": 169
    },
    "colab_type": "code",
    "id": "nQvJNhy3VeSZ",
    "outputId": "99f21ca6-2595-4bfb-d9fe-8d7e369a22a9"
   },
   "outputs": [
    {
     "name": "stdout",
     "output_type": "stream",
     "text": [
      "[[0.02729494 0.02707816 0.02765157 ... 0.         0.         0.        ]\n",
      " [0.0322896  0.03539082 0.02942681 ... 0.         0.         0.        ]\n",
      " [0.05081717 0.04674318 0.05491199 ... 0.         0.         0.        ]\n",
      " ...\n",
      " [0.03299221 0.03024194 0.03580563 ... 0.         0.         0.        ]\n",
      " [0.06601497 0.06011166 0.07188205 ... 0.         0.         0.        ]\n",
      " [0.04495189 0.04084988 0.04907477 ... 0.         0.         0.        ]]\n"
     ]
    },
    {
     "name": "stderr",
     "output_type": "stream",
     "text": [
      "Epoch: 300/300"
     ]
    },
    {
     "name": "stdout",
     "output_type": "stream",
     "text": [
      "\n",
      "Accuracy: 0.24979372937293728\n"
     ]
    }
   ],
   "source": [
    "# One hot encode\n",
    "# import OneHotEncoder\n",
    "from sklearn.preprocessing import OneHotEncoder\n",
    "\n",
    "# instantiate OneHotEncoder\n",
    "ohe = OneHotEncoder() \n",
    "\n",
    "# ohe_dataframe_state = pd.DataFrame(ohe.fit_transform(temp_data[['State']]).toarray()) \n",
    "# dataframe3 = raw_data.join(ohe_dataframe_state)\n",
    "# OR\n",
    "# dataframe3 = pd.get_dummies(true_raw_data, columns=[\"State\"], prefix=[\"state\"]\n",
    "\n",
    "dataframe3 = pd.get_dummies(true_raw_data, columns=[\"State\"], prefix=[\"state\"])\n",
    "\n",
    "# MinMaxScaler normalize\n",
    "min_max_scaler = preprocessing.MinMaxScaler()\n",
    "dataframe3_min_max = min_max_scaler.fit_transform(dataframe3.values)\n",
    "print(dataframe3_min_max)\n",
    "\n",
    "X_train, X_test, Y_train, Y_test = train_test_split(dataframe3_min_max,\n",
    "                                                    raw_data['ChildPoverty'].values,\n",
    "                                                    test_size=0.20)\n",
    "\n",
    "nn = TwoLayerPerceptron(**params)\n",
    "\n",
    "nn.fit(X_train, Y_train, print_progress=50)\n",
    "yhat = nn.predict(X_test)\n",
    "print('\\nAccuracy:',accuracy_score(Y_test,yhat))"
   ]
  },
  {
   "cell_type": "code",
   "execution_count": 82,
   "metadata": {
    "colab": {
     "base_uri": "https://localhost:8080/",
     "height": 313
    },
    "colab_type": "code",
    "id": "oPs87RjvfAV8",
    "outputId": "ed7b9003-0442-4335-e7ea-817d5e740b33"
   },
   "outputs": [
    {
     "data": {
      "image/png": "[encoded data removed]",
      "text/plain": [
       "<Figure size 432x288 with 1 Axes>"
      ]
     },
     "metadata": {
      "tags": []
     },
     "output_type": "display_data"
    }
   ],
   "source": [
    "plt.plot(range(len(nn.cost_)), nn.cost_)\n",
    "plt.ylabel('Cost')\n",
    "plt.xlabel('Epochs')\n",
    "plt.tight_layout()\n",
    "plt.title(\"Cost after normalizing and one hot encode\")\n",
    "plt.show()"
   ]
  },
  {
   "cell_type": "markdown",
   "metadata": {
    "colab_type": "text",
    "id": "wFId-qjSX7cs"
   },
   "source": [
    "### ***10 points***\n",
    "Compare the performance of the three models you just trained. Are there any meaningful differences in performance? Explain, in your own words, why these models have (or do not have) different performances.  "
   ]
  },
  {
   "cell_type": "code",
   "execution_count": 0,
   "metadata": {
    "colab": {},
    "colab_type": "code",
    "id": "R8JhsnkOYBkI"
   },
   "outputs": [],
   "source": [
    "# code here"
   ]
  },
  {
   "cell_type": "markdown",
   "metadata": {
    "colab_type": "text",
    "id": "Wi__DqwUQg6B"
   },
   "source": [
    "In Class Two-Layer Perceptron: \n",
    "- This example ended up with an accuracy of around 36%\n",
    "\n",
    "With normalized continuous numeric feature data:\n",
    "- This example ended up with an accuracy of around 24%\n",
    "\n",
    "With one hot encoded categorical data:\n",
    "- This example ended up with an accuracy of around 25%\n",
    "\n",
    "The Two Layer Perceptron worked better without continuous numeric feature data than with it, but without this continuous data the cost for each epoch increased from 0.38 at the start to 0.45. This cost, however, decreases faster without continuous data as the number of epochs continues. There is also a much nicer, smoother decent for noncontinuous data. With the continuous numeric feature data, the cost graph is very shaky and seems almost unstable, but is still in the same generic shape. \n",
    "\n",
    "The original class example has the best accuracy at 35%, with a steep decent lowering cost from 0.45 to 0.25.\n",
    "Normalization has the worst accuracy at around 17%, with a smooth curve down in cost, indicating a higher cost. It starts around 0.6 and eventually also goes down to 0.25.\n",
    "Once you add one hot encoding, the accuracy goes up to 25% with a steep decent lowering costs, but these costs are between 0.34 and 0.27.\n",
    "The original in class example works best."
   ]
  },
  {
   "cell_type": "markdown",
   "metadata": {
    "colab_type": "text",
    "id": "L07iLtxZYDEE"
   },
   "source": [
    "**NOTE: Use one-hot encoding and normalization on the dataset for the remainder of this lab assignment.**"
   ]
  },
  {
   "cell_type": "markdown",
   "metadata": {
    "colab_type": "text",
    "id": "vy3DjiYVYIn7"
   },
   "source": [
    "## Modeling ***50 points***"
   ]
  },
  {
   "cell_type": "markdown",
   "metadata": {
    "colab_type": "text",
    "id": "CQ8k01X8YPqn"
   },
   "source": [
    "### ***10 points***\n",
    "Add support for a third layer in the multi-layer perceptron. Add support for saving (and plotting after training is completed) the average magnitude of the gradient for each layer, for each epoch. Quantify the performance of the model and graph the magnitudes for each layer versus the number of epochs."
   ]
  },
  {
   "cell_type": "code",
   "execution_count": 0,
   "metadata": {
    "colab": {},
    "colab_type": "code",
    "id": "XJxkrqHnYVFA"
   },
   "outputs": [],
   "source": [
    "# code here"
   ]
  },
  {
   "cell_type": "code",
   "execution_count": 0,
   "metadata": {
    "colab": {},
    "colab_type": "code",
    "id": "lOe2VQDbrYw-"
   },
   "outputs": [],
   "source": [
    "class TwoLayerPerceptronBase(object):\n",
    "    def __init__(self, n_hidden_1=60,n_hidden_2=50, n_hidden_3 = 40, n_hidden_4 = 30,\n",
    "                 n_hidden_5 = 20,\n",
    "                 C=0.0, epochs=500, eta=0.001, random_state=None):\n",
    "        np.random.seed(random_state)\n",
    "        self.n_hidden_1 = n_hidden_1\n",
    "        self.n_hidden_2 = n_hidden_2\n",
    "        self.n_hidden_3 = n_hidden_3\n",
    "        self.n_hidden_4 = n_hidden_4\n",
    "        self.n_hidden_5 = n_hidden_5\n",
    "\n",
    "        self.l2_C = C\n",
    "        self.epochs = epochs\n",
    "        self.eta = eta\n",
    "        \n",
    "    @staticmethod\n",
    "    def _encode_labels(y):\n",
    "        \"\"\"Encode labels into one-hot representation\"\"\"\n",
    "        onehot = pd.get_dummies(y).values.T\n",
    "            \n",
    "        return onehot\n",
    "\n",
    "    def _initialize_weights(self):\n",
    "        \"\"\"Initialize weights with small random numbers.\"\"\"\n",
    "        W1_num_elems = (self.n_features_ + 1)*self.n_hidden_1\n",
    "        W1 = np.random.uniform(-1.0, 1.0,size=W1_num_elems)\n",
    "        W1 = W1.reshape(self.n_hidden_1, self.n_features_ + 1) # reshape to be W\n",
    "        \n",
    "        W2_num_elems = (self.n_hidden_1 + 1)*self.n_output_\n",
    "        W2 = np.random.uniform(-1.0, 1.0, size=W2_num_elems)\n",
    "        W2 = W2.reshape(self.n_output_, self.n_hidden_1 + 1)\n",
    "        return W1, W2\n",
    "    \n",
    "    @staticmethod\n",
    "    def _sigmoid(z):\n",
    "        \"\"\"Use scipy.special.expit to avoid overflow\"\"\"\n",
    "        # 1.0 / (1.0 + np.exp(-z))\n",
    "        return expit(z)\n",
    "    \n",
    "    @staticmethod\n",
    "    def _add_bias_unit(X, how='column'):\n",
    "        \"\"\"Add bias unit (column or row of 1s) to array at index 0\"\"\"\n",
    "        if how == 'column':\n",
    "            ones = np.ones((X.shape[0], 1))\n",
    "            X_new = np.hstack((ones, X))\n",
    "        elif how == 'row':\n",
    "            ones = np.ones((1, X.shape[1]))\n",
    "            X_new = np.vstack((ones, X))\n",
    "        return X_new\n",
    "    \n",
    "    @staticmethod\n",
    "    def _L2_reg(lambda_, W1, W2):\n",
    "        \"\"\"Compute L2-regularization cost\"\"\"\n",
    "        # only compute for non-bias terms\n",
    "        return (lambda_/2.0) * np.sqrt(np.mean(W1[:, 1:] ** 2) + np.mean(W2[:, 1:] ** 2))\n",
    "    \n",
    "    def _cost(self,A3,Y_enc,W1,W2):\n",
    "        '''Get the objective function value'''\n",
    "        cost = np.mean((Y_enc-A3)**2)\n",
    "        L2_term = self._L2_reg(self.l2_C, W1, W2)\n",
    "        return cost + L2_term\n",
    "    \n",
    "    def _feedforward(self, X, W1, W2):\n",
    "        \"\"\"Compute feedforward step\n",
    "        \"\"\"\n",
    "        A1 = self._add_bias_unit(X, how='column')\n",
    "        Z1 = W1 @ A1.T\n",
    "        A2 = self._sigmoid(Z1)\n",
    "        A2 = self._add_bias_unit(A2, how='row')\n",
    "        Z2 = W2 @ A2\n",
    "        A3 = self._sigmoid(Z2)\n",
    "        return A1, Z1, A2, Z2, A3\n",
    "    \n",
    "    def _get_gradient(self, A1, A2, A3, Z1, Z2, Y_enc, W1, W2):\n",
    "        \"\"\" Compute gradient step using backpropagation.\n",
    "        \"\"\"\n",
    "        # vectorized backpropagation\n",
    "        sigma3 = -2*(Y_enc-A3)*A3*(1-A3)\n",
    "        sigma2 = (W2.T @ sigma3)*A2*(1-A2)\n",
    "        \n",
    "        grad1 = sigma2[1:,:] @ A1\n",
    "        grad2 = sigma3 @ A2.T\n",
    "        \n",
    "        # regularize weights that are not bias terms\n",
    "        grad1[:, 1:] += W1[:, 1:] * self.l2_C\n",
    "        grad2[:, 1:] += W2[:, 1:] * self.l2_C\n",
    "\n",
    "        return grad1, grad2\n",
    "    \n",
    "    def predict(self, X):\n",
    "        \"\"\"Predict class labels\"\"\"\n",
    "        _, _, _, _, A3 = self._feedforward(X, self.W1, self.W2)\n",
    "        y_pred = np.argmax(A3, axis=0)\n",
    "        return y_pred\n",
    "\n",
    "        \n",
    "    def fit(self, X, y, print_progress=False):\n",
    "        \"\"\" Learn weights from training data.\"\"\"\n",
    "        \n",
    "        X_data, y_data = X.copy(), y.copy()\n",
    "        Y_enc = self._encode_labels(y)\n",
    "        \n",
    "        # init weights and setup matrices\n",
    "        self.n_features_ = X_data.shape[1]\n",
    "        self.n_output_ = Y_enc.shape[0]\n",
    "        self.W1, self.W2 = self._initialize_weights()\n",
    "\n",
    "        self.cost_ = []\n",
    "        for i in range(self.epochs):\n",
    "\n",
    "            if print_progress>0 and (i+1)%print_progress==0:\n",
    "                sys.stderr.write('\\rEpoch: %d/%d' % (i+1, self.epochs))\n",
    "                sys.stderr.flush()\n",
    "\n",
    "            # feedforward all instances\n",
    "            A1, Z1, A2, Z2, A3 = self._feedforward(X_data,self.W1,self.W2)\n",
    "            \n",
    "            cost = self._cost(A3,Y_enc,self.W1,self.W2)\n",
    "            self.cost_.append(cost)\n",
    "\n",
    "            # compute gradient via backpropagation\n",
    "            grad1, grad2 = self._get_gradient(A1=A1, A2=A2, A3=A3, Z1=Z1, Z2=Z2, Y_enc=Y_enc,\n",
    "                                              W1=self.W1, W2=self.W2)\n",
    "\n",
    "            self.W1 -= self.eta * grad1\n",
    "            self.W2 -= self.eta * grad2\n",
    "            \n",
    "\n",
    "        return self"
   ]
  },
  {
   "cell_type": "code",
   "execution_count": 111,
   "metadata": {
    "colab": {
     "base_uri": "https://localhost:8080/",
     "height": 50
    },
    "colab_type": "code",
    "id": "Kob_HN5jzhGV",
    "outputId": "7efd9f26-114c-4b97-cb1a-1db1d087ee4e"
   },
   "outputs": [
    {
     "name": "stderr",
     "output_type": "stream",
     "text": [
      "Epoch: 300/300"
     ]
    },
    {
     "name": "stdout",
     "output_type": "stream",
     "text": [
      "\n",
      "Accuracy: 0.3010863586358636\n"
     ]
    }
   ],
   "source": [
    "params = dict(C=0.1, # tradeoff L2 regularizer\n",
    "              epochs=300, # iterations\n",
    "              eta=0.0000001,  # learning rate\n",
    "              random_state=1)\n",
    "\n",
    "X_train, X_test, Y_train, Y_test = train_test_split(dataframe3_min_max,\n",
    "                                                    raw_data['ChildPoverty'].values,\n",
    "                                                    test_size=0.20)\n",
    "\n",
    "nn = TwoLayerPerceptronBase(**params)\n",
    "\n",
    "nn.fit(X_train, Y_train, print_progress=50)\n",
    "yhat = nn.predict(X_test)\n",
    "print('\\nAccuracy:',accuracy_score(Y_test,yhat))"
   ]
  },
  {
   "cell_type": "code",
   "execution_count": 112,
   "metadata": {
    "colab": {
     "base_uri": "https://localhost:8080/",
     "height": 313
    },
    "colab_type": "code",
    "id": "hyfVBeZBzmfp",
    "outputId": "5769b7c9-9c84-4a31-9c51-f6134743e96c"
   },
   "outputs": [
    {
     "data": {
      "image/png": "[encoded data removed]",
      "text/plain": [
       "<Figure size 432x288 with 1 Axes>"
      ]
     },
     "metadata": {
      "tags": []
     },
     "output_type": "display_data"
    }
   ],
   "source": [
    "plt.plot(range(len(nn.cost_)), nn.cost_)\n",
    "plt.ylabel('Cost')\n",
    "plt.xlabel('Epochs')\n",
    "plt.tight_layout()\n",
    "plt.title(\"2 Layers of Perceptron\")\n",
    "plt.show()"
   ]
  },
  {
   "cell_type": "code",
   "execution_count": 0,
   "metadata": {
    "colab": {},
    "colab_type": "code",
    "id": "8QhOA6T-rVVT"
   },
   "outputs": [],
   "source": [
    "class ThreeLayerPerceptronBase(TwoLayerPerceptronBase):\n",
    "    def __init__(self, alpha=0.0, decrease_const=0.0, shuffle=True, \n",
    "                 minibatches=1, **kwds):        \n",
    "        # need to add to the original initializer \n",
    "        self.alpha = alpha\n",
    "        self.decrease_const = decrease_const\n",
    "        self.shuffle = shuffle\n",
    "        self.minibatches = minibatches\n",
    "        # but keep other keywords\n",
    "        super().__init__(**kwds)\n",
    "        \n",
    "    def _initialize_weights(self):\n",
    "        \"\"\"Initialize weights with small random numbers.\"\"\"\n",
    "        W1_num_elems = (self.n_features_ + 1)*self.n_hidden_1\n",
    "        W1 = np.random.uniform(-1.0, 1.0,size=W1_num_elems)\n",
    "        W1 = W1.reshape(self.n_hidden_1, self.n_features_ + 1) # reshape to be W\n",
    "        \n",
    "        W2_num_elems = (self.n_hidden_1 + 1)*self.n_hidden_2\n",
    "        W2 = np.random.uniform(-1.0, 1.0,size=W2_num_elems)\n",
    "        W2 = W2.reshape(self.n_hidden_2, self.n_hidden_1 + 1) \n",
    "\n",
    "        W3_num_elems = (self.n_hidden_2 + 1)*self.n_output_\n",
    "        W3 = np.random.uniform(-1.0, 1.0, size=W3_num_elems)\n",
    "        W3 = W3.reshape(self.n_output_, self.n_hidden_2 + 1)\n",
    "\n",
    "        return W1, W2, W3\n",
    "\n",
    "    def _feedforward(self, X, W1, W2, W3):\n",
    "        \"\"\"Compute feedforward step\n",
    "        \"\"\"\n",
    "        A1 = self._add_bias_unit(X, how='column')\n",
    "        Z1 = W1 @ A1.T\n",
    "        A2 = self._sigmoid(Z1)\n",
    "        A2 = self._add_bias_unit(A2, how='row')\n",
    "        Z2 = W2 @ A2 \n",
    "        A3 = self._sigmoid(Z2)\n",
    "        A3 = self._add_bias_unit(A3, how='row')\n",
    "        Z3 = W3 @ A3\n",
    "        A4 = self._sigmoid(Z3)\n",
    "        \n",
    "        return A1, Z1, A2, Z2, A3, Z3, A4\n",
    "   \n",
    "    def _get_gradient(self, A1, A2, A3, A4, Z1, Z2, Z3, Y_enc,W1, W2, W3):\n",
    "        sigma3 = (A4-Y_enc)\n",
    "        sigma2 = (W3.T @ sigma3)*A3*(1-A3)\n",
    "        sigma1 = (W2.T @ sigma2[1:,:])*A2*(1-A2)\n",
    "        \n",
    "        grad1 = sigma1[1:,:] @ A1\n",
    "        grad2 = sigma2[1:,:] @ A2.T\n",
    "        grad3 = sigma3 @ A3.T\n",
    "        \n",
    "        grad1[:, 1:] += W1[:, 1:] * self.l2_C\n",
    "        grad2[:, 1:] += W2[:, 1:] * self.l2_C\n",
    "        grad3[:, 1:] += W3[:, 1:] * self.l2_C   \n",
    "        \n",
    "        return grad1, grad2, grad3\n",
    "   \n",
    "    @staticmethod\n",
    "    def _L2_reg(lambda_, W1, W2, W3):\n",
    "        return (lambda_/3) * np.sqrt(np.mean(W1[:, 1:] ** 2) + np.mean(W2[:, 1:] ** 2) + np.mean(W3[:, 1:] ** 2))\n",
    "    \n",
    "    def _cost(self,A4,Y_enc, W1, W2, W3):\n",
    "        cost = -np.mean(np.nan_to_num((Y_enc*np.log(A4)+(1-Y_enc)*np.log(1-A4))))\n",
    "        L2_term = self._L2_reg(self.l2_C, W1, W2, W3)\n",
    "        return cost + L2_term\n",
    "    \n",
    "    def predict(self, X):\n",
    "        \"\"\"Predict class labels\"\"\"\n",
    "        _, _, _, _, _, _, A4 = self._feedforward(X, self.W1, self.W2, self.W3)\n",
    "        y_pred = np.argmax(A4, axis=0)\n",
    "        \n",
    "        return y_pred\n",
    "\n",
    "    \n",
    "    def fit(self, X, y, print_progress=False):\n",
    "        \"\"\" Learn weights from training data. With mini-batch\"\"\"\n",
    "        X_data, y_data = X.copy(), y.copy()\n",
    "        Y_enc = self._encode_labels(y)\n",
    "        \n",
    "        # init weights and setup matrices\n",
    "        self.n_features_ = X_data.shape[1]\n",
    "        self.n_output_ = Y_enc.shape[0]\n",
    "        self.W1, self.W2, self.W3 = self._initialize_weights()\n",
    "        \n",
    "        delta_W1_prev = np.zeros(self.W1.shape)\n",
    "        delta_W2_prev = np.zeros(self.W2.shape) \n",
    "        delta_W3_prev = np.zeros(self.W3.shape) \n",
    "\n",
    "        self.cost_ = []\n",
    "        self.score_ = []\n",
    "        for i in range(self.epochs):\n",
    "\n",
    "            # adaptive learning rate\n",
    "            self.eta /= (1 + self.decrease_const*i)\n",
    "\n",
    "            if print_progress>0 and (i+1)%print_progress==0:\n",
    "                sys.stderr.write('\\rEpoch: %d/%d' % (i+1, self.epochs))\n",
    "                sys.stderr.flush()\n",
    "\n",
    "            if self.shuffle:\n",
    "                idx_shuffle = np.random.permutation(y_data.shape[0])\n",
    "                X_data, Y_enc, y_data = X_data[idx_shuffle], Y_enc[:, idx_shuffle], y_data[idx_shuffle]\n",
    "\n",
    "            mini = np.array_split(range(y_data.shape[0]), self.minibatches)\n",
    "            mini_cost = []\n",
    "            for idx in mini:\n",
    "            # feedforward\n",
    "                A1, Z1, A2, Z2, A3, Z3, A4 = self._feedforward(X_data[idx],\n",
    "                                                               self.W1,\n",
    "                                                               self.W2,\n",
    "                                                               self.W3,\n",
    "                                                               )\n",
    "                \n",
    "                cost = self._cost(A4,Y_enc[:, idx],self.W1,self.W2,self.W3)\n",
    "                mini_cost.append(cost) # this appends cost of mini-batch only\n",
    "\n",
    "                # compute gradient via backpropagation\n",
    "                grad1, grad2, grad3 = self._get_gradient(A1=A1, A2=A2, A3=A3, A4=A4,\n",
    "                                                         Z1=Z1, Z2=Z2, Z3=Z3,\n",
    "                                                         Y_enc=Y_enc[:, idx],\n",
    "                                                         W1=self.W1, W2=self.W2, W3=self.W3)\n",
    "\n",
    "                delta_W1, delta_W2, delta_W3 = self.eta * grad1, self.eta * grad2, self.eta * grad3\n",
    "                self.W1 -= (delta_W1 + (self.alpha * delta_W1_prev))\n",
    "                self.W2 -= (delta_W2 + (self.alpha * delta_W2_prev)) # update with momentum\n",
    "                self.W3 -= (delta_W3 + (self.alpha * delta_W3_prev)) # update with momentum\n",
    "\n",
    "                delta_W1_prev, delta_W2_prev, delta_W3_prev = delta_W1, delta_W2, delta_W3\n",
    "\n",
    "            self.cost_.append(mini_cost)\n",
    "            self.score_.append(accuracy_score(y_data,self.predict(X_data)))\n",
    "            \n",
    "        return self"
   ]
  },
  {
   "cell_type": "code",
   "execution_count": 157,
   "metadata": {
    "colab": {
     "base_uri": "https://localhost:8080/",
     "height": 50
    },
    "colab_type": "code",
    "id": "EMXba_fO1nLr",
    "outputId": "1187ece8-7fc8-45d4-d22d-37802a960030"
   },
   "outputs": [
    {
     "name": "stderr",
     "output_type": "stream",
     "text": [
      "Epoch: 300/300"
     ]
    },
    {
     "name": "stdout",
     "output_type": "stream",
     "text": [
      "\n",
      "Accuracy: 0.3105060506050605\n"
     ]
    }
   ],
   "source": [
    "params = dict(C=0.1, # tradeoff L2 regularizer\n",
    "              epochs=300, # iterations\n",
    "              eta=0.0000001,  # learning rate\n",
    "              random_state=1)\n",
    "\n",
    "X_train, X_test, Y_train, Y_test = train_test_split(dataframe3_min_max,\n",
    "                                                    raw_data['ChildPoverty'].values,\n",
    "                                                    test_size=0.20)\n",
    "\n",
    "nn = ThreeLayerPerceptronBase(**params)\n",
    "\n",
    "nn.fit(X_train, Y_train, print_progress=50)\n",
    "yhat = nn.predict(X_test)\n",
    "print('\\nAccuracy:',accuracy_score(Y_test,yhat))"
   ]
  },
  {
   "cell_type": "code",
   "execution_count": 158,
   "metadata": {
    "colab": {
     "base_uri": "https://localhost:8080/",
     "height": 313
    },
    "colab_type": "code",
    "id": "05po3KVv1oBY",
    "outputId": "af59cadb-e335-4e5e-accf-4226615cd646"
   },
   "outputs": [
    {
     "data": {
      "image/png": "[encoded data removed]",
      "text/plain": [
       "<Figure size 432x288 with 1 Axes>"
      ]
     },
     "metadata": {
      "tags": []
     },
     "output_type": "display_data"
    }
   ],
   "source": [
    "plt.plot(range(len(nn.cost_)), nn.cost_)\n",
    "plt.ylabel('Cost')\n",
    "plt.xlabel('Epochs')\n",
    "plt.tight_layout()\n",
    "plt.title(\"3 Layers of Perceptron\")\n",
    "plt.show()"
   ]
  },
  {
   "cell_type": "markdown",
   "metadata": {
    "colab_type": "text",
    "id": "ha9xtJYFYXVz"
   },
   "source": [
    "### ***10 points***\n",
    "Repeat the previous step, adding support for a fourth layer."
   ]
  },
  {
   "cell_type": "code",
   "execution_count": 0,
   "metadata": {
    "colab": {},
    "colab_type": "code",
    "id": "U9JpNORvYcgb"
   },
   "outputs": [],
   "source": [
    "# code here"
   ]
  },
  {
   "cell_type": "code",
   "execution_count": 0,
   "metadata": {
    "colab": {},
    "colab_type": "code",
    "id": "2kKkmPcgr5Oa"
   },
   "outputs": [],
   "source": [
    "class FourLayerPerceptronBase(ThreeLayerPerceptronBase):\n",
    "    def _initialize_weights(self):\n",
    "        \"\"\"Initialize weights with small random numbers.\"\"\"\n",
    "        W1_num_elems = (self.n_features_ + 1)*self.n_hidden_1\n",
    "        W1 = np.random.uniform(-1.0, 1.0,size=W1_num_elems)\n",
    "        W1 = W1.reshape(self.n_hidden_1, self.n_features_ + 1) # reshape to be W\n",
    "        \n",
    "        W2_num_elems = (self.n_hidden_1 + 1)*self.n_hidden_2\n",
    "        W2 = np.random.uniform(-1.0, 1.0,size=W2_num_elems)\n",
    "        W2 = W2.reshape(self.n_hidden_2, self.n_hidden_1 + 1) \n",
    "\n",
    "        W3_num_elems = (self.n_hidden_2 + 1)*self.n_hidden_3\n",
    "        W3 = np.random.uniform(-1.0, 1.0,size=W3_num_elems)\n",
    "        W3 = W3.reshape(self.n_hidden_3, self.n_hidden_2 + 1) \n",
    "\n",
    "        W4_num_elems = (self.n_hidden_3 + 1)*self.n_output_\n",
    "        W4 = np.random.uniform(-1.0, 1.0, size=W4_num_elems)\n",
    "        W4 = W4.reshape(self.n_output_, self.n_hidden_3 + 1)\n",
    "\n",
    "        return W1, W2, W3, W4\n",
    "    \n",
    "    def _feedforward(self, X, W1, W2, W3, W4):\n",
    "        \"\"\"Compute feedforward step\n",
    "        \"\"\"\n",
    "        A1 = self._add_bias_unit(X, how='column')\n",
    "        Z1 = W1 @ A1.T\n",
    "        A2 = self._sigmoid(Z1)\n",
    "        A2 = self._add_bias_unit(A2, how='row')\n",
    "        Z2 = W2 @ A2 \n",
    "        A3 = self._sigmoid(Z2)\n",
    "        A3 = self._add_bias_unit(A3, how='row')\n",
    "        Z3 = W3 @ A3\n",
    "        A4 = self._sigmoid(Z3)\n",
    "        A4 = self._add_bias_unit(A4, how='row')\n",
    "        Z4 = W4 @ A4\n",
    "        A5 = self._sigmoid(Z4)\n",
    "\n",
    "        return A1, Z1, A2, Z2, A3, Z3, A4, Z4, A5\n",
    "   \n",
    "    def _get_gradient(self, A1, A2, A3, A4, A5, Z1, Z2,Z3,Z4, Y_enc, W1, W2, W3,W4):\n",
    "      \"\"\" Compute gradient step using backpropagation.\n",
    "      \"\"\"\n",
    "      sigma4 = (A5-Y_enc)\n",
    "      sigma3 = (W4.T @ sigma4)*A4*(1-A4)\n",
    "      sigma2 = (W3.T @ sigma3[1:,:])*A3*(1-A3)\n",
    "      sigma1 = (W2.T @ sigma2[1:,:])*A2*(1-A2)\n",
    "\n",
    "      grad1 = sigma1[1:,:] @ A1\n",
    "      grad2 = sigma2[1:,:] @ A2.T\n",
    "      grad3 = sigma3[1:,:] @ A3.T\n",
    "      grad4 = sigma4 @ A4.T\n",
    "\n",
    "      grad1[:, 1:] += W1[:, 1:] * self.l2_C\n",
    "      grad2[:, 1:] += W2[:, 1:] * self.l2_C\n",
    "      grad3[:, 1:] += W3[:, 1:] * self.l2_C\n",
    "      grad4[:, 1:] += W4[:, 1:] * self.l2_C\n",
    "\n",
    "      return grad1, grad2, grad3,grad4\n",
    "\n",
    "    @staticmethod\n",
    "    def _L2_reg(lambda_, W1, W2, W3, W4):\n",
    "        return (lambda_/3) * np.sqrt(np.mean(W1[:, 1:] ** 2) + \n",
    "                                     np.mean(W2[:, 1:] ** 2) + \n",
    "                                     np.mean(W3[:, 1:] ** 2) +\n",
    "                                     np.mean(W4[:, 1:] ** 2)\n",
    "                                     )\n",
    "    \n",
    "    def _cost(self,A5,Y_enc, W1, W2, W3, W4):\n",
    "        cost = -np.mean(np.nan_to_num((Y_enc*np.log(A5)+(1-Y_enc)*np.log(1-A5))))\n",
    "        L2_term = self._L2_reg(self.l2_C, W1, W2, W3, W4)\n",
    "        return cost + L2_term\n",
    "    \n",
    "    def predict(self, X):\n",
    "        \"\"\"Predict class labels\"\"\"\n",
    "        _, _, _, _, _, _, _, _, A5 = self._feedforward(X, self.W1, self.W2, self.W3, self.W4)\n",
    "        y_pred = np.argmax(A5, axis=0)\n",
    "        \n",
    "        return y_pred\n",
    "\n",
    "    def fit(self, X, y, print_progress=False):\n",
    "        \"\"\" Learn weights from training data. With mini-batch\"\"\"\n",
    "        X_data, y_data = X.copy(), y.copy()\n",
    "        Y_enc = self._encode_labels(y)\n",
    "        \n",
    "        # init weights and setup matrices\n",
    "        self.n_features_ = X_data.shape[1]\n",
    "        self.n_output_ = Y_enc.shape[0]\n",
    "        self.W1, self.W2, self.W3, self.W4 = self._initialize_weights()\n",
    "        \n",
    "        delta_W1_prev = np.zeros(self.W1.shape)\n",
    "        delta_W2_prev = np.zeros(self.W2.shape) \n",
    "        delta_W3_prev = np.zeros(self.W3.shape) \n",
    "        delta_W4_prev = np.zeros(self.W4.shape) \n",
    "\n",
    "        self.cost_ = []\n",
    "        self.score_ = []\n",
    "        for i in range(self.epochs):\n",
    "\n",
    "            # adaptive learning rate\n",
    "            self.eta /= (1 + self.decrease_const*i)\n",
    "\n",
    "            if print_progress>0 and (i+1)%print_progress==0:\n",
    "                sys.stderr.write('\\rEpoch: %d/%d' % (i+1, self.epochs))\n",
    "                sys.stderr.flush()\n",
    "\n",
    "            if self.shuffle:\n",
    "                idx_shuffle = np.random.permutation(y_data.shape[0])\n",
    "                X_data, Y_enc, y_data = X_data[idx_shuffle], Y_enc[:, idx_shuffle], y_data[idx_shuffle]\n",
    "\n",
    "            mini = np.array_split(range(y_data.shape[0]), self.minibatches)\n",
    "            mini_cost = []\n",
    "            for idx in mini:\n",
    "            # feedforward\n",
    "                A1, Z1, A2, Z2, A3, Z3, A4, Z4, A5 = self._feedforward(X_data[idx],\n",
    "                                                               self.W1,\n",
    "                                                               self.W2,\n",
    "                                                               self.W3,\n",
    "                                                               self.W4,\n",
    "                                                               )\n",
    "                \n",
    "                cost = self._cost(A5,Y_enc[:, idx],self.W1,self.W2,self.W3, self.W4)\n",
    "                mini_cost.append(cost) # this appends cost of mini-batch only\n",
    "\n",
    "                # compute gradient via backpropagation\n",
    "                grad1, grad2, grad3,grad4 = self._get_gradient(A1=A1, A2=A2, A3=A3, A4=A4, A5=A5,\n",
    "                                                         Z1=Z1, Z2=Z2, Z3=Z3, Z4=Z4,\n",
    "                                                         Y_enc=Y_enc[:, idx],\n",
    "                                                         W1=self.W1, W2=self.W2, W3=self.W3, W4=self.W4)\n",
    "\n",
    "                delta_W1, delta_W2, delta_W3, delta_W4 = self.eta * grad1, self.eta * grad2, self.eta * grad3, self.eta * grad4\n",
    "                self.W1 -= (delta_W1 + (self.alpha * delta_W1_prev))\n",
    "                self.W2 -= (delta_W2 + (self.alpha * delta_W2_prev)) # update with momentum\n",
    "                self.W3 -= (delta_W3 + (self.alpha * delta_W3_prev)) # update with momentum\n",
    "                self.W4 -= (delta_W4 + (self.alpha * delta_W4_prev)) # update with momentum\n",
    "\n",
    "                delta_W1_prev, delta_W2_prev, delta_W3_prev, delta_W4_prev = delta_W1, delta_W2, delta_W3, delta_W4\n",
    "\n",
    "            self.cost_.append(mini_cost)\n",
    "            self.score_.append(accuracy_score(y_data,self.predict(X_data)))\n",
    "            \n",
    "        return self"
   ]
  },
  {
   "cell_type": "code",
   "execution_count": 162,
   "metadata": {
    "colab": {
     "base_uri": "https://localhost:8080/",
     "height": 50
    },
    "colab_type": "code",
    "id": "EAFbeARa2MzG",
    "outputId": "2b473c17-7785-49c7-eb8a-4d017509d43d"
   },
   "outputs": [
    {
     "name": "stderr",
     "output_type": "stream",
     "text": [
      "Epoch: 300/300"
     ]
    },
    {
     "name": "stdout",
     "output_type": "stream",
     "text": [
      "\n",
      "Accuracy: 0.27323982398239827\n"
     ]
    }
   ],
   "source": [
    "params = dict(C=0.1, # tradeoff L2 regularizer\n",
    "              epochs=300, # iterations\n",
    "              eta=0.0000001,  # learning rate\n",
    "              random_state=1)\n",
    "\n",
    "X_train, X_test, Y_train, Y_test = train_test_split(dataframe3_min_max,\n",
    "                                                    raw_data['ChildPoverty'].values,\n",
    "                                                    test_size=0.20)\n",
    "\n",
    "nn = FourLayerPerceptronBase(**params)\n",
    "\n",
    "nn.fit(X_train, Y_train, print_progress=50)\n",
    "yhat = nn.predict(X_test)\n",
    "print('\\nAccuracy:',accuracy_score(Y_test,yhat))"
   ]
  },
  {
   "cell_type": "code",
   "execution_count": 163,
   "metadata": {
    "colab": {
     "base_uri": "https://localhost:8080/",
     "height": 309
    },
    "colab_type": "code",
    "id": "U3uF-uFI2N1R",
    "outputId": "417bae44-0896-4120-e6b0-1d4443e02f34"
   },
   "outputs": [
    {
     "data": {
      "image/png": "[encoded data removed]",
      "text/plain": [
       "<Figure size 432x288 with 1 Axes>"
      ]
     },
     "metadata": {
      "tags": []
     },
     "output_type": "display_data"
    }
   ],
   "source": [
    "plt.plot(range(len(nn.cost_)), nn.cost_)\n",
    "plt.ylabel('Cost')\n",
    "plt.xlabel('Epochs')\n",
    "plt.tight_layout()\n",
    "plt.title(\"4 Layers of Perceptron\")\n",
    "plt.show()"
   ]
  },
  {
   "cell_type": "markdown",
   "metadata": {
    "colab_type": "text",
    "id": "DhcvNgjYYd_K"
   },
   "source": [
    "### ***10 points***\n",
    "Repeat the previous step, adding support for a fifth layer. "
   ]
  },
  {
   "cell_type": "code",
   "execution_count": 0,
   "metadata": {
    "colab": {},
    "colab_type": "code",
    "id": "q8joqsSdYmfi"
   },
   "outputs": [],
   "source": [
    "# code here"
   ]
  },
  {
   "cell_type": "code",
   "execution_count": 0,
   "metadata": {
    "colab": {},
    "colab_type": "code",
    "id": "aoezasw0xT5m"
   },
   "outputs": [],
   "source": [
    "class FiveLayerPerceptronBase(FourLayerPerceptronBase):\n",
    "    def _initialize_weights(self):\n",
    "        \"\"\"Initialize weights with small random numbers.\"\"\"\n",
    "        W1_num_elems = (self.n_features_ + 1)*self.n_hidden_1\n",
    "        W1 = np.random.uniform(-1.0, 1.0,size=W1_num_elems)\n",
    "        W1 = W1.reshape(self.n_hidden_1, self.n_features_ + 1) # reshape to be W\n",
    "        \n",
    "        W2_num_elems = (self.n_hidden_1 + 1)*self.n_hidden_2\n",
    "        W2 = np.random.uniform(-1.0, 1.0,size=W2_num_elems)\n",
    "        W2 = W2.reshape(self.n_hidden_2, self.n_hidden_1 + 1) \n",
    "\n",
    "        W3_num_elems = (self.n_hidden_2 + 1)*self.n_hidden_3\n",
    "        W3 = np.random.uniform(-1.0, 1.0,size=W3_num_elems)\n",
    "        W3 = W3.reshape(self.n_hidden_3, self.n_hidden_2 + 1) \n",
    "\n",
    "        W4_num_elems = (self.n_hidden_3 + 1)*self.n_hidden_4\n",
    "        W4 = np.random.uniform(-1.0, 1.0,size=W4_num_elems)\n",
    "        W4 = W4.reshape(self.n_hidden_4, self.n_hidden_3 + 1) \n",
    "\n",
    "        W5_num_elems = (self.n_hidden_4 + 1)*self.n_output_\n",
    "        W5 = np.random.uniform(-1.0, 1.0, size=W5_num_elems)\n",
    "        W5 = W5.reshape(self.n_output_, self.n_hidden_4 + 1)\n",
    "\n",
    "        return W1, W2, W3, W4, W5\n",
    "    \n",
    "    def _feedforward(self, X, W1, W2, W3, W4, W5):\n",
    "        \"\"\"Compute feedforward step\n",
    "        \"\"\"\n",
    "        A1 = self._add_bias_unit(X, how='column')\n",
    "        Z1 = W1 @ A1.T\n",
    "        A2 = self._sigmoid(Z1)\n",
    "        A2 = self._add_bias_unit(A2, how='row')\n",
    "        Z2 = W2 @ A2 \n",
    "        A3 = self._sigmoid(Z2)\n",
    "        A3 = self._add_bias_unit(A3, how='row')\n",
    "        Z3 = W3 @ A3\n",
    "        A4 = self._sigmoid(Z3)\n",
    "        A4 = self._add_bias_unit(A4, how='row')\n",
    "        Z4 = W4 @ A4\n",
    "        A5 = self._sigmoid(Z4)\n",
    "        A5 = self._add_bias_unit(A5, how='row')\n",
    "        Z5 = W5 @ A5\n",
    "        A6 = self._sigmoid(Z5)\n",
    "       \n",
    "\n",
    "        return A1, Z1, A2, Z2, A3, Z3, A4, Z4, A5, Z5, A6\n",
    "   \n",
    "    def _get_gradient(self, A1, A2, A3, A4, A5, A6, Z1, Z2, Z3, Z4, Z5, Y_enc, W1, W2, W3, W4, W5):\n",
    "      \"\"\" Compute gradient step using backpropagation.\n",
    "      \"\"\"\n",
    "      sigma5 = (A6-Y_enc)\n",
    "      sigma4 = (W5.T @ sigma5)*A5*(1-A5)\n",
    "      sigma3 = (W4.T @ sigma4[1:,:])*A4*(1-A4)\n",
    "      sigma2 = (W3.T @ sigma3[1:,:])*A3*(1-A3)\n",
    "      sigma1 = (W2.T @ sigma2[1:,:])*A2*(1-A2)\n",
    "\n",
    "      grad1 = sigma1[1:,:] @ A1\n",
    "      grad2 = sigma2[1:,:] @ A2.T\n",
    "      grad3 = sigma3[1:,:] @ A3.T\n",
    "      grad4 = sigma4[1:,:] @ A4.T\n",
    "      grad5 = sigma5 @ A5.T\n",
    "\n",
    "      grad1[:, 1:] += W1[:, 1:] * self.l2_C\n",
    "      grad2[:, 1:] += W2[:, 1:] * self.l2_C\n",
    "      grad3[:, 1:] += W3[:, 1:] * self.l2_C\n",
    "      grad4[:, 1:] += W4[:, 1:] * self.l2_C\n",
    "      grad5[:, 1:] += W5[:, 1:] * self.l2_C\n",
    "\n",
    "      return grad1, grad2, grad3,grad4, grad5\n",
    "   \n",
    "    @staticmethod\n",
    "    def _L2_reg(lambda_, W1, W2, W3, W4, W5):\n",
    "        return (lambda_/3) * np.sqrt(np.mean(W1[:, 1:] ** 2) + \n",
    "                                     np.mean(W2[:, 1:] ** 2) + \n",
    "                                     np.mean(W3[:, 1:] ** 2) +\n",
    "                                     np.mean(W4[:, 1:] ** 2) + \n",
    "                                     np.mean(W5[:, 1:] ** 2)\n",
    "                                     )\n",
    "    \n",
    "    def _cost(self,A6,Y_enc, W1, W2, W3, W4, W5):\n",
    "        cost = -np.mean(np.nan_to_num((Y_enc*np.log(A6)+(1-Y_enc)*np.log(1-A6))))\n",
    "        L2_term = self._L2_reg(self.l2_C, W1, W2, W3, W4, W5)\n",
    "        return cost + L2_term\n",
    "    \n",
    "    def predict(self, X):\n",
    "        \"\"\"Predict class labels\"\"\"\n",
    "        _, _, _, _, _, _, _, _, _, _, A6 = self._feedforward(X, self.W1, self.W2, self.W3, self.W4, self.W5)\n",
    "        y_pred = np.argmax(A6, axis=0)\n",
    "        \n",
    "        return y_pred\n",
    "\n",
    "    def fit(self, X, y, print_progress=False):\n",
    "        \"\"\" Learn weights from training data. With mini-batch\"\"\"\n",
    "        X_data, y_data = X.copy(), y.copy()\n",
    "        Y_enc = self._encode_labels(y)\n",
    "        \n",
    "        # init weights and setup matrices\n",
    "        self.n_features_ = X_data.shape[1]\n",
    "        self.n_output_ = Y_enc.shape[0]\n",
    "        self.W1, self.W2, self.W3, self.W4, self.W5 = self._initialize_weights()\n",
    "        \n",
    "        delta_W1_prev = np.zeros(self.W1.shape)\n",
    "        delta_W2_prev = np.zeros(self.W2.shape) \n",
    "        delta_W3_prev = np.zeros(self.W3.shape) \n",
    "        delta_W4_prev = np.zeros(self.W4.shape) \n",
    "        delta_W5_prev = np.zeros(self.W5.shape) \n",
    "\n",
    "        self.cost_ = []\n",
    "        self.score_ = []\n",
    "        for i in range(self.epochs):\n",
    "\n",
    "            # adaptive learning rate\n",
    "            self.eta /= (1 + self.decrease_const*i)\n",
    "\n",
    "            if print_progress>0 and (i+1)%print_progress==0:\n",
    "                sys.stderr.write('\\rEpoch: %d/%d' % (i+1, self.epochs))\n",
    "                sys.stderr.flush()\n",
    "\n",
    "            if self.shuffle:\n",
    "                idx_shuffle = np.random.permutation(y_data.shape[0])\n",
    "                X_data, Y_enc, y_data = X_data[idx_shuffle], Y_enc[:, idx_shuffle], y_data[idx_shuffle]\n",
    "\n",
    "            mini = np.array_split(range(y_data.shape[0]), self.minibatches)\n",
    "            mini_cost = []\n",
    "            for idx in mini:\n",
    "            # feedforward\n",
    "                A1, Z1, A2, Z2, A3, Z3, A4, Z4, A5, Z5, A6 = self._feedforward(X_data[idx],\n",
    "                                                               self.W1,\n",
    "                                                               self.W2,\n",
    "                                                               self.W3,\n",
    "                                                               self.W4,\n",
    "                                                               self.W5\n",
    "                                                               )\n",
    "                \n",
    "                cost = self._cost(A6,Y_enc[:, idx],self.W1,self.W2,self.W3, self.W4, self.W5)\n",
    "                mini_cost.append(cost) # this appends cost of mini-batch only\n",
    "\n",
    "                # compute gradient via backpropagation\n",
    "                grad1, grad2, grad3, grad4, grad5 = self._get_gradient(A1=A1, A2=A2, A3=A3, A4=A4, A5=A5, A6=A6,\n",
    "                                                         Z1=Z1, Z2=Z2, Z3=Z3, Z4=Z4, Z5=Z5,\n",
    "                                                         Y_enc=Y_enc[:, idx],\n",
    "                                                         W1=self.W1, W2=self.W2, W3=self.W3, W4=self.W4, W5=self.W5)\n",
    "\n",
    "                delta_W1, delta_W2, delta_W3, delta_W4, delta_W5 = self.eta * grad1, self.eta * grad2, self.eta * grad3, self.eta * grad4, self.eta * grad5\n",
    "                self.W1 -= (delta_W1 + (self.alpha * delta_W1_prev))\n",
    "                self.W2 -= (delta_W2 + (self.alpha * delta_W2_prev)) # update with momentum\n",
    "                self.W3 -= (delta_W3 + (self.alpha * delta_W3_prev)) # update with momentum\n",
    "                self.W4 -= (delta_W4 + (self.alpha * delta_W4_prev)) # update with momentum\n",
    "                self.W5 -= (delta_W5 + (self.alpha * delta_W5_prev)) # update with momentum\n",
    "\n",
    "                delta_W1_prev, delta_W2_prev, delta_W3_prev, delta_W4_prev, delta_W5_prev = delta_W1, delta_W2, delta_W3, delta_W4, delta_W5\n",
    "\n",
    "            self.cost_.append(mini_cost)\n",
    "            self.score_.append(accuracy_score(y_data,self.predict(X_data)))\n",
    "            \n",
    "        return self\n",
    "    "
   ]
  },
  {
   "cell_type": "code",
   "execution_count": 173,
   "metadata": {
    "colab": {
     "base_uri": "https://localhost:8080/",
     "height": 50
    },
    "colab_type": "code",
    "id": "MfQuLEtFBtEo",
    "outputId": "ec553dad-9270-4df7-93b5-4c811fcf712a"
   },
   "outputs": [
    {
     "name": "stderr",
     "output_type": "stream",
     "text": [
      "Epoch: 300/300"
     ]
    },
    {
     "name": "stdout",
     "output_type": "stream",
     "text": [
      "\n",
      "Accuracy: 0.20262651265126513\n"
     ]
    }
   ],
   "source": [
    "params = dict(C=0.1, # tradeoff L2 regularizer\n",
    "              epochs=300, # iterations\n",
    "              eta=0.0000001,  # learning rate\n",
    "              random_state=1)\n",
    "\n",
    "X_train, X_test, Y_train, Y_test = train_test_split(dataframe3_min_max,\n",
    "                                                    raw_data['ChildPoverty'].values,\n",
    "                                                    test_size=0.20)\n",
    "\n",
    "nn = FiveLayerPerceptronBase(**params)\n",
    "\n",
    "nn.fit(X_train, Y_train, print_progress=50)\n",
    "yhat = nn.predict(X_test)\n",
    "print('\\nAccuracy:',accuracy_score(Y_test,yhat))"
   ]
  },
  {
   "cell_type": "code",
   "execution_count": 174,
   "metadata": {
    "colab": {
     "base_uri": "https://localhost:8080/",
     "height": 313
    },
    "colab_type": "code",
    "id": "Zz9_eja2Bsvy",
    "outputId": "a5d9b185-f84c-432d-c91a-086693e29872"
   },
   "outputs": [
    {
     "data": {
      "image/png": "[encoded data removed]",
      "text/plain": [
       "<Figure size 432x288 with 1 Axes>"
      ]
     },
     "metadata": {
      "tags": []
     },
     "output_type": "display_data"
    }
   ],
   "source": [
    "plt.plot(range(len(nn.cost_)), nn.cost_)\n",
    "plt.ylabel('Cost')\n",
    "plt.xlabel('Epochs')\n",
    "plt.tight_layout()\n",
    "plt.title(\"5 Layers of Perceptron\")\n",
    "plt.show()"
   ]
  },
  {
   "cell_type": "markdown",
   "metadata": {
    "colab_type": "text",
    "id": "qkZ-jNN4Yn37"
   },
   "source": [
    "### ***20 points***\n",
    "Implement an adaptive learning technique that was discussed in lecture and use it on the five layer network. Compare the performance of this model with and without the adaptive learning strategy. Do not use AdaM for the adaptive learning technique. "
   ]
  },
  {
   "cell_type": "code",
   "execution_count": 0,
   "metadata": {
    "colab": {},
    "colab_type": "code",
    "id": "Y_uy6GNbYxMz"
   },
   "outputs": [],
   "source": [
    "# code here"
   ]
  },
  {
   "cell_type": "markdown",
   "metadata": {
    "colab_type": "text",
    "id": "lXmaDIl9zXpi"
   },
   "source": []
  },
  {
   "cell_type": "markdown",
   "metadata": {
    "colab_type": "text",
    "id": "P310YWa7YyNj"
   },
   "source": [
    "*compare performances here*"
   ]
  },
  {
   "cell_type": "markdown",
   "metadata": {
    "colab_type": "text",
    "id": "eGy3luHSY91e"
   },
   "source": [
    "### ***Exceptional Work (10 points)***\n",
    "5000 level student: You have free reign to provide additional analyses.\n",
    "One idea (required for 7000 level students):  Implement adaptive momentum (AdaM) in the five layer neural network and quantify the performance. "
   ]
  },
  {
   "cell_type": "code",
   "execution_count": 0,
   "metadata": {
    "colab": {},
    "colab_type": "code",
    "id": "nY1TVHI7ZFal"
   },
   "outputs": [],
   "source": [
    "# code here"
   ]
  },
  {
   "cell_type": "markdown",
   "metadata": {
    "colab_type": "text",
    "id": "YgGXKCLKZGUC"
   },
   "source": [
    "*Explain here*\n"
   ]
  }
 ],
 "metadata": {
  "colab": {
   "collapsed_sections": [],
   "name": "Lab4.ipynb",
   "provenance": []
  },
  "kernelspec": {
   "display_name": "Python 3",
   "language": "python",
   "name": "python3"
  },
  "language_info": {
   "codemirror_mode": {
    "name": "ipython",
    "version": 3
   },
   "file_extension": ".py",
   "mimetype": "text/x-python",
   "name": "python",
   "nbconvert_exporter": "python",
   "pygments_lexer": "ipython3",
   "version": "3.7.4"
  }
 },
 "nbformat": 4,
 "nbformat_minor": 1
}
