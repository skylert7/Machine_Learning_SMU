{
  "nbformat": 4,
  "nbformat_minor": 0,
  "metadata": {
    "colab": {
      "name": "Lab3_Final_No_Explanations.ipynb",
      "provenance": [],
      "collapsed_sections": [
        "kIiw4du-dqJi",
        "l5eIc3UFe5JW",
        "nnj2zFITe_JQ",
        "UyN4seKac8uT",
        "IfE5cSb6c8uY",
        "5HM7vP1Ec8ui"
      ],
      "toc_visible": true
    },
    "kernelspec": {
      "display_name": "Python 3",
      "language": "python",
      "name": "python3"
    },
    "language_info": {
      "codemirror_mode": {
        "name": "ipython",
        "version": 3
      },
      "file_extension": ".py",
      "mimetype": "text/x-python",
      "name": "python",
      "nbconvert_exporter": "python",
      "pygments_lexer": "ipython3",
      "version": "3.6.10"
    }
  },
  "cells": [
    {
      "cell_type": "markdown",
      "metadata": {
        "id": "NrBk4qCIiQZq",
        "colab_type": "text"
      },
      "source": [
        "### Taylor Slaton\n",
        "### Skyler Tran"
      ]
    },
    {
      "cell_type": "code",
      "metadata": {
        "colab_type": "code",
        "id": "ND8kn4Bzc96I",
        "colab": {}
      },
      "source": [
        "import numpy as np\n",
        "import matplotlib.pyplot as plt\n",
        "import seaborn as sns\n",
        "import pandas as pd\n",
        "from sklearn.metrics import accuracy_score\n",
        "from scipy.special import expit\n",
        "\n",
        "import warnings\n",
        "warnings.simplefilter('ignore', DeprecationWarning)\n",
        "%matplotlib inline \n",
        "\n",
        "# upload data"
      ],
      "execution_count": 0,
      "outputs": []
    },
    {
      "cell_type": "code",
      "metadata": {
        "id": "H8v9FT2Kc8t8",
        "colab_type": "code",
        "colab": {}
      },
      "source": [
        "#read in data\n",
        "original_data = pd.read_csv('./clinvar-conflicting/clinvar_conflicting.csv')"
      ],
      "execution_count": 0,
      "outputs": []
    },
    {
      "cell_type": "code",
      "metadata": {
        "id": "357d2-rYc8t_",
        "colab_type": "code",
        "outputId": "81dbf672-4c51-4d0b-884c-2a6149d46cbe",
        "colab": {}
      },
      "source": [
        "# Data summary\n",
        "print(original_data.dtypes)\n",
        "print('===========')\n",
        "# print(data.info())"
      ],
      "execution_count": 0,
      "outputs": [
        {
          "output_type": "stream",
          "text": [
            "REF            object\n",
            "ALT            object\n",
            "AF_EXAC       float64\n",
            "AF_TGP        float64\n",
            "ORIGIN        float64\n",
            "CLASS           int64\n",
            "IMPACT         object\n",
            "EXON           object\n",
            "SIFT           object\n",
            "PolyPhen       object\n",
            "CADD_PHRED    float64\n",
            "CADD_RAW      float64\n",
            "dtype: object\n",
            "===========\n"
          ],
          "name": "stdout"
        }
      ]
    },
    {
      "cell_type": "markdown",
      "metadata": {
        "colab_type": "text",
        "id": "Tvc2VCdNdX5o"
      },
      "source": [
        "# Lab 3 : Extending Logistic Regression"
      ]
    },
    {
      "cell_type": "markdown",
      "metadata": {
        "colab_type": "text",
        "id": "hHhmQLG3dhxK"
      },
      "source": [
        "## Dataset Selection\n",
        "\n",
        "Select a dataset identically to the way you selected for the lab one (i.e., table data). You are not required to use the same dataset that you used in the past, but you are encouraged. You must identify a classification task from the dataset that contains three or more classes to predict. That is it cannot be a binary classification; it must be multi-class prediction. "
      ]
    },
    {
      "cell_type": "markdown",
      "metadata": {
        "colab_type": "text",
        "id": "kIiw4du-dqJi"
      },
      "source": [
        "## Preparation and Overview [***30 points***]"
      ]
    },
    {
      "cell_type": "markdown",
      "metadata": {
        "colab_type": "text",
        "id": "l5eIc3UFe5JW"
      },
      "source": [
        "### ***20 points***\n",
        "Explain the task and what business-case or use-case it is designed to solve (or designed to investigate). Detail exactly what the classification task is and what parties would be interested in the results. For example, would the model be deployed or use mostly for offline analysis? "
      ]
    },
    {
      "cell_type": "markdown",
      "metadata": {
        "colab_type": "text",
        "id": "iS7BczUpfWR0"
      },
      "source": [
        "*Explain answer here*\n",
        "\n",
        "The Genetic Variant Classifications dataset is a dataset that contains information on whether labs have classified different genetic variants in different ways. Variants are classified by clinical laboratories on whether a variant is considered benign, likely benign, uncertain, likely pathogenic, or pathogenic. This is how these classifications come to be, but it is possible that different labs will classify variants differently. When the difference is between benign and likely benign or pathogenic and likely pathogenic, the difference isn't that significant. However, when the differences are between benign or pathogenic the issue is much larger. This dataset takes this data and compiles whether or not these clinical labs have identified these variants differently. This is a problem that causes clinicians and researches to not necessarily know how to give a patient advice or how to continue with the found variant. This can cause a mix of false positives and significantly more problematic false negatives. <br> \n",
        "Our plan for this data set is to find a way to show people if their genetic variant falls within this gray area to be able seek a second opinion to keep themselves safe. This can also affect medical professionals, as they may be looking at conflicting data and not know what to tell their patient. <br />\n",
        "\n",
        "Our classification goal is to train a dataset on the patterns of conflicting classifications from different labs, as well as those that do not conflict. We will also be looking at the proteins and the allele patterns to see what is most likely pathogenic and what is most likely benign. The goal is to make an algorithm that medical professionals can use to be able to see what labs to listen to and what a genetic variant is classified more as, so that they can give their patients the proper information for their health, and if they should seek more opinions.\n",
        "<br />\n",
        "This model would be used for offline analysis. The algorithm would run on the database and end with some form of chart or graph that a medical professional could look at when dealing with a certain genetic variant. The medical professional would not plug in a variant and wait, as the data is already collected. This system would run and then whatever data was found would be used by the medical professional from then on, until more lab results are added to the database and the algorithm is run again."
      ]
    },
    {
      "cell_type": "markdown",
      "metadata": {
        "colab_type": "text",
        "id": "nnj2zFITe_JQ"
      },
      "source": [
        "### ***5 points***\n",
        " (mostly the same processes as from previous labs) Define and prepare your class variables. Use proper variable representations (int, float, one-hot, etc.). Use pre-processing methods (as needed) for dimensionality reduction, scaling, etc. Remove variables that are not needed/useful for the analysis. Describe the final dataset that is used for classification/regression (include a description of any newly formed variables you created)."
      ]
    },
    {
      "cell_type": "markdown",
      "metadata": {
        "colab_type": "text",
        "id": "uk3POI9AfsaB"
      },
      "source": [
        "*Explain answer here*\n",
        "\n",
        "| Name               | Type     | Level of<br>Measurement                                                   | Possibilities                                                                                                                                            | Explanation                                                                                                                                                                                                          | Kept? |\n",
        "|--------------------|----------|---------------------------------------------------------------------------|----------------------------------------------------------------------------------------------------------------------------------------------------------|----------------------------------------------------------------------------------------------------------------------------------------------------------------------------------------------------------------------|-------|\n",
        "| CHROM              | object   | Ordinal*<br>* Chromosomes<br>are <br>recognized<br>in a specific<br>order | Between 1 and 22                                                                                                                                         | Chromosome the variant is located on                                                                                                                                                                                 | No    |\n",
        "| POS                | int 64   | Interval                                                                  | Between 961 and 248                                                                                                                                      | Position on the chromosome the variant<br> is located on                                                                                                                                                             | No    |\n",
        "| REF                | object   | Nominal                                                                   | a, c, t, g                                                                                                                                               | Reference Allele                                                                                                                                                                                                     | Yes   |\n",
        "| ALT                | object   | Nominal                                                                   | a, c, t, g                                                                                                                                               | Alternate Allele                                                                                                                                                                                                     | Yes   |\n",
        "| AF_ESP             | float 64 | Interval                                                                  | Between 0 and 0.5                                                                                                                                        | Allele frequencies from GO-ESP                                                                                                                                                                                       | No    |\n",
        "| AF_EXAC            | float 64 | Interval                                                                  | Between 0 and 0.5                                                                                                                                        | Allele frequencies from ExAC                                                                                                                                                                                         | Yes   |\n",
        "| AF_TGP             | float 64 | Interval                                                                  | Between 0 and 0.5                                                                                                                                        | Allele frequencies from the 1000<br> genomes project                                                                                                                                                                 | Yes   |\n",
        "| CLNDISDB           | object   | Nominal                                                                   | Formula:<br>  OMIM:NNNNNN                                                                                                                                | Tag-value pairs of disease database<br> name and identifier                                                                                                                                                          | No    |\n",
        "| CLNDISDBINCL       | object   | Nominal                                                                   | Formula:<br>  OMIM:NNNNNN                                                                                                                                | Tag-value pairs of disease database<br> name and identifier for included <br> variant                                                                                                                                | No    |\n",
        "| CLNDN              | object   | Nominal                                                                   | Strings representing<br> a name                                                                                                                          | ClinVar's preferred disease name<br> for the concept specified by <br> disease identifiers in CLNDISDB                                                                                                               | No    |\n",
        "| CLNDNINCL          | object   | Nominal                                                                   | null                                                                                                                                                     | ClinVar's preferred disease name<br> for the concept specified by <br> disease identifiers in CLNDISDB<br> for included variant                                                                                      | No    |\n",
        "| CLNHGVS            | object   | Nominal                                                                   | Unique values                                                                                                                                            | Top-level HGVS* expression<br>* A standard made for describing<br>  variants, mutations, or <br>  polymorphisms                                                                                                      | No    |\n",
        "| CLNSIGINCL         | object   | Nominal                                                                   | Formula<br> VariationID:clinical significance                                                                                                            | Clinical significance for a<br> haplotype* or genotype* that<br> includes this variant<br>* Group of genes within an<br>  organism inherited from<br>  a single parent<br>* An organism's genetic <br>  constitution | No    |\n",
        "| CLNVC              | object   | Nominal                                                                   | single_nucleotide_variant<br>deletion                                                                                                                    | Variant Type                                                                                                                                                                                                         | No    |\n",
        "| CLNVI              | object   | Nominal                                                                   | Formula<br> UniProtKB_(protein):LNNNNN                                                                                                                   | Variant's clinical sources reported<br> as tag-value pairs of database and <br> variant identifier                                                                                                                   | No    |\n",
        "| MC                 | object   | Nominal                                                                   | Formula<br> SO:NNNNNNN|molecular_consequence                                                                                                             | Coma separated list of molecular<br> consequences in the form of <br> Sequence Ontology*<br>* A way to define sequence features                                                                                      | No    |\n",
        "| ORIGIN             | float 64 | Nominal                                                                   | unknown<br>germline<br>somatic<br>inherited<br>paternal<br>maternal<br>denovo<br>biparental<br>uniparental<br>not-tested<br>tested-inconclusive<br>other | Allele Origin                                                                                                                                                                                                        | Yes   |\n",
        "| SSR                | float 64 | Nominal                                                                   | 0 - unspecified<br>1 - Paralog<br>2 - byEST<br>4 - oldAlign<br>8 - Para_EST<br>16 - 1kg_failed<br>1024 - other                                           | Variant Suspect Reason Codes                                                                                                                                                                                         | No    |\n",
        "| CLASS              | int 64   | Nominal                                                                   | 0 - no conflict<br>1 - conflict                                                                                                                          | Binary representation of the target<br> class                                                                                                                                                                        | Yes   |\n",
        "| Allele             | object   | Nominal                                                                   | a, c, t, g                                                                                                                                               | Variant allele used to calculate the<br> consequence                                                                                                                                                                 | No    |\n",
        "| Consequences       | object   | Nominal                                                                   | 48 different values                                                                                                                                      | Type of consequence                                                                                                                                                                                                  | No    |\n",
        "| IMPACT             | object   | Ordinal                                                                   | LOW<br>MODERATE<br>MODIFIER                                                                                                                              | The impact modifier for the consequence<br> type                                                                                                                                                                     | Yes   |\n",
        "| SYMBOL             | object   | Nominal                                                                   | 2329 different values                                                                                                                                    | Gene Name                                                                                                                                                                                                            | No    |\n",
        "| Feature_type       | object   | Nominal                                                                   | Transcript<br>RegulatoryFeature<br>MotifFeature                                                                                                          | Type of feature                                                                                                                                                                                                      | No    |\n",
        "| Feature            | object   | Nominal                                                                   | Formula<br> LL_NNNNNN.N<br> *Differing number of N                                                                                                       | Ensemble stable ID of feature                                                                                                                                                                                        | No    |\n",
        "| BIOTYPE            | object   | Nominal                                                                   | protein_coding                                                                                                                                           | Biotype of transcript or regulatory<br> feature                                                                                                                                                                      | No    |\n",
        "| EXON               | object   | Ratio                                                                     | Formula <br> NN/39<br> *Differing number of N                                                                                                            | Exon* number<br>* Type of amino acid                                                                                                                                                                                 | Yes   |\n",
        "| INTRON             | object   | Ratio                                                                     | Formula <br> NN/38<br> *Differing number of N                                                                                                            | Intron* number<br>* Segment of DNA or RNA that<br>  interrupts sequence of genes                                                                                                                                     | No    |\n",
        "| cDNA_position      | object   | Interval                                                                  | Numeric Values                                                                                                                                           | Relative position of base pair in the<br> cDNA* sequence<br>* DNA from a single-strand RNA                                                                                                                           | Yes   |\n",
        "| CDS_position       | object   | Interval                                                                  | Numeric Values                                                                                                                                           | Relative position of base pair in the<br> coding sequence                                                                                                                                                            | No    |\n",
        "| Protein_position   | object   | Interval                                                                  | Numeric Values                                                                                                                                           | Relative position of amino acid in <br>protein                                                                                                                                                                       | No    |\n",
        "| Amino_acids        | object   | Nominal                                                                   | Formula<br> L<br> *Representing a protein                                                                                                                | Only given if the variant affects the<br> protein-coding sequence                                                                                                                                                    | No    |\n",
        "| Codons             | object   | Nominal                                                                   | strand of a, c, t, g                                                                                                                                     | Alternative codons* with the variant <br>affects the protein-coding sequence<br>* Sequence of 3 DNA/RNA that <br>  represents an amino acid or<br>  stop signal                                                      | No    |\n",
        "| DISTANCE           | float 64 | Interval                                                                  | Between 1 and 4759                                                                                                                                       | Shortest distance from variant to <br> transcript                                                                                                                                                                    | No    |\n",
        "| STRAND             | float 64 | Nominal                                                                   | 1 - forward<br>-1 - reverse                                                                                                                              | Defined as forward or reverse                                                                                                                                                                                        | No    |\n",
        "| BAM_EDIT           | object   | Nominal                                                                   | OK<br>Failed<br>null                                                                                                                                     | Indicates success or failure of edit<br> using BAM file                                                                                                                                                              | No    |\n",
        "| SIFT               | object   | Ordinal                                                                   | tolerated<br>deleterious<br>deleterious_low_confidence<br>tolerated_low_confidence<br>null                                                               | SIFT prediction* and/or score, with<br> both given as prediction<br>* Does an amino acid substitution<br>  affect the protein of the sequence                                                                        | Yes   |\n",
        "| PolyPhen           | object   | Ordinal                                                                   | benign<br>probably_damaging<br>possibly_damaging<br>null                                                                                                 | PolyPhen* prediction and/or score<br>* Polymorphism Phenotyping, or<br>  amino acid substitution affect                                                                                                              | Yes   |\n",
        "| MOTIF_NAME         | object   | Nominal                                                                   | null<br>Egr1:MA0341.1<br>FOXA1:MA0546.1                                                                                                                  | Source and identifier of a<br> transcription factor binding<br> profile aligned at this position                                                                                                                     | No    |\n",
        "| MOTIF_POS          | float 64 | Interval                                                                  | null<br>1                                                                                                                                                | Relative position of the variation<br> in the aligned TFBP*<br>* Transferrin-binding Protein, or<br>  iron-binding blood plasma                                                                                      | No    |\n",
        "| HIGH_INF_POS       | object   | Nominal                                                                   | null<br>N                                                                                                                                                | Flag indicating if the variant<br> falls in a high information<br> position of a transcription<br> factor binding profile                                                                                            | No    |\n",
        "| MOTIF_SCORE_CHANGE | float 64 | Interval                                                                  | null<br>-0.063<br>-0.097                                                                                                                                 | Difference in motif score* of the<br> reference and variant sequences<br> for the TFBP<br>* Genomic sequences that specifically<br>  bind to transcription factors                                                   | No    |\n",
        "| LoFtool            | float 64 | Ratio                                                                     | Between 0 and 1                                                                                                                                          | Loss of Function tolerance score<br> for the loss of function variants                                                                                                                                               | No    |\n",
        "| CADD_PHRED         | float 64 | Interval                                                                  | Between 0 and 99                                                                                                                                         | Phred-scaled CADD score*<br>* Rank of variant relative to <br>  substitution of human reference<br>  genome                                                                                                          | Yes   |\n",
        "| CADD_RAW           | float 64 | Interval                                                                  | Between -5.48 and 46.6                                                                                                                                   | Score of the deleteriousness*<br> of variants<br>* A genetic alteration that increases<br>  how susceptibility to a disease                                                                                          | No    |\n",
        "| BLOSUM62           | float 64 | Ordinal                                                                   | Between -3 and 3                                                                                                                                         | Scoring matrix for protein strings*<br>* how much does two sequences match                                                                                                                                           | No    |\n",
        "\n",
        "\n",
        "\n",
        "In summary,  we kept origin (the reference as to where the variant is located), impact (how much the variant could impact the person), ref (the allele that the variant changes), alt (the allele that it changed to), AF_EXAC and AF_TGP (frequencies of these variants), CADD_PHRED (a rank of substitution), EXON (type of amino acid), class (whether there's a conflict or not), sift (how much does this affect the genome), PolyPhen (the substitution affect), and cDNA_position (the position of the base pair). We did not end up creating any specific variables, as this dataset had all the necessary information within already existing variables.\n",
        "\n"
      ]
    },
    {
      "cell_type": "code",
      "metadata": {
        "colab_type": "code",
        "id": "jTpdBg2Mf3sC",
        "colab": {}
      },
      "source": [
        "# preprocess variables\n",
        "# dimensionality reduction\n",
        "# scaling\n",
        "# remove vars\n",
        "# create vars"
      ],
      "execution_count": 0,
      "outputs": []
    },
    {
      "cell_type": "code",
      "metadata": {
        "id": "8TxLy-kKc8uM",
        "colab_type": "code",
        "outputId": "032816d3-fd46-410f-ed77-611edac38137",
        "colab": {}
      },
      "source": [
        "# Remove attributes that just arent useful for us\n",
        "# Removing features that aren't useful for our purposes (Columns that has less than 50% of data are deleted)\n",
        "for feat in ['DISTANCE', 'SSR', 'CLNDNINCL', 'CLNSIGINCL', 'CLNDISDBINCL', 'MOTIF_NAME', 'MOTIF_POS', 'HIGH_INF_POS', 'MOTIF_SCORE_CHANGE',\n",
        "            'BAM_EDIT', 'CLNVI', 'BLOSUM62', 'INTRON', 'Feature_type', 'BIOTYPE', 'Feature']:\n",
        "  if feat in original_data:\n",
        "    del original_data[feat]\n",
        "original_data"
      ],
      "execution_count": 0,
      "outputs": [
        {
          "output_type": "execute_result",
          "data": {
            "text/html": [
              "<div>\n",
              "<style scoped>\n",
              "    .dataframe tbody tr th:only-of-type {\n",
              "        vertical-align: middle;\n",
              "    }\n",
              "\n",
              "    .dataframe tbody tr th {\n",
              "        vertical-align: top;\n",
              "    }\n",
              "\n",
              "    .dataframe thead th {\n",
              "        text-align: right;\n",
              "    }\n",
              "</style>\n",
              "<table border=\"1\" class=\"dataframe\">\n",
              "  <thead>\n",
              "    <tr style=\"text-align: right;\">\n",
              "      <th></th>\n",
              "      <th>REF</th>\n",
              "      <th>ALT</th>\n",
              "      <th>AF_EXAC</th>\n",
              "      <th>AF_TGP</th>\n",
              "      <th>ORIGIN</th>\n",
              "      <th>CLASS</th>\n",
              "      <th>IMPACT</th>\n",
              "      <th>EXON</th>\n",
              "      <th>SIFT</th>\n",
              "      <th>PolyPhen</th>\n",
              "      <th>CADD_PHRED</th>\n",
              "      <th>CADD_RAW</th>\n",
              "    </tr>\n",
              "  </thead>\n",
              "  <tbody>\n",
              "    <tr>\n",
              "      <th>0</th>\n",
              "      <td>G</td>\n",
              "      <td>T</td>\n",
              "      <td>0.00289</td>\n",
              "      <td>0.0010</td>\n",
              "      <td>1.0</td>\n",
              "      <td>0</td>\n",
              "      <td>MODIFIER</td>\n",
              "      <td>363/363</td>\n",
              "      <td>NaN</td>\n",
              "      <td>NaN</td>\n",
              "      <td>11.170</td>\n",
              "      <td>1.091042</td>\n",
              "    </tr>\n",
              "    <tr>\n",
              "      <th>1</th>\n",
              "      <td>A</td>\n",
              "      <td>G</td>\n",
              "      <td>0.00063</td>\n",
              "      <td>0.0004</td>\n",
              "      <td>1.0</td>\n",
              "      <td>1</td>\n",
              "      <td>LOW</td>\n",
              "      <td>363/363</td>\n",
              "      <td>NaN</td>\n",
              "      <td>NaN</td>\n",
              "      <td>1.437</td>\n",
              "      <td>-0.142156</td>\n",
              "    </tr>\n",
              "    <tr>\n",
              "      <th>2</th>\n",
              "      <td>C</td>\n",
              "      <td>A</td>\n",
              "      <td>0.00004</td>\n",
              "      <td>0.0000</td>\n",
              "      <td>1.0</td>\n",
              "      <td>0</td>\n",
              "      <td>MODERATE</td>\n",
              "      <td>363/363</td>\n",
              "      <td>NaN</td>\n",
              "      <td>NaN</td>\n",
              "      <td>23.000</td>\n",
              "      <td>3.385304</td>\n",
              "    </tr>\n",
              "    <tr>\n",
              "      <th>3</th>\n",
              "      <td>GT</td>\n",
              "      <td>G</td>\n",
              "      <td>0.00001</td>\n",
              "      <td>0.0000</td>\n",
              "      <td>1.0</td>\n",
              "      <td>0</td>\n",
              "      <td>HIGH</td>\n",
              "      <td>363/363</td>\n",
              "      <td>NaN</td>\n",
              "      <td>NaN</td>\n",
              "      <td>63.000</td>\n",
              "      <td>25.726748</td>\n",
              "    </tr>\n",
              "    <tr>\n",
              "      <th>4</th>\n",
              "      <td>A</td>\n",
              "      <td>C</td>\n",
              "      <td>0.00000</td>\n",
              "      <td>0.0000</td>\n",
              "      <td>1.0</td>\n",
              "      <td>1</td>\n",
              "      <td>MODERATE</td>\n",
              "      <td>363/363</td>\n",
              "      <td>NaN</td>\n",
              "      <td>NaN</td>\n",
              "      <td>20.400</td>\n",
              "      <td>2.630719</td>\n",
              "    </tr>\n",
              "    <tr>\n",
              "      <th>...</th>\n",
              "      <td>...</td>\n",
              "      <td>...</td>\n",
              "      <td>...</td>\n",
              "      <td>...</td>\n",
              "      <td>...</td>\n",
              "      <td>...</td>\n",
              "      <td>...</td>\n",
              "      <td>...</td>\n",
              "      <td>...</td>\n",
              "      <td>...</td>\n",
              "      <td>...</td>\n",
              "      <td>...</td>\n",
              "    </tr>\n",
              "    <tr>\n",
              "      <th>62907</th>\n",
              "      <td>G</td>\n",
              "      <td>A</td>\n",
              "      <td>0.00000</td>\n",
              "      <td>0.0000</td>\n",
              "      <td>1.0</td>\n",
              "      <td>0</td>\n",
              "      <td>MODIFIER</td>\n",
              "      <td>NaN</td>\n",
              "      <td>NaN</td>\n",
              "      <td>NaN</td>\n",
              "      <td>24.400</td>\n",
              "      <td>4.556305</td>\n",
              "    </tr>\n",
              "    <tr>\n",
              "      <th>62908</th>\n",
              "      <td>T</td>\n",
              "      <td>C</td>\n",
              "      <td>0.00000</td>\n",
              "      <td>0.0000</td>\n",
              "      <td>1.0</td>\n",
              "      <td>1</td>\n",
              "      <td>MODIFIER</td>\n",
              "      <td>NaN</td>\n",
              "      <td>NaN</td>\n",
              "      <td>NaN</td>\n",
              "      <td>3.016</td>\n",
              "      <td>0.043467</td>\n",
              "    </tr>\n",
              "    <tr>\n",
              "      <th>62909</th>\n",
              "      <td>T</td>\n",
              "      <td>C</td>\n",
              "      <td>0.00000</td>\n",
              "      <td>0.0000</td>\n",
              "      <td>1.0</td>\n",
              "      <td>1</td>\n",
              "      <td>MODIFIER</td>\n",
              "      <td>NaN</td>\n",
              "      <td>NaN</td>\n",
              "      <td>NaN</td>\n",
              "      <td>2.860</td>\n",
              "      <td>0.027997</td>\n",
              "    </tr>\n",
              "    <tr>\n",
              "      <th>62910</th>\n",
              "      <td>T</td>\n",
              "      <td>C</td>\n",
              "      <td>0.00000</td>\n",
              "      <td>0.0000</td>\n",
              "      <td>1.0</td>\n",
              "      <td>1</td>\n",
              "      <td>MODIFIER</td>\n",
              "      <td>NaN</td>\n",
              "      <td>NaN</td>\n",
              "      <td>NaN</td>\n",
              "      <td>2.081</td>\n",
              "      <td>-0.055831</td>\n",
              "    </tr>\n",
              "    <tr>\n",
              "      <th>62911</th>\n",
              "      <td>A</td>\n",
              "      <td>G</td>\n",
              "      <td>0.00000</td>\n",
              "      <td>0.0000</td>\n",
              "      <td>1.0</td>\n",
              "      <td>1</td>\n",
              "      <td>MODIFIER</td>\n",
              "      <td>NaN</td>\n",
              "      <td>NaN</td>\n",
              "      <td>NaN</td>\n",
              "      <td>9.734</td>\n",
              "      <td>0.844303</td>\n",
              "    </tr>\n",
              "  </tbody>\n",
              "</table>\n",
              "<p>62912 rows × 12 columns</p>\n",
              "</div>"
            ],
            "text/plain": [
              "      REF ALT  AF_EXAC  AF_TGP  ORIGIN  CLASS    IMPACT     EXON SIFT  \\\n",
              "0       G   T  0.00289  0.0010     1.0      0  MODIFIER  363/363  NaN   \n",
              "1       A   G  0.00063  0.0004     1.0      1       LOW  363/363  NaN   \n",
              "2       C   A  0.00004  0.0000     1.0      0  MODERATE  363/363  NaN   \n",
              "3      GT   G  0.00001  0.0000     1.0      0      HIGH  363/363  NaN   \n",
              "4       A   C  0.00000  0.0000     1.0      1  MODERATE  363/363  NaN   \n",
              "...    ..  ..      ...     ...     ...    ...       ...      ...  ...   \n",
              "62907   G   A  0.00000  0.0000     1.0      0  MODIFIER      NaN  NaN   \n",
              "62908   T   C  0.00000  0.0000     1.0      1  MODIFIER      NaN  NaN   \n",
              "62909   T   C  0.00000  0.0000     1.0      1  MODIFIER      NaN  NaN   \n",
              "62910   T   C  0.00000  0.0000     1.0      1  MODIFIER      NaN  NaN   \n",
              "62911   A   G  0.00000  0.0000     1.0      1  MODIFIER      NaN  NaN   \n",
              "\n",
              "      PolyPhen  CADD_PHRED   CADD_RAW  \n",
              "0          NaN      11.170   1.091042  \n",
              "1          NaN       1.437  -0.142156  \n",
              "2          NaN      23.000   3.385304  \n",
              "3          NaN      63.000  25.726748  \n",
              "4          NaN      20.400   2.630719  \n",
              "...        ...         ...        ...  \n",
              "62907      NaN      24.400   4.556305  \n",
              "62908      NaN       3.016   0.043467  \n",
              "62909      NaN       2.860   0.027997  \n",
              "62910      NaN       2.081  -0.055831  \n",
              "62911      NaN       9.734   0.844303  \n",
              "\n",
              "[62912 rows x 12 columns]"
            ]
          },
          "metadata": {
            "tags": []
          },
          "execution_count": 5
        }
      ]
    },
    {
      "cell_type": "code",
      "metadata": {
        "id": "8KxXhMsDc8uQ",
        "colab_type": "code",
        "outputId": "111058ed-290d-44c8-e9c9-605ac8aa67a4",
        "colab": {}
      },
      "source": [
        "categorical = ['IMPACT', 'SIFT', 'PolyPhen']\n",
        "len(categorical)\n",
        "\n",
        "unique_cat_values = []\n",
        "total_non_nans = []\n",
        "# make df for # unique values in the categorical features\n",
        "for feat in categorical:\n",
        "  unique_cat_values.append(original_data[feat].nunique())\n",
        "  total_non_nans.append(original_data[feat].count())\n",
        "unique_cat_values = pd.DataFrame({'Feature': categorical, 'Num_unique': unique_cat_values})\n",
        "total_non_nans = pd.DataFrame({'Feature': categorical, 'Non_Nan_Count': total_non_nans})\n",
        "unique_cat_values\n",
        "total_non_nans"
      ],
      "execution_count": 0,
      "outputs": [
        {
          "output_type": "execute_result",
          "data": {
            "text/html": [
              "<div>\n",
              "<style scoped>\n",
              "    .dataframe tbody tr th:only-of-type {\n",
              "        vertical-align: middle;\n",
              "    }\n",
              "\n",
              "    .dataframe tbody tr th {\n",
              "        vertical-align: top;\n",
              "    }\n",
              "\n",
              "    .dataframe thead th {\n",
              "        text-align: right;\n",
              "    }\n",
              "</style>\n",
              "<table border=\"1\" class=\"dataframe\">\n",
              "  <thead>\n",
              "    <tr style=\"text-align: right;\">\n",
              "      <th></th>\n",
              "      <th>Feature</th>\n",
              "      <th>Non_Nan_Count</th>\n",
              "    </tr>\n",
              "  </thead>\n",
              "  <tbody>\n",
              "    <tr>\n",
              "      <th>0</th>\n",
              "      <td>IMPACT</td>\n",
              "      <td>62912</td>\n",
              "    </tr>\n",
              "    <tr>\n",
              "      <th>1</th>\n",
              "      <td>SIFT</td>\n",
              "      <td>24772</td>\n",
              "    </tr>\n",
              "    <tr>\n",
              "      <th>2</th>\n",
              "      <td>PolyPhen</td>\n",
              "      <td>24732</td>\n",
              "    </tr>\n",
              "  </tbody>\n",
              "</table>\n",
              "</div>"
            ],
            "text/plain": [
              "    Feature  Non_Nan_Count\n",
              "0    IMPACT          62912\n",
              "1      SIFT          24772\n",
              "2  PolyPhen          24732"
            ]
          },
          "metadata": {
            "tags": []
          },
          "execution_count": 6
        }
      ]
    },
    {
      "cell_type": "markdown",
      "metadata": {
        "id": "UyN4seKac8uT",
        "colab_type": "text"
      },
      "source": [
        "## Subset of the data\n",
        "\n",
        "For the purpose of this lab, we only use records that have PolyPhen value."
      ]
    },
    {
      "cell_type": "code",
      "metadata": {
        "id": "vflF-Twyc8uT",
        "colab_type": "code",
        "outputId": "9db93146-432e-4172-f1a2-96192b3e4bdd",
        "colab": {}
      },
      "source": [
        "# We need to convert EXON to a ratio.  Right now the entries are like 1/10 instead\n",
        "# of .1 so we need to process that.\n",
        "subset_data_list = ['ORIGIN', 'IMPACT', 'REF', 'ALT', 'AF_EXAC', 'AF_TGP',\n",
        "                    'CADD_PHRED', 'EXON', 'CLASS', 'SIFT', 'PolyPhen']\n",
        "\n",
        "subset_data = original_data[subset_data_list]\n",
        "print(subset_data.info())\n",
        "subset_data"
      ],
      "execution_count": 0,
      "outputs": [
        {
          "output_type": "stream",
          "text": [
            "<class 'pandas.core.frame.DataFrame'>\n",
            "RangeIndex: 62912 entries, 0 to 62911\n",
            "Data columns (total 11 columns):\n",
            " #   Column      Non-Null Count  Dtype  \n",
            "---  ------      --------------  -----  \n",
            " 0   ORIGIN      56789 non-null  float64\n",
            " 1   IMPACT      62912 non-null  object \n",
            " 2   REF         62912 non-null  object \n",
            " 3   ALT         62912 non-null  object \n",
            " 4   AF_EXAC     62912 non-null  float64\n",
            " 5   AF_TGP      62912 non-null  float64\n",
            " 6   CADD_PHRED  62554 non-null  float64\n",
            " 7   EXON        54028 non-null  object \n",
            " 8   CLASS       62912 non-null  int64  \n",
            " 9   SIFT        24772 non-null  object \n",
            " 10  PolyPhen    24732 non-null  object \n",
            "dtypes: float64(4), int64(1), object(6)\n",
            "memory usage: 5.3+ MB\n",
            "None\n"
          ],
          "name": "stdout"
        },
        {
          "output_type": "execute_result",
          "data": {
            "text/html": [
              "<div>\n",
              "<style scoped>\n",
              "    .dataframe tbody tr th:only-of-type {\n",
              "        vertical-align: middle;\n",
              "    }\n",
              "\n",
              "    .dataframe tbody tr th {\n",
              "        vertical-align: top;\n",
              "    }\n",
              "\n",
              "    .dataframe thead th {\n",
              "        text-align: right;\n",
              "    }\n",
              "</style>\n",
              "<table border=\"1\" class=\"dataframe\">\n",
              "  <thead>\n",
              "    <tr style=\"text-align: right;\">\n",
              "      <th></th>\n",
              "      <th>ORIGIN</th>\n",
              "      <th>IMPACT</th>\n",
              "      <th>REF</th>\n",
              "      <th>ALT</th>\n",
              "      <th>AF_EXAC</th>\n",
              "      <th>AF_TGP</th>\n",
              "      <th>CADD_PHRED</th>\n",
              "      <th>EXON</th>\n",
              "      <th>CLASS</th>\n",
              "      <th>SIFT</th>\n",
              "      <th>PolyPhen</th>\n",
              "    </tr>\n",
              "  </thead>\n",
              "  <tbody>\n",
              "    <tr>\n",
              "      <th>0</th>\n",
              "      <td>1.0</td>\n",
              "      <td>MODIFIER</td>\n",
              "      <td>G</td>\n",
              "      <td>T</td>\n",
              "      <td>0.00289</td>\n",
              "      <td>0.0010</td>\n",
              "      <td>11.170</td>\n",
              "      <td>363/363</td>\n",
              "      <td>0</td>\n",
              "      <td>NaN</td>\n",
              "      <td>NaN</td>\n",
              "    </tr>\n",
              "    <tr>\n",
              "      <th>1</th>\n",
              "      <td>1.0</td>\n",
              "      <td>LOW</td>\n",
              "      <td>A</td>\n",
              "      <td>G</td>\n",
              "      <td>0.00063</td>\n",
              "      <td>0.0004</td>\n",
              "      <td>1.437</td>\n",
              "      <td>363/363</td>\n",
              "      <td>1</td>\n",
              "      <td>NaN</td>\n",
              "      <td>NaN</td>\n",
              "    </tr>\n",
              "    <tr>\n",
              "      <th>2</th>\n",
              "      <td>1.0</td>\n",
              "      <td>MODERATE</td>\n",
              "      <td>C</td>\n",
              "      <td>A</td>\n",
              "      <td>0.00004</td>\n",
              "      <td>0.0000</td>\n",
              "      <td>23.000</td>\n",
              "      <td>363/363</td>\n",
              "      <td>0</td>\n",
              "      <td>NaN</td>\n",
              "      <td>NaN</td>\n",
              "    </tr>\n",
              "    <tr>\n",
              "      <th>3</th>\n",
              "      <td>1.0</td>\n",
              "      <td>HIGH</td>\n",
              "      <td>GT</td>\n",
              "      <td>G</td>\n",
              "      <td>0.00001</td>\n",
              "      <td>0.0000</td>\n",
              "      <td>63.000</td>\n",
              "      <td>363/363</td>\n",
              "      <td>0</td>\n",
              "      <td>NaN</td>\n",
              "      <td>NaN</td>\n",
              "    </tr>\n",
              "    <tr>\n",
              "      <th>4</th>\n",
              "      <td>1.0</td>\n",
              "      <td>MODERATE</td>\n",
              "      <td>A</td>\n",
              "      <td>C</td>\n",
              "      <td>0.00000</td>\n",
              "      <td>0.0000</td>\n",
              "      <td>20.400</td>\n",
              "      <td>363/363</td>\n",
              "      <td>1</td>\n",
              "      <td>NaN</td>\n",
              "      <td>NaN</td>\n",
              "    </tr>\n",
              "    <tr>\n",
              "      <th>...</th>\n",
              "      <td>...</td>\n",
              "      <td>...</td>\n",
              "      <td>...</td>\n",
              "      <td>...</td>\n",
              "      <td>...</td>\n",
              "      <td>...</td>\n",
              "      <td>...</td>\n",
              "      <td>...</td>\n",
              "      <td>...</td>\n",
              "      <td>...</td>\n",
              "      <td>...</td>\n",
              "    </tr>\n",
              "    <tr>\n",
              "      <th>62907</th>\n",
              "      <td>1.0</td>\n",
              "      <td>MODIFIER</td>\n",
              "      <td>G</td>\n",
              "      <td>A</td>\n",
              "      <td>0.00000</td>\n",
              "      <td>0.0000</td>\n",
              "      <td>24.400</td>\n",
              "      <td>NaN</td>\n",
              "      <td>0</td>\n",
              "      <td>NaN</td>\n",
              "      <td>NaN</td>\n",
              "    </tr>\n",
              "    <tr>\n",
              "      <th>62908</th>\n",
              "      <td>1.0</td>\n",
              "      <td>MODIFIER</td>\n",
              "      <td>T</td>\n",
              "      <td>C</td>\n",
              "      <td>0.00000</td>\n",
              "      <td>0.0000</td>\n",
              "      <td>3.016</td>\n",
              "      <td>NaN</td>\n",
              "      <td>1</td>\n",
              "      <td>NaN</td>\n",
              "      <td>NaN</td>\n",
              "    </tr>\n",
              "    <tr>\n",
              "      <th>62909</th>\n",
              "      <td>1.0</td>\n",
              "      <td>MODIFIER</td>\n",
              "      <td>T</td>\n",
              "      <td>C</td>\n",
              "      <td>0.00000</td>\n",
              "      <td>0.0000</td>\n",
              "      <td>2.860</td>\n",
              "      <td>NaN</td>\n",
              "      <td>1</td>\n",
              "      <td>NaN</td>\n",
              "      <td>NaN</td>\n",
              "    </tr>\n",
              "    <tr>\n",
              "      <th>62910</th>\n",
              "      <td>1.0</td>\n",
              "      <td>MODIFIER</td>\n",
              "      <td>T</td>\n",
              "      <td>C</td>\n",
              "      <td>0.00000</td>\n",
              "      <td>0.0000</td>\n",
              "      <td>2.081</td>\n",
              "      <td>NaN</td>\n",
              "      <td>1</td>\n",
              "      <td>NaN</td>\n",
              "      <td>NaN</td>\n",
              "    </tr>\n",
              "    <tr>\n",
              "      <th>62911</th>\n",
              "      <td>1.0</td>\n",
              "      <td>MODIFIER</td>\n",
              "      <td>A</td>\n",
              "      <td>G</td>\n",
              "      <td>0.00000</td>\n",
              "      <td>0.0000</td>\n",
              "      <td>9.734</td>\n",
              "      <td>NaN</td>\n",
              "      <td>1</td>\n",
              "      <td>NaN</td>\n",
              "      <td>NaN</td>\n",
              "    </tr>\n",
              "  </tbody>\n",
              "</table>\n",
              "<p>62912 rows × 11 columns</p>\n",
              "</div>"
            ],
            "text/plain": [
              "       ORIGIN    IMPACT REF ALT  AF_EXAC  AF_TGP  CADD_PHRED     EXON  CLASS  \\\n",
              "0         1.0  MODIFIER   G   T  0.00289  0.0010      11.170  363/363      0   \n",
              "1         1.0       LOW   A   G  0.00063  0.0004       1.437  363/363      1   \n",
              "2         1.0  MODERATE   C   A  0.00004  0.0000      23.000  363/363      0   \n",
              "3         1.0      HIGH  GT   G  0.00001  0.0000      63.000  363/363      0   \n",
              "4         1.0  MODERATE   A   C  0.00000  0.0000      20.400  363/363      1   \n",
              "...       ...       ...  ..  ..      ...     ...         ...      ...    ...   \n",
              "62907     1.0  MODIFIER   G   A  0.00000  0.0000      24.400      NaN      0   \n",
              "62908     1.0  MODIFIER   T   C  0.00000  0.0000       3.016      NaN      1   \n",
              "62909     1.0  MODIFIER   T   C  0.00000  0.0000       2.860      NaN      1   \n",
              "62910     1.0  MODIFIER   T   C  0.00000  0.0000       2.081      NaN      1   \n",
              "62911     1.0  MODIFIER   A   G  0.00000  0.0000       9.734      NaN      1   \n",
              "\n",
              "      SIFT PolyPhen  \n",
              "0      NaN      NaN  \n",
              "1      NaN      NaN  \n",
              "2      NaN      NaN  \n",
              "3      NaN      NaN  \n",
              "4      NaN      NaN  \n",
              "...    ...      ...  \n",
              "62907  NaN      NaN  \n",
              "62908  NaN      NaN  \n",
              "62909  NaN      NaN  \n",
              "62910  NaN      NaN  \n",
              "62911  NaN      NaN  \n",
              "\n",
              "[62912 rows x 11 columns]"
            ]
          },
          "metadata": {
            "tags": []
          },
          "execution_count": 7
        }
      ]
    },
    {
      "cell_type": "markdown",
      "metadata": {
        "id": "IfE5cSb6c8uY",
        "colab_type": "text"
      },
      "source": [
        "### Cleaning Subset Data"
      ]
    },
    {
      "cell_type": "markdown",
      "metadata": {
        "id": "zZGCyD1Xc8uZ",
        "colab_type": "text"
      },
      "source": [
        "Now we need to fix the EXON column to hold numeric ratio values "
      ]
    },
    {
      "cell_type": "code",
      "metadata": {
        "id": "FDghuvcAc8ua",
        "colab_type": "code",
        "outputId": "d2e63bc7-79d8-48d0-b0ca-d38f45caa427",
        "colab": {}
      },
      "source": [
        "# Fix EXON\n",
        "# subset_cc_data.EXON.apply(lambda x: np.nan if x.startswith('XXX') else x)\n",
        "def make_ratio(x):\n",
        "  fin = np.nan\n",
        "  try:\n",
        "    vals = x.split('/')\n",
        "    fin = float(vals[0]) / float(vals[-1])\n",
        "  except:\n",
        "    return fin \n",
        "  return fin\n",
        "subset_data.EXON = subset_data.EXON.apply(lambda x: make_ratio(x))\n",
        "# convert EXON to float datatype \n",
        "subset_data.EXON = subset_data.EXON.astype(float)"
      ],
      "execution_count": 0,
      "outputs": [
        {
          "output_type": "stream",
          "text": [
            "C:\\Users\\Skyler\\Anaconda3\\envs\\mlenv\\lib\\site-packages\\pandas\\core\\generic.py:5303: SettingWithCopyWarning: \n",
            "A value is trying to be set on a copy of a slice from a DataFrame.\n",
            "Try using .loc[row_indexer,col_indexer] = value instead\n",
            "\n",
            "See the caveats in the documentation: https://pandas.pydata.org/pandas-docs/stable/user_guide/indexing.html#returning-a-view-versus-a-copy\n",
            "  self[name] = value\n"
          ],
          "name": "stderr"
        }
      ]
    },
    {
      "cell_type": "code",
      "metadata": {
        "id": "td6qXRVAc8uf",
        "colab_type": "code",
        "outputId": "6234616a-f53d-4bd6-e688-6de73ce35704",
        "colab": {}
      },
      "source": [
        "subset_data.info()"
      ],
      "execution_count": 0,
      "outputs": [
        {
          "output_type": "stream",
          "text": [
            "<class 'pandas.core.frame.DataFrame'>\n",
            "RangeIndex: 62912 entries, 0 to 62911\n",
            "Data columns (total 11 columns):\n",
            " #   Column      Non-Null Count  Dtype  \n",
            "---  ------      --------------  -----  \n",
            " 0   ORIGIN      56789 non-null  float64\n",
            " 1   IMPACT      62912 non-null  object \n",
            " 2   REF         62912 non-null  object \n",
            " 3   ALT         62912 non-null  object \n",
            " 4   AF_EXAC     62912 non-null  float64\n",
            " 5   AF_TGP      62912 non-null  float64\n",
            " 6   CADD_PHRED  62554 non-null  float64\n",
            " 7   EXON        23004 non-null  float64\n",
            " 8   CLASS       62912 non-null  int64  \n",
            " 9   SIFT        24772 non-null  object \n",
            " 10  PolyPhen    24732 non-null  object \n",
            "dtypes: float64(5), int64(1), object(5)\n",
            "memory usage: 5.3+ MB\n"
          ],
          "name": "stdout"
        }
      ]
    },
    {
      "cell_type": "markdown",
      "metadata": {
        "id": "5HM7vP1Ec8ui",
        "colab_type": "text"
      },
      "source": [
        "### Imputation\n",
        "\n",
        "We decided to use the KNN algorithm to impute our dataset. We chose KNN for the following reasons:\n",
        "\n",
        "KNN can impute all types of data (ordinal, categorical, etc.) if the distance metric is defined for each type of data. Although our categorical data is not missing any values, if we added to this dataset or if the dataset was expanded and had missing data once expanded, we could use our same imputation implementation as opposed to changing. Although sklearn does not seem to support this yet, there are other libraries that are able to do this.\n",
        "\n",
        "KNN is non-parametric which means that it does not make assumptions about the underlying data distributions. This is important because some of our data may not conform to any distribution.\n",
        "\n",
        "Already implemented by sklearn :-)"
      ]
    },
    {
      "cell_type": "code",
      "metadata": {
        "id": "eEcGIB6hc8uj",
        "colab_type": "code",
        "outputId": "ca4ac9e5-7d5b-4ffd-b388-fb5b27b2e083",
        "colab": {}
      },
      "source": [
        "print(subset_data.columns)\n",
        "columns = list(original_data.columns)\n",
        "# columns"
      ],
      "execution_count": 0,
      "outputs": [
        {
          "output_type": "stream",
          "text": [
            "Index(['ORIGIN', 'IMPACT', 'REF', 'ALT', 'AF_EXAC', 'AF_TGP', 'CADD_PHRED',\n",
            "       'EXON', 'CLASS', 'SIFT', 'PolyPhen'],\n",
            "      dtype='object')\n"
          ],
          "name": "stdout"
        }
      ]
    },
    {
      "cell_type": "code",
      "metadata": {
        "id": "F4OmaylRc8un",
        "colab_type": "code",
        "outputId": "e61ea56d-640c-49ab-869d-1ef5a1c5fed6",
        "colab": {}
      },
      "source": [
        "numeric_cols = ['ORIGIN', 'AF_EXAC', 'AF_TGP', 'CADD_PHRED', 'EXON', 'CLASS']\n",
        "len(numeric_cols)"
      ],
      "execution_count": 0,
      "outputs": [
        {
          "output_type": "execute_result",
          "data": {
            "text/plain": [
              "6"
            ]
          },
          "metadata": {
            "tags": []
          },
          "execution_count": 11
        }
      ]
    },
    {
      "cell_type": "code",
      "metadata": {
        "id": "nyS8WbCJc8up",
        "colab_type": "code",
        "outputId": "7b22eda5-486b-4f11-8a4c-20114da9d3c5",
        "colab": {}
      },
      "source": [
        "# courtesy of https://github.com/eclarson/MachineLearningNotebooks/blob/master/03.%20DataVisualization.ipynb :-)\n",
        "# changing it to work with our data\n",
        "# only doing this for some of the numeric features that we have\n",
        "# can't use this version of knn on non numeric values \n",
        "# https://towardsdatascience.com/the-use-of-knn-for-missing-values-cf33d935c637\n",
        "\n",
        "from sklearn.impute import KNNImputer\n",
        "import copy\n",
        "\n",
        "subset_numeric_cols = ['ORIGIN', 'CADD_PHRED', 'EXON'] # numeric cols that are acutally missing data\n",
        "knn_obj = KNNImputer(n_neighbors=7) # making smaller for memory reasons\n",
        "\n",
        "temp = subset_data[subset_numeric_cols].to_numpy()\n",
        "\n",
        "knn_obj.fit(temp)\n",
        "temp_imputed = knn_obj.transform(temp)\n",
        "\n",
        "imputed_subset_data = copy.deepcopy(subset_data)\n",
        "imputed_subset_data[subset_numeric_cols] = temp_imputed\n",
        "imputed_subset_data.info()"
      ],
      "execution_count": 0,
      "outputs": [
        {
          "output_type": "stream",
          "text": [
            "<class 'pandas.core.frame.DataFrame'>\n",
            "RangeIndex: 62912 entries, 0 to 62911\n",
            "Data columns (total 11 columns):\n",
            " #   Column      Non-Null Count  Dtype  \n",
            "---  ------      --------------  -----  \n",
            " 0   ORIGIN      62912 non-null  float64\n",
            " 1   IMPACT      62912 non-null  object \n",
            " 2   REF         62912 non-null  object \n",
            " 3   ALT         62912 non-null  object \n",
            " 4   AF_EXAC     62912 non-null  float64\n",
            " 5   AF_TGP      62912 non-null  float64\n",
            " 6   CADD_PHRED  62912 non-null  float64\n",
            " 7   EXON        62912 non-null  float64\n",
            " 8   CLASS       62912 non-null  int64  \n",
            " 9   SIFT        24772 non-null  object \n",
            " 10  PolyPhen    24732 non-null  object \n",
            "dtypes: float64(5), int64(1), object(5)\n",
            "memory usage: 5.3+ MB\n"
          ],
          "name": "stdout"
        }
      ]
    },
    {
      "cell_type": "code",
      "metadata": {
        "id": "L1liY-n1c8uv",
        "colab_type": "code",
        "colab": {}
      },
      "source": [
        "duplicate_imputed_subset_data = copy.deepcopy(imputed_subset_data)\n",
        "duplicate_imputed_subset_data\n",
        "subset_data = copy.deepcopy(imputed_subset_data)"
      ],
      "execution_count": 0,
      "outputs": []
    },
    {
      "cell_type": "code",
      "metadata": {
        "id": "ulIeUqOec8uy",
        "colab_type": "code",
        "outputId": "26df6007-ea4a-4721-857b-8bbfb314f91b",
        "colab": {}
      },
      "source": [
        "# Subset data now has only rows with PolyPhen values \n",
        "subset_data.drop(subset_data[subset_data['PolyPhen'].isnull() != False].index, inplace=True)\n",
        "subset_data\n"
      ],
      "execution_count": 0,
      "outputs": [
        {
          "output_type": "execute_result",
          "data": {
            "text/html": [
              "<div>\n",
              "<style scoped>\n",
              "    .dataframe tbody tr th:only-of-type {\n",
              "        vertical-align: middle;\n",
              "    }\n",
              "\n",
              "    .dataframe tbody tr th {\n",
              "        vertical-align: top;\n",
              "    }\n",
              "\n",
              "    .dataframe thead th {\n",
              "        text-align: right;\n",
              "    }\n",
              "</style>\n",
              "<table border=\"1\" class=\"dataframe\">\n",
              "  <thead>\n",
              "    <tr style=\"text-align: right;\">\n",
              "      <th></th>\n",
              "      <th>ORIGIN</th>\n",
              "      <th>IMPACT</th>\n",
              "      <th>REF</th>\n",
              "      <th>ALT</th>\n",
              "      <th>AF_EXAC</th>\n",
              "      <th>AF_TGP</th>\n",
              "      <th>CADD_PHRED</th>\n",
              "      <th>EXON</th>\n",
              "      <th>CLASS</th>\n",
              "      <th>SIFT</th>\n",
              "      <th>PolyPhen</th>\n",
              "    </tr>\n",
              "  </thead>\n",
              "  <tbody>\n",
              "    <tr>\n",
              "      <th>2182</th>\n",
              "      <td>1.0</td>\n",
              "      <td>MODERATE</td>\n",
              "      <td>T</td>\n",
              "      <td>G</td>\n",
              "      <td>0.00153</td>\n",
              "      <td>0.0018</td>\n",
              "      <td>31.000</td>\n",
              "      <td>0.988889</td>\n",
              "      <td>1</td>\n",
              "      <td>deleterious</td>\n",
              "      <td>probably_damaging</td>\n",
              "    </tr>\n",
              "    <tr>\n",
              "      <th>2202</th>\n",
              "      <td>1.0</td>\n",
              "      <td>MODERATE</td>\n",
              "      <td>A</td>\n",
              "      <td>G</td>\n",
              "      <td>0.05423</td>\n",
              "      <td>0.0739</td>\n",
              "      <td>10.180</td>\n",
              "      <td>0.977778</td>\n",
              "      <td>0</td>\n",
              "      <td>tolerated</td>\n",
              "      <td>benign</td>\n",
              "    </tr>\n",
              "    <tr>\n",
              "      <th>2247</th>\n",
              "      <td>1.0</td>\n",
              "      <td>MODERATE</td>\n",
              "      <td>G</td>\n",
              "      <td>A</td>\n",
              "      <td>0.00000</td>\n",
              "      <td>0.4591</td>\n",
              "      <td>20.500</td>\n",
              "      <td>0.911111</td>\n",
              "      <td>0</td>\n",
              "      <td>tolerated</td>\n",
              "      <td>benign</td>\n",
              "    </tr>\n",
              "    <tr>\n",
              "      <th>2250</th>\n",
              "      <td>1.0</td>\n",
              "      <td>MODERATE</td>\n",
              "      <td>A</td>\n",
              "      <td>G</td>\n",
              "      <td>0.00040</td>\n",
              "      <td>0.0012</td>\n",
              "      <td>21.700</td>\n",
              "      <td>0.900000</td>\n",
              "      <td>0</td>\n",
              "      <td>deleterious</td>\n",
              "      <td>possibly_damaging</td>\n",
              "    </tr>\n",
              "    <tr>\n",
              "      <th>2261</th>\n",
              "      <td>1.0</td>\n",
              "      <td>MODERATE</td>\n",
              "      <td>A</td>\n",
              "      <td>G</td>\n",
              "      <td>0.00003</td>\n",
              "      <td>0.0002</td>\n",
              "      <td>13.670</td>\n",
              "      <td>0.888889</td>\n",
              "      <td>0</td>\n",
              "      <td>deleterious</td>\n",
              "      <td>benign</td>\n",
              "    </tr>\n",
              "    <tr>\n",
              "      <th>...</th>\n",
              "      <td>...</td>\n",
              "      <td>...</td>\n",
              "      <td>...</td>\n",
              "      <td>...</td>\n",
              "      <td>...</td>\n",
              "      <td>...</td>\n",
              "      <td>...</td>\n",
              "      <td>...</td>\n",
              "      <td>...</td>\n",
              "      <td>...</td>\n",
              "      <td>...</td>\n",
              "    </tr>\n",
              "    <tr>\n",
              "      <th>54003</th>\n",
              "      <td>1.0</td>\n",
              "      <td>MODERATE</td>\n",
              "      <td>C</td>\n",
              "      <td>T</td>\n",
              "      <td>0.00169</td>\n",
              "      <td>0.0008</td>\n",
              "      <td>3.515</td>\n",
              "      <td>0.762406</td>\n",
              "      <td>1</td>\n",
              "      <td>tolerated</td>\n",
              "      <td>benign</td>\n",
              "    </tr>\n",
              "    <tr>\n",
              "      <th>54009</th>\n",
              "      <td>1.0</td>\n",
              "      <td>MODERATE</td>\n",
              "      <td>C</td>\n",
              "      <td>T</td>\n",
              "      <td>0.00386</td>\n",
              "      <td>0.0005</td>\n",
              "      <td>9.291</td>\n",
              "      <td>0.868482</td>\n",
              "      <td>0</td>\n",
              "      <td>tolerated_low_confidence</td>\n",
              "      <td>benign</td>\n",
              "    </tr>\n",
              "    <tr>\n",
              "      <th>54024</th>\n",
              "      <td>1.0</td>\n",
              "      <td>HIGH</td>\n",
              "      <td>G</td>\n",
              "      <td>A</td>\n",
              "      <td>0.00000</td>\n",
              "      <td>0.0000</td>\n",
              "      <td>23.000</td>\n",
              "      <td>0.860505</td>\n",
              "      <td>0</td>\n",
              "      <td>deleterious_low_confidence</td>\n",
              "      <td>benign</td>\n",
              "    </tr>\n",
              "    <tr>\n",
              "      <th>54025</th>\n",
              "      <td>1.0</td>\n",
              "      <td>HIGH</td>\n",
              "      <td>T</td>\n",
              "      <td>G</td>\n",
              "      <td>0.00000</td>\n",
              "      <td>0.0000</td>\n",
              "      <td>23.200</td>\n",
              "      <td>0.773079</td>\n",
              "      <td>0</td>\n",
              "      <td>deleterious</td>\n",
              "      <td>benign</td>\n",
              "    </tr>\n",
              "    <tr>\n",
              "      <th>54026</th>\n",
              "      <td>1.0</td>\n",
              "      <td>HIGH</td>\n",
              "      <td>T</td>\n",
              "      <td>A</td>\n",
              "      <td>0.00000</td>\n",
              "      <td>0.0000</td>\n",
              "      <td>23.700</td>\n",
              "      <td>0.756745</td>\n",
              "      <td>0</td>\n",
              "      <td>deleterious_low_confidence</td>\n",
              "      <td>benign</td>\n",
              "    </tr>\n",
              "  </tbody>\n",
              "</table>\n",
              "<p>24732 rows × 11 columns</p>\n",
              "</div>"
            ],
            "text/plain": [
              "       ORIGIN    IMPACT REF ALT  AF_EXAC  AF_TGP  CADD_PHRED      EXON  CLASS  \\\n",
              "2182      1.0  MODERATE   T   G  0.00153  0.0018      31.000  0.988889      1   \n",
              "2202      1.0  MODERATE   A   G  0.05423  0.0739      10.180  0.977778      0   \n",
              "2247      1.0  MODERATE   G   A  0.00000  0.4591      20.500  0.911111      0   \n",
              "2250      1.0  MODERATE   A   G  0.00040  0.0012      21.700  0.900000      0   \n",
              "2261      1.0  MODERATE   A   G  0.00003  0.0002      13.670  0.888889      0   \n",
              "...       ...       ...  ..  ..      ...     ...         ...       ...    ...   \n",
              "54003     1.0  MODERATE   C   T  0.00169  0.0008       3.515  0.762406      1   \n",
              "54009     1.0  MODERATE   C   T  0.00386  0.0005       9.291  0.868482      0   \n",
              "54024     1.0      HIGH   G   A  0.00000  0.0000      23.000  0.860505      0   \n",
              "54025     1.0      HIGH   T   G  0.00000  0.0000      23.200  0.773079      0   \n",
              "54026     1.0      HIGH   T   A  0.00000  0.0000      23.700  0.756745      0   \n",
              "\n",
              "                             SIFT           PolyPhen  \n",
              "2182                  deleterious  probably_damaging  \n",
              "2202                    tolerated             benign  \n",
              "2247                    tolerated             benign  \n",
              "2250                  deleterious  possibly_damaging  \n",
              "2261                  deleterious             benign  \n",
              "...                           ...                ...  \n",
              "54003                   tolerated             benign  \n",
              "54009    tolerated_low_confidence             benign  \n",
              "54024  deleterious_low_confidence             benign  \n",
              "54025                 deleterious             benign  \n",
              "54026  deleterious_low_confidence             benign  \n",
              "\n",
              "[24732 rows x 11 columns]"
            ]
          },
          "metadata": {
            "tags": []
          },
          "execution_count": 14
        }
      ]
    },
    {
      "cell_type": "code",
      "metadata": {
        "id": "Yh1DJs40c8u0",
        "colab_type": "code",
        "outputId": "12eee804-f3d2-4a4f-fc01-5ed8bfab89bc",
        "colab": {}
      },
      "source": [
        "#Convert Polyphen to categorical\n",
        "subset_data['PolyPhen category'] = pd.factorize(subset_data['PolyPhen'])[0] + 1\n",
        "subset_data"
      ],
      "execution_count": 0,
      "outputs": [
        {
          "output_type": "execute_result",
          "data": {
            "text/html": [
              "<div>\n",
              "<style scoped>\n",
              "    .dataframe tbody tr th:only-of-type {\n",
              "        vertical-align: middle;\n",
              "    }\n",
              "\n",
              "    .dataframe tbody tr th {\n",
              "        vertical-align: top;\n",
              "    }\n",
              "\n",
              "    .dataframe thead th {\n",
              "        text-align: right;\n",
              "    }\n",
              "</style>\n",
              "<table border=\"1\" class=\"dataframe\">\n",
              "  <thead>\n",
              "    <tr style=\"text-align: right;\">\n",
              "      <th></th>\n",
              "      <th>ORIGIN</th>\n",
              "      <th>IMPACT</th>\n",
              "      <th>REF</th>\n",
              "      <th>ALT</th>\n",
              "      <th>AF_EXAC</th>\n",
              "      <th>AF_TGP</th>\n",
              "      <th>CADD_PHRED</th>\n",
              "      <th>EXON</th>\n",
              "      <th>CLASS</th>\n",
              "      <th>SIFT</th>\n",
              "      <th>PolyPhen</th>\n",
              "      <th>PolyPhen category</th>\n",
              "    </tr>\n",
              "  </thead>\n",
              "  <tbody>\n",
              "    <tr>\n",
              "      <th>2182</th>\n",
              "      <td>1.0</td>\n",
              "      <td>MODERATE</td>\n",
              "      <td>T</td>\n",
              "      <td>G</td>\n",
              "      <td>0.00153</td>\n",
              "      <td>0.0018</td>\n",
              "      <td>31.000</td>\n",
              "      <td>0.988889</td>\n",
              "      <td>1</td>\n",
              "      <td>deleterious</td>\n",
              "      <td>probably_damaging</td>\n",
              "      <td>1</td>\n",
              "    </tr>\n",
              "    <tr>\n",
              "      <th>2202</th>\n",
              "      <td>1.0</td>\n",
              "      <td>MODERATE</td>\n",
              "      <td>A</td>\n",
              "      <td>G</td>\n",
              "      <td>0.05423</td>\n",
              "      <td>0.0739</td>\n",
              "      <td>10.180</td>\n",
              "      <td>0.977778</td>\n",
              "      <td>0</td>\n",
              "      <td>tolerated</td>\n",
              "      <td>benign</td>\n",
              "      <td>2</td>\n",
              "    </tr>\n",
              "    <tr>\n",
              "      <th>2247</th>\n",
              "      <td>1.0</td>\n",
              "      <td>MODERATE</td>\n",
              "      <td>G</td>\n",
              "      <td>A</td>\n",
              "      <td>0.00000</td>\n",
              "      <td>0.4591</td>\n",
              "      <td>20.500</td>\n",
              "      <td>0.911111</td>\n",
              "      <td>0</td>\n",
              "      <td>tolerated</td>\n",
              "      <td>benign</td>\n",
              "      <td>2</td>\n",
              "    </tr>\n",
              "    <tr>\n",
              "      <th>2250</th>\n",
              "      <td>1.0</td>\n",
              "      <td>MODERATE</td>\n",
              "      <td>A</td>\n",
              "      <td>G</td>\n",
              "      <td>0.00040</td>\n",
              "      <td>0.0012</td>\n",
              "      <td>21.700</td>\n",
              "      <td>0.900000</td>\n",
              "      <td>0</td>\n",
              "      <td>deleterious</td>\n",
              "      <td>possibly_damaging</td>\n",
              "      <td>3</td>\n",
              "    </tr>\n",
              "    <tr>\n",
              "      <th>2261</th>\n",
              "      <td>1.0</td>\n",
              "      <td>MODERATE</td>\n",
              "      <td>A</td>\n",
              "      <td>G</td>\n",
              "      <td>0.00003</td>\n",
              "      <td>0.0002</td>\n",
              "      <td>13.670</td>\n",
              "      <td>0.888889</td>\n",
              "      <td>0</td>\n",
              "      <td>deleterious</td>\n",
              "      <td>benign</td>\n",
              "      <td>2</td>\n",
              "    </tr>\n",
              "    <tr>\n",
              "      <th>...</th>\n",
              "      <td>...</td>\n",
              "      <td>...</td>\n",
              "      <td>...</td>\n",
              "      <td>...</td>\n",
              "      <td>...</td>\n",
              "      <td>...</td>\n",
              "      <td>...</td>\n",
              "      <td>...</td>\n",
              "      <td>...</td>\n",
              "      <td>...</td>\n",
              "      <td>...</td>\n",
              "      <td>...</td>\n",
              "    </tr>\n",
              "    <tr>\n",
              "      <th>54003</th>\n",
              "      <td>1.0</td>\n",
              "      <td>MODERATE</td>\n",
              "      <td>C</td>\n",
              "      <td>T</td>\n",
              "      <td>0.00169</td>\n",
              "      <td>0.0008</td>\n",
              "      <td>3.515</td>\n",
              "      <td>0.762406</td>\n",
              "      <td>1</td>\n",
              "      <td>tolerated</td>\n",
              "      <td>benign</td>\n",
              "      <td>2</td>\n",
              "    </tr>\n",
              "    <tr>\n",
              "      <th>54009</th>\n",
              "      <td>1.0</td>\n",
              "      <td>MODERATE</td>\n",
              "      <td>C</td>\n",
              "      <td>T</td>\n",
              "      <td>0.00386</td>\n",
              "      <td>0.0005</td>\n",
              "      <td>9.291</td>\n",
              "      <td>0.868482</td>\n",
              "      <td>0</td>\n",
              "      <td>tolerated_low_confidence</td>\n",
              "      <td>benign</td>\n",
              "      <td>2</td>\n",
              "    </tr>\n",
              "    <tr>\n",
              "      <th>54024</th>\n",
              "      <td>1.0</td>\n",
              "      <td>HIGH</td>\n",
              "      <td>G</td>\n",
              "      <td>A</td>\n",
              "      <td>0.00000</td>\n",
              "      <td>0.0000</td>\n",
              "      <td>23.000</td>\n",
              "      <td>0.860505</td>\n",
              "      <td>0</td>\n",
              "      <td>deleterious_low_confidence</td>\n",
              "      <td>benign</td>\n",
              "      <td>2</td>\n",
              "    </tr>\n",
              "    <tr>\n",
              "      <th>54025</th>\n",
              "      <td>1.0</td>\n",
              "      <td>HIGH</td>\n",
              "      <td>T</td>\n",
              "      <td>G</td>\n",
              "      <td>0.00000</td>\n",
              "      <td>0.0000</td>\n",
              "      <td>23.200</td>\n",
              "      <td>0.773079</td>\n",
              "      <td>0</td>\n",
              "      <td>deleterious</td>\n",
              "      <td>benign</td>\n",
              "      <td>2</td>\n",
              "    </tr>\n",
              "    <tr>\n",
              "      <th>54026</th>\n",
              "      <td>1.0</td>\n",
              "      <td>HIGH</td>\n",
              "      <td>T</td>\n",
              "      <td>A</td>\n",
              "      <td>0.00000</td>\n",
              "      <td>0.0000</td>\n",
              "      <td>23.700</td>\n",
              "      <td>0.756745</td>\n",
              "      <td>0</td>\n",
              "      <td>deleterious_low_confidence</td>\n",
              "      <td>benign</td>\n",
              "      <td>2</td>\n",
              "    </tr>\n",
              "  </tbody>\n",
              "</table>\n",
              "<p>24732 rows × 12 columns</p>\n",
              "</div>"
            ],
            "text/plain": [
              "       ORIGIN    IMPACT REF ALT  AF_EXAC  AF_TGP  CADD_PHRED      EXON  CLASS  \\\n",
              "2182      1.0  MODERATE   T   G  0.00153  0.0018      31.000  0.988889      1   \n",
              "2202      1.0  MODERATE   A   G  0.05423  0.0739      10.180  0.977778      0   \n",
              "2247      1.0  MODERATE   G   A  0.00000  0.4591      20.500  0.911111      0   \n",
              "2250      1.0  MODERATE   A   G  0.00040  0.0012      21.700  0.900000      0   \n",
              "2261      1.0  MODERATE   A   G  0.00003  0.0002      13.670  0.888889      0   \n",
              "...       ...       ...  ..  ..      ...     ...         ...       ...    ...   \n",
              "54003     1.0  MODERATE   C   T  0.00169  0.0008       3.515  0.762406      1   \n",
              "54009     1.0  MODERATE   C   T  0.00386  0.0005       9.291  0.868482      0   \n",
              "54024     1.0      HIGH   G   A  0.00000  0.0000      23.000  0.860505      0   \n",
              "54025     1.0      HIGH   T   G  0.00000  0.0000      23.200  0.773079      0   \n",
              "54026     1.0      HIGH   T   A  0.00000  0.0000      23.700  0.756745      0   \n",
              "\n",
              "                             SIFT           PolyPhen  PolyPhen category  \n",
              "2182                  deleterious  probably_damaging                  1  \n",
              "2202                    tolerated             benign                  2  \n",
              "2247                    tolerated             benign                  2  \n",
              "2250                  deleterious  possibly_damaging                  3  \n",
              "2261                  deleterious             benign                  2  \n",
              "...                           ...                ...                ...  \n",
              "54003                   tolerated             benign                  2  \n",
              "54009    tolerated_low_confidence             benign                  2  \n",
              "54024  deleterious_low_confidence             benign                  2  \n",
              "54025                 deleterious             benign                  2  \n",
              "54026  deleterious_low_confidence             benign                  2  \n",
              "\n",
              "[24732 rows x 12 columns]"
            ]
          },
          "metadata": {
            "tags": []
          },
          "execution_count": 15
        }
      ]
    },
    {
      "cell_type": "markdown",
      "metadata": {
        "id": "WQ8ojh_Hc8u2",
        "colab_type": "text"
      },
      "source": [
        "#### PolyPhen category:\n",
        "##### 1 - probably_damaging\n",
        "##### 2 - benign\n",
        "##### 3 - possibly damaging"
      ]
    },
    {
      "cell_type": "markdown",
      "metadata": {
        "colab_type": "text",
        "id": "wEjuZ2oafFQV"
      },
      "source": [
        "### ***5 points***\n",
        "Divide you data into training and testing data using an 80% training and 20% testing split. Use the cross validation modules that are part of scikit-learn. Argue \"for\" or \"against\" splitting your data using an 80/20 split. That is, why is the 80/20 split appropriate (or not) for your dataset?  "
      ]
    },
    {
      "cell_type": "code",
      "metadata": {
        "colab_type": "code",
        "id": "hNDrZWnUgBCz",
        "colab": {}
      },
      "source": [
        "# divide training / testing\n",
        "# cross-validation modules scikit learn\n",
        "from sklearn.model_selection import train_test_split\n",
        "from sklearn import datasets\n",
        "from sklearn import svm\n",
        "\n",
        "X_train, X_test, Y_train, Y_test = train_test_split(subset_data, subset_data['PolyPhen category'], test_size=0.20)\n",
        "X = subset_data\n",
        "y = subset_data['PolyPhen category']"
      ],
      "execution_count": 0,
      "outputs": []
    },
    {
      "cell_type": "markdown",
      "metadata": {
        "colab_type": "text",
        "id": "JqFLOmz1gBap"
      },
      "source": [
        "*Explain answer here*\n",
        "\n",
        "In this case, an 80/20 split makes sense for our data. This is because we want to train the data on the genetic variants that do not having conflicting information, with a cases of genetic variants that do have conflicting information. This is so that we can analyze if certain labs are over labeling benign or pathogenic, what labs agree what percent of the time, etc. This allows us to take the 20% of the data that we did not train with to really see if our algorithm does well. We have a large amount of data in this dataset, as well as less concern on the amount of time we need to be able to train our data. This means we can use more time to train the dataset. We also need to make sure our dataset can handle outliers, so we need to make sure we have a big enough test section to be able to classify things correctly. This leads us to believe we should use an 80/20 split."
      ]
    },
    {
      "cell_type": "markdown",
      "metadata": {
        "colab_type": "text",
        "id": "X-nOMA5vduRG"
      },
      "source": [
        "## Modeling [***50 points***]\n",
        "\n",
        "The implementation of logistic regression must be written only from the examples given to you by the instructor. No credit will be assigned to teams that copy implementations from another source, regardless of if the code is properly cited. "
      ]
    },
    {
      "cell_type": "markdown",
      "metadata": {
        "colab_type": "text",
        "id": "xV5RGFlNd2o4"
      },
      "source": [
        "### ***20 points***\n",
        "Create a custom, one-versus-all logistic regression classifier using numpy and scipy to optimize. Use object oriented conventions identical to scikit-learn. You should start with the template developed by the instructor in the course. You should add the following functionality to the logistic regression classifier: <br />\n",
        "<ul>\n",
        "<li>Ability to choose optimization technique when class is instantiated: either steepest descent, stochastic gradient descent, or Newton's method. </li>\n",
        "<li>Update the gradient calculation to include a customizable regularization term (either using no regularization, L1 regularization, L2 regularization, or both L1 and L2 regularization). Associate a cost with the regularization term, \"C\", that can be adjusted when the class is instantiated.  </li>\n",
        "</ul>"
      ]
    },
    {
      "cell_type": "code",
      "metadata": {
        "colab_type": "code",
        "id": "l1etWLRPlM3G",
        "outputId": "b0cc02e9-f90e-4436-ce5f-ecfc4470e2c9",
        "colab": {}
      },
      "source": [
        "# logistic classifier using numpy and scipy\n",
        "# OO conventions identical to scikit\n",
        "# start with Larson code\n",
        "X_train.info()"
      ],
      "execution_count": 0,
      "outputs": [
        {
          "output_type": "stream",
          "text": [
            "<class 'pandas.core.frame.DataFrame'>\n",
            "Int64Index: 19785 entries, 26590 to 41275\n",
            "Data columns (total 12 columns):\n",
            " #   Column             Non-Null Count  Dtype  \n",
            "---  ------             --------------  -----  \n",
            " 0   ORIGIN             19785 non-null  float64\n",
            " 1   IMPACT             19785 non-null  object \n",
            " 2   REF                19785 non-null  object \n",
            " 3   ALT                19785 non-null  object \n",
            " 4   AF_EXAC            19785 non-null  float64\n",
            " 5   AF_TGP             19785 non-null  float64\n",
            " 6   CADD_PHRED         19785 non-null  float64\n",
            " 7   EXON               19785 non-null  float64\n",
            " 8   CLASS              19785 non-null  int64  \n",
            " 9   SIFT               19686 non-null  object \n",
            " 10  PolyPhen           19785 non-null  object \n",
            " 11  PolyPhen category  19785 non-null  int64  \n",
            "dtypes: float64(5), int64(2), object(5)\n",
            "memory usage: 2.0+ MB\n"
          ],
          "name": "stdout"
        }
      ]
    },
    {
      "cell_type": "code",
      "metadata": {
        "id": "B8zcittsc8vB",
        "colab_type": "code",
        "outputId": "edd9a43b-aa48-419b-934f-dc58c2a07f1e",
        "colab": {}
      },
      "source": [
        "\n",
        "# from last time, our logistic regression algorithm is given by (including everything we previously had):\n",
        "class BinaryLogisticRegression:\n",
        "    def __init__(self, eta, iterations=20, C=0.001):\n",
        "        self.eta = eta\n",
        "        self.iters = iterations\n",
        "        self.C = C\n",
        "        # internally we will store the weights as self.w_ to keep with sklearn conventions\n",
        "        \n",
        "    def __str__(self):\n",
        "        if(hasattr(self,'w_')):\n",
        "            return 'Binary Logistic Regression Object with coefficients:\\n'+ str(self.w_) # is we have trained the object\n",
        "        else:\n",
        "            return 'Untrained Binary Logistic Regression Object'\n",
        "        \n",
        "    # convenience, private:\n",
        "    @staticmethod\n",
        "    def _add_bias(X):\n",
        "        return np.hstack((np.ones((X.shape[0],1)),X)) # add bias term\n",
        "    \n",
        "    @staticmethod\n",
        "    def _sigmoid(theta):\n",
        "        # increase stability, redefine sigmoid operation\n",
        "        return expit(theta) #1/(1+np.exp(-theta))\n",
        "    \n",
        "    # vectorized gradient calculation with regularization using L2 Norm\n",
        "    def _get_gradient(self,X,y):\n",
        "        ydiff = y-self.predict_proba(X,add_bias=False).ravel() # get y difference\n",
        "        gradient = np.mean(X * ydiff[:,np.newaxis], axis=0) # make ydiff a column vector and multiply through\n",
        "        \n",
        "        gradient = gradient.reshape(self.w_.shape)\n",
        "        gradient[1:] += -2 * self.w_[1:] * self.C\n",
        "        \n",
        "        return gradient\n",
        "    \n",
        "    # public:\n",
        "    def predict_proba(self,X,add_bias=True):\n",
        "        # add bias term if requested\n",
        "        Xb = self._add_bias(X) if add_bias else X\n",
        "        return self._sigmoid(Xb @ self.w_) # return the probability y=1\n",
        "    \n",
        "    def predict(self,X):\n",
        "        return (self.predict_proba(X)>0.5) #return the actual prediction\n",
        "    \n",
        "    \n",
        "    def fit(self, X, y):\n",
        "        Xb = self._add_bias(X) # add bias term\n",
        "        num_samples, num_features = Xb.shape\n",
        "        \n",
        "        self.w_ = np.zeros((num_features,1)) # init weight vector to zeros\n",
        "        \n",
        "        # for as many as the max iterations\n",
        "        for _ in range(self.iters):\n",
        "            gradient = self._get_gradient(Xb,y)\n",
        "            self.w_ += gradient*self.eta # multiply by learning rate \n",
        "            # add bacause maximizing \n",
        "\n",
        "blr = BinaryLogisticRegression(eta=0.1,iterations=500,C=0.001)\n",
        "\n",
        "cat_lr = ['PolyPhen', 'SIFT', 'ALT', 'REF', 'IMPACT'] #non-numeric columns\n",
        "\n",
        "lr_data_X_train = copy.deepcopy(X_train)\n",
        "lr_data_X_test = copy.deepcopy(X_test)\n",
        "lr_data_Y_train = copy.deepcopy(Y_train)\n",
        "lr_data_Y_test = copy.deepcopy(Y_test)\n",
        "\n",
        "for feat in cat_lr:\n",
        "  if feat in lr_data_X_train:\n",
        "    del lr_data_X_train[feat]\n",
        "    del lr_data_X_test[feat]\n",
        "\n",
        "blr.fit(lr_data_X_train, lr_data_Y_train)\n",
        "print(blr)\n",
        "\n",
        "yhat = blr.predict(lr_data_X_test)\n",
        "print('Accuracy of: ',accuracy_score(lr_data_Y_test,yhat))\n"
      ],
      "execution_count": 0,
      "outputs": [
        {
          "output_type": "stream",
          "text": [
            "Binary Logistic Regression Object with coefficients:\n",
            "[[4.27257442e+01]\n",
            " [5.72585519e+01]\n",
            " [3.85349275e-01]\n",
            " [4.03120477e-01]\n",
            " [7.19477827e+02]\n",
            " [3.12903370e+01]\n",
            " [1.07447888e+01]\n",
            " [9.63892371e+01]]\n",
            "Accuracy of:  0.29896907216494845\n"
          ],
          "name": "stdout"
        }
      ]
    },
    {
      "cell_type": "markdown",
      "metadata": {
        "id": "4iKc4uiZd1hj",
        "colab_type": "text"
      },
      "source": [
        "The above code is that for Binary Logistic Regression. The accuracy for this is 29%. This is performing normal logistic regression using sigmoids and gradients. This is our implementation of steepest descent. It did not function well, as evident by the accuracy."
      ]
    },
    {
      "cell_type": "code",
      "metadata": {
        "id": "z8hEasc6c8vE",
        "colab_type": "code",
        "outputId": "5520c78a-de76-4c1d-dc37-a97dc369dd71",
        "colab": {}
      },
      "source": [
        "# and we can update this to use a line search along the gradient like this:\n",
        "from scipy.optimize import minimize_scalar\n",
        "import copy\n",
        "class LineSearchLogisticRegression(BinaryLogisticRegression):\n",
        "    \n",
        "    # define custom line search for problem\n",
        "    \n",
        "    @staticmethod\n",
        "    def objective_function(eta,X,y,w,grad,C):\n",
        "        wnew = w - grad*eta\n",
        "        g = expit(X @ wnew)\n",
        "        return -np.sum(np.log(g[y==1]))-np.sum(np.log(1-g[y==0])) + C*sum(wnew**2)\n",
        "    \n",
        "        \n",
        "    def fit(self, X, y):\n",
        "        Xb = self._add_bias(X) # add bias term\n",
        "        num_samples, num_features = Xb.shape\n",
        "        \n",
        "        self.w_ = np.zeros((num_features,1)) # init weight vector to zeros\n",
        "        \n",
        "        # for as many as the max iterations\n",
        "        for _ in range(self.iters):\n",
        "            gradient = -self._get_gradient(Xb,y)\n",
        "            # minimization inopposite direction\n",
        "            \n",
        "            # do line search in gradient direction, using scipy function\n",
        "            opts = {'maxiter':self.iters/50} # unclear exactly what this should be\n",
        "            res = minimize_scalar(self.objective_function, # objective function to optimize\n",
        "                                  bounds=(self.eta/1000,self.eta*10), #bounds to optimize\n",
        "                                  args=(Xb,y,self.w_,gradient,self.C), # additional argument for objective function\n",
        "                                  method='bounded', # bounded optimization for speed\n",
        "                                  options=opts) # set max iterations\n",
        "            \n",
        "            eta = res.x # get optimal learning rate\n",
        "            self.w_ -= gradient*eta # set new function values\n",
        "            # subtract to minimize\n",
        "                \n",
        "            \n",
        "\n",
        "lslr = LineSearchLogisticRegression(eta=0.01,iterations=40, C=0.001)\n",
        "\n",
        "lslr.fit(lr_data_X_train, lr_data_Y_train)\n",
        "\n",
        "yhat = lslr.predict(lr_data_X_test)\n",
        "print(lslr)\n",
        "print('Accuracy of: ',accuracy_score(lr_data_Y_test, yhat))     "
      ],
      "execution_count": 0,
      "outputs": [
        {
          "output_type": "stream",
          "text": [
            "Binary Logistic Regression Object with coefficients:\n",
            "[[1.68332371e+00]\n",
            " [2.36926996e+00]\n",
            " [1.59407004e-02]\n",
            " [1.66686746e-02]\n",
            " [2.96903167e+01]\n",
            " [1.29301281e+00]\n",
            " [4.43965126e-01]\n",
            " [3.96570016e+00]]\n",
            "Accuracy of:  0.29896907216494845\n"
          ],
          "name": "stdout"
        }
      ]
    },
    {
      "cell_type": "code",
      "metadata": {
        "id": "5w2U-1IZc8vL",
        "colab_type": "code",
        "outputId": "196b8037-51c2-4501-9715-3b7cce26000b",
        "colab": {}
      },
      "source": [
        "class StochasticLogisticRegression(BinaryLogisticRegression):\n",
        "    # stochastic gradient calculation \n",
        "    def _get_gradient(self,X,y):\n",
        "        idx = int(np.random.rand()*len(y)) # grab random instance\n",
        "        ydiff = y[idx]-self.predict_proba(X[idx],add_bias=False) # get y difference (now scalar)\n",
        "        gradient = X[idx] * ydiff[:,np.newaxis] # make ydiff a column vector and multiply through\n",
        "        \n",
        "        gradient = gradient.reshape(self.w_.shape)\n",
        "        gradient[1:] += -2 * self.w_[1:] * self.C\n",
        "        \n",
        "        return gradient\n",
        "    \n",
        "    \n",
        "slr = StochasticLogisticRegression(0.05,500, C=0.001) # take a lot more steps!!\n",
        "    \n",
        "slr.fit(lr_data_X_train, lr_data_Y_train)\n",
        "\n",
        "yhat = slr.predict(lr_data_X_test)\n",
        "print(slr)\n",
        "print('Accuracy of: ',accuracy_score(lr_data_Y_test, yhat))        "
      ],
      "execution_count": 0,
      "outputs": [
        {
          "output_type": "error",
          "ename": "KeyError",
          "evalue": "11368",
          "traceback": [
            "\u001b[1;31m---------------------------------------------------------------------------\u001b[0m",
            "\u001b[1;31mKeyError\u001b[0m                                  Traceback (most recent call last)",
            "\u001b[1;32m<ipython-input-23-11b275bb07a2>\u001b[0m in \u001b[0;36m<module>\u001b[1;34m\u001b[0m\n\u001b[0;32m     14\u001b[0m \u001b[0mslr\u001b[0m \u001b[1;33m=\u001b[0m \u001b[0mStochasticLogisticRegression\u001b[0m\u001b[1;33m(\u001b[0m\u001b[1;36m0.05\u001b[0m\u001b[1;33m,\u001b[0m\u001b[1;36m500\u001b[0m\u001b[1;33m,\u001b[0m \u001b[0mC\u001b[0m\u001b[1;33m=\u001b[0m\u001b[1;36m0.001\u001b[0m\u001b[1;33m)\u001b[0m \u001b[1;31m# take a lot more steps!!\u001b[0m\u001b[1;33m\u001b[0m\u001b[1;33m\u001b[0m\u001b[0m\n\u001b[0;32m     15\u001b[0m \u001b[1;33m\u001b[0m\u001b[0m\n\u001b[1;32m---> 16\u001b[1;33m \u001b[0mslr\u001b[0m\u001b[1;33m.\u001b[0m\u001b[0mfit\u001b[0m\u001b[1;33m(\u001b[0m\u001b[0mlr_data_X_train\u001b[0m\u001b[1;33m,\u001b[0m \u001b[0mlr_data_Y_train\u001b[0m\u001b[1;33m)\u001b[0m\u001b[1;33m\u001b[0m\u001b[1;33m\u001b[0m\u001b[0m\n\u001b[0m\u001b[0;32m     17\u001b[0m \u001b[1;33m\u001b[0m\u001b[0m\n\u001b[0;32m     18\u001b[0m \u001b[0myhat\u001b[0m \u001b[1;33m=\u001b[0m \u001b[0mslr\u001b[0m\u001b[1;33m.\u001b[0m\u001b[0mpredict\u001b[0m\u001b[1;33m(\u001b[0m\u001b[0mlr_data_X_test\u001b[0m\u001b[1;33m)\u001b[0m\u001b[1;33m\u001b[0m\u001b[1;33m\u001b[0m\u001b[0m\n",
            "\u001b[1;32m<ipython-input-18-001e3a406b9d>\u001b[0m in \u001b[0;36mfit\u001b[1;34m(self, X, y)\u001b[0m\n\u001b[0;32m     51\u001b[0m         \u001b[1;31m# for as many as the max iterations\u001b[0m\u001b[1;33m\u001b[0m\u001b[1;33m\u001b[0m\u001b[1;33m\u001b[0m\u001b[0m\n\u001b[0;32m     52\u001b[0m         \u001b[1;32mfor\u001b[0m \u001b[0m_\u001b[0m \u001b[1;32min\u001b[0m \u001b[0mrange\u001b[0m\u001b[1;33m(\u001b[0m\u001b[0mself\u001b[0m\u001b[1;33m.\u001b[0m\u001b[0miters\u001b[0m\u001b[1;33m)\u001b[0m\u001b[1;33m:\u001b[0m\u001b[1;33m\u001b[0m\u001b[1;33m\u001b[0m\u001b[0m\n\u001b[1;32m---> 53\u001b[1;33m             \u001b[0mgradient\u001b[0m \u001b[1;33m=\u001b[0m \u001b[0mself\u001b[0m\u001b[1;33m.\u001b[0m\u001b[0m_get_gradient\u001b[0m\u001b[1;33m(\u001b[0m\u001b[0mXb\u001b[0m\u001b[1;33m,\u001b[0m\u001b[0my\u001b[0m\u001b[1;33m)\u001b[0m\u001b[1;33m\u001b[0m\u001b[1;33m\u001b[0m\u001b[0m\n\u001b[0m\u001b[0;32m     54\u001b[0m             \u001b[0mself\u001b[0m\u001b[1;33m.\u001b[0m\u001b[0mw_\u001b[0m \u001b[1;33m+=\u001b[0m \u001b[0mgradient\u001b[0m\u001b[1;33m*\u001b[0m\u001b[0mself\u001b[0m\u001b[1;33m.\u001b[0m\u001b[0meta\u001b[0m \u001b[1;31m# multiply by learning rate\u001b[0m\u001b[1;33m\u001b[0m\u001b[1;33m\u001b[0m\u001b[0m\n\u001b[0;32m     55\u001b[0m             \u001b[1;31m# add bacause maximizing\u001b[0m\u001b[1;33m\u001b[0m\u001b[1;33m\u001b[0m\u001b[1;33m\u001b[0m\u001b[0m\n",
            "\u001b[1;32m<ipython-input-23-11b275bb07a2>\u001b[0m in \u001b[0;36m_get_gradient\u001b[1;34m(self, X, y)\u001b[0m\n\u001b[0;32m      3\u001b[0m     \u001b[1;32mdef\u001b[0m \u001b[0m_get_gradient\u001b[0m\u001b[1;33m(\u001b[0m\u001b[0mself\u001b[0m\u001b[1;33m,\u001b[0m\u001b[0mX\u001b[0m\u001b[1;33m,\u001b[0m\u001b[0my\u001b[0m\u001b[1;33m)\u001b[0m\u001b[1;33m:\u001b[0m\u001b[1;33m\u001b[0m\u001b[1;33m\u001b[0m\u001b[0m\n\u001b[0;32m      4\u001b[0m         \u001b[0midx\u001b[0m \u001b[1;33m=\u001b[0m \u001b[0mint\u001b[0m\u001b[1;33m(\u001b[0m\u001b[0mnp\u001b[0m\u001b[1;33m.\u001b[0m\u001b[0mrandom\u001b[0m\u001b[1;33m.\u001b[0m\u001b[0mrand\u001b[0m\u001b[1;33m(\u001b[0m\u001b[1;33m)\u001b[0m\u001b[1;33m*\u001b[0m\u001b[0mlen\u001b[0m\u001b[1;33m(\u001b[0m\u001b[0my\u001b[0m\u001b[1;33m)\u001b[0m\u001b[1;33m)\u001b[0m \u001b[1;31m# grab random instance\u001b[0m\u001b[1;33m\u001b[0m\u001b[1;33m\u001b[0m\u001b[0m\n\u001b[1;32m----> 5\u001b[1;33m         \u001b[0mydiff\u001b[0m \u001b[1;33m=\u001b[0m \u001b[0my\u001b[0m\u001b[1;33m[\u001b[0m\u001b[0midx\u001b[0m\u001b[1;33m]\u001b[0m\u001b[1;33m-\u001b[0m\u001b[0mself\u001b[0m\u001b[1;33m.\u001b[0m\u001b[0mpredict_proba\u001b[0m\u001b[1;33m(\u001b[0m\u001b[0mX\u001b[0m\u001b[1;33m[\u001b[0m\u001b[0midx\u001b[0m\u001b[1;33m]\u001b[0m\u001b[1;33m,\u001b[0m\u001b[0madd_bias\u001b[0m\u001b[1;33m=\u001b[0m\u001b[1;32mFalse\u001b[0m\u001b[1;33m)\u001b[0m \u001b[1;31m# get y difference (now scalar)\u001b[0m\u001b[1;33m\u001b[0m\u001b[1;33m\u001b[0m\u001b[0m\n\u001b[0m\u001b[0;32m      6\u001b[0m         \u001b[0mgradient\u001b[0m \u001b[1;33m=\u001b[0m \u001b[0mX\u001b[0m\u001b[1;33m[\u001b[0m\u001b[0midx\u001b[0m\u001b[1;33m]\u001b[0m \u001b[1;33m*\u001b[0m \u001b[0mydiff\u001b[0m\u001b[1;33m[\u001b[0m\u001b[1;33m:\u001b[0m\u001b[1;33m,\u001b[0m\u001b[0mnp\u001b[0m\u001b[1;33m.\u001b[0m\u001b[0mnewaxis\u001b[0m\u001b[1;33m]\u001b[0m \u001b[1;31m# make ydiff a column vector and multiply through\u001b[0m\u001b[1;33m\u001b[0m\u001b[1;33m\u001b[0m\u001b[0m\n\u001b[0;32m      7\u001b[0m \u001b[1;33m\u001b[0m\u001b[0m\n",
            "\u001b[1;32m~\\Anaconda3\\envs\\mlenv\\lib\\site-packages\\pandas\\core\\series.py\u001b[0m in \u001b[0;36m__getitem__\u001b[1;34m(self, key)\u001b[0m\n\u001b[0;32m    869\u001b[0m         \u001b[0mkey\u001b[0m \u001b[1;33m=\u001b[0m \u001b[0mcom\u001b[0m\u001b[1;33m.\u001b[0m\u001b[0mapply_if_callable\u001b[0m\u001b[1;33m(\u001b[0m\u001b[0mkey\u001b[0m\u001b[1;33m,\u001b[0m \u001b[0mself\u001b[0m\u001b[1;33m)\u001b[0m\u001b[1;33m\u001b[0m\u001b[1;33m\u001b[0m\u001b[0m\n\u001b[0;32m    870\u001b[0m         \u001b[1;32mtry\u001b[0m\u001b[1;33m:\u001b[0m\u001b[1;33m\u001b[0m\u001b[1;33m\u001b[0m\u001b[0m\n\u001b[1;32m--> 871\u001b[1;33m             \u001b[0mresult\u001b[0m \u001b[1;33m=\u001b[0m \u001b[0mself\u001b[0m\u001b[1;33m.\u001b[0m\u001b[0mindex\u001b[0m\u001b[1;33m.\u001b[0m\u001b[0mget_value\u001b[0m\u001b[1;33m(\u001b[0m\u001b[0mself\u001b[0m\u001b[1;33m,\u001b[0m \u001b[0mkey\u001b[0m\u001b[1;33m)\u001b[0m\u001b[1;33m\u001b[0m\u001b[1;33m\u001b[0m\u001b[0m\n\u001b[0m\u001b[0;32m    872\u001b[0m \u001b[1;33m\u001b[0m\u001b[0m\n\u001b[0;32m    873\u001b[0m             \u001b[1;32mif\u001b[0m \u001b[1;32mnot\u001b[0m \u001b[0mis_scalar\u001b[0m\u001b[1;33m(\u001b[0m\u001b[0mresult\u001b[0m\u001b[1;33m)\u001b[0m\u001b[1;33m:\u001b[0m\u001b[1;33m\u001b[0m\u001b[1;33m\u001b[0m\u001b[0m\n",
            "\u001b[1;32m~\\Anaconda3\\envs\\mlenv\\lib\\site-packages\\pandas\\core\\indexes\\base.py\u001b[0m in \u001b[0;36mget_value\u001b[1;34m(self, series, key)\u001b[0m\n\u001b[0;32m   4403\u001b[0m         \u001b[0mk\u001b[0m \u001b[1;33m=\u001b[0m \u001b[0mself\u001b[0m\u001b[1;33m.\u001b[0m\u001b[0m_convert_scalar_indexer\u001b[0m\u001b[1;33m(\u001b[0m\u001b[0mk\u001b[0m\u001b[1;33m,\u001b[0m \u001b[0mkind\u001b[0m\u001b[1;33m=\u001b[0m\u001b[1;34m\"getitem\"\u001b[0m\u001b[1;33m)\u001b[0m\u001b[1;33m\u001b[0m\u001b[1;33m\u001b[0m\u001b[0m\n\u001b[0;32m   4404\u001b[0m         \u001b[1;32mtry\u001b[0m\u001b[1;33m:\u001b[0m\u001b[1;33m\u001b[0m\u001b[1;33m\u001b[0m\u001b[0m\n\u001b[1;32m-> 4405\u001b[1;33m             \u001b[1;32mreturn\u001b[0m \u001b[0mself\u001b[0m\u001b[1;33m.\u001b[0m\u001b[0m_engine\u001b[0m\u001b[1;33m.\u001b[0m\u001b[0mget_value\u001b[0m\u001b[1;33m(\u001b[0m\u001b[0ms\u001b[0m\u001b[1;33m,\u001b[0m \u001b[0mk\u001b[0m\u001b[1;33m,\u001b[0m \u001b[0mtz\u001b[0m\u001b[1;33m=\u001b[0m\u001b[0mgetattr\u001b[0m\u001b[1;33m(\u001b[0m\u001b[0mseries\u001b[0m\u001b[1;33m.\u001b[0m\u001b[0mdtype\u001b[0m\u001b[1;33m,\u001b[0m \u001b[1;34m\"tz\"\u001b[0m\u001b[1;33m,\u001b[0m \u001b[1;32mNone\u001b[0m\u001b[1;33m)\u001b[0m\u001b[1;33m)\u001b[0m\u001b[1;33m\u001b[0m\u001b[1;33m\u001b[0m\u001b[0m\n\u001b[0m\u001b[0;32m   4406\u001b[0m         \u001b[1;32mexcept\u001b[0m \u001b[0mKeyError\u001b[0m \u001b[1;32mas\u001b[0m \u001b[0me1\u001b[0m\u001b[1;33m:\u001b[0m\u001b[1;33m\u001b[0m\u001b[1;33m\u001b[0m\u001b[0m\n\u001b[0;32m   4407\u001b[0m             \u001b[1;32mif\u001b[0m \u001b[0mlen\u001b[0m\u001b[1;33m(\u001b[0m\u001b[0mself\u001b[0m\u001b[1;33m)\u001b[0m \u001b[1;33m>\u001b[0m \u001b[1;36m0\u001b[0m \u001b[1;32mand\u001b[0m \u001b[1;33m(\u001b[0m\u001b[0mself\u001b[0m\u001b[1;33m.\u001b[0m\u001b[0mholds_integer\u001b[0m\u001b[1;33m(\u001b[0m\u001b[1;33m)\u001b[0m \u001b[1;32mor\u001b[0m \u001b[0mself\u001b[0m\u001b[1;33m.\u001b[0m\u001b[0mis_boolean\u001b[0m\u001b[1;33m(\u001b[0m\u001b[1;33m)\u001b[0m\u001b[1;33m)\u001b[0m\u001b[1;33m:\u001b[0m\u001b[1;33m\u001b[0m\u001b[1;33m\u001b[0m\u001b[0m\n",
            "\u001b[1;32mpandas\\_libs\\index.pyx\u001b[0m in \u001b[0;36mpandas._libs.index.IndexEngine.get_value\u001b[1;34m()\u001b[0m\n",
            "\u001b[1;32mpandas\\_libs\\index.pyx\u001b[0m in \u001b[0;36mpandas._libs.index.IndexEngine.get_value\u001b[1;34m()\u001b[0m\n",
            "\u001b[1;32mpandas\\_libs\\index.pyx\u001b[0m in \u001b[0;36mpandas._libs.index.IndexEngine.get_loc\u001b[1;34m()\u001b[0m\n",
            "\u001b[1;32mpandas\\_libs\\hashtable_class_helper.pxi\u001b[0m in \u001b[0;36mpandas._libs.hashtable.Int64HashTable.get_item\u001b[1;34m()\u001b[0m\n",
            "\u001b[1;32mpandas\\_libs\\hashtable_class_helper.pxi\u001b[0m in \u001b[0;36mpandas._libs.hashtable.Int64HashTable.get_item\u001b[1;34m()\u001b[0m\n",
            "\u001b[1;31mKeyError\u001b[0m: 11368"
          ]
        }
      ]
    },
    {
      "cell_type": "markdown",
      "metadata": {
        "id": "SjGxHxjZeKyE",
        "colab_type": "text"
      },
      "source": [
        "Above is the code for Stochastic Logistic Regression."
      ]
    },
    {
      "cell_type": "code",
      "metadata": {
        "id": "FVDqJ4FSc8vN",
        "colab_type": "code",
        "outputId": "197ec5c5-0e11-4754-d6fe-63f57be1a710",
        "colab": {}
      },
      "source": [
        "%%time\n",
        "from numpy.linalg import pinv\n",
        "class HessianBinaryLogisticRegression(BinaryLogisticRegression):\n",
        "    # just overwrite gradient function\n",
        "    def _get_gradient(self,X,y):\n",
        "        g = self.predict_proba(X,add_bias=False).ravel() # get sigmoid value for all classes\n",
        "        hessian = X.T @ np.diag(g*(1-g)) @ X - 2 * self.C # calculate the hessian\n",
        "\n",
        "        ydiff = y-g # get y difference\n",
        "        gradient = np.sum(X * ydiff[:,np.newaxis], axis=0) # make ydiff a column vector and multiply through\n",
        "        gradient = gradient.reshape(self.w_.shape)\n",
        "        gradient[1:] += -2 * self.w_[1:] * self.C\n",
        "        \n",
        "        return pinv(hessian) @ gradient\n",
        "       \n",
        "hlr = HessianBinaryLogisticRegression(eta=1.0,iterations=1,C=0.001) # note that we need only a few iterations here\n",
        "\n",
        "hlr.fit(lr_data_X_train, lr_data_Y_train)\n",
        "yhat = hlr.predict(lr_data_X_test)\n",
        "print(hlr)\n",
        "print('Accuracy of: ',accuracy_score(lr_data_Y_test,yhat))"
      ],
      "execution_count": 0,
      "outputs": [
        {
          "output_type": "stream",
          "text": [
            "Binary Logistic Regression Object with coefficients:\n",
            "[[-2.00001463e+00]\n",
            " [-2.69502741e-08]\n",
            " [ 2.21632764e-04]\n",
            " [ 2.62575828e-04]\n",
            " [ 8.79088545e-08]\n",
            " [ 1.64016403e-05]\n",
            " [ 7.34742671e-06]\n",
            " [ 3.99999740e+00]]\n",
            "Accuracy of:  0.29896907216494845\n",
            "Wall time: 990 ms\n"
          ],
          "name": "stdout"
        }
      ]
    },
    {
      "cell_type": "markdown",
      "metadata": {
        "id": "dOq3qe7XeT5a",
        "colab_type": "text"
      },
      "source": [
        "The above code is for Hessian Binary Logistic Regression. The accuracy for this is still 30%. This means that the added Hessian matrix did not add any more accuracy to our prediction, and thus did not help."
      ]
    },
    {
      "cell_type": "markdown",
      "metadata": {
        "id": "yWEBBBAgc8vT",
        "colab_type": "text"
      },
      "source": [
        "#### L2 regularization"
      ]
    },
    {
      "cell_type": "code",
      "metadata": {
        "id": "r5VAIYGqc8vU",
        "colab_type": "code",
        "outputId": "1203ffaa-a3fb-4e76-a6c9-27fe795ac0d1",
        "colab": {}
      },
      "source": [
        "%%time\n",
        "\n",
        "# for this, we won't perform our own BFGS implementation \n",
        "# (it takes a good deal of code and understanding of the algorithm)\n",
        "# luckily for us, scipy has its own BFGS implementation:\n",
        "from scipy.optimize import fmin_bfgs\n",
        "class BFGSBinaryLogisticRegressionL2(BinaryLogisticRegression):\n",
        "    \n",
        "    @staticmethod\n",
        "    def objective_function(w,X,y,C):\n",
        "        g = expit(X @ w)\n",
        "        return -np.sum(np.log(g[y==1]))-np.sum(np.log(1-g[y==0])) + C*sum(w**2) #-np.sum(y*np.log(g)+(1-y)*np.log(1-g))\n",
        "\n",
        "    @staticmethod\n",
        "    def objective_gradient(w,X,y,C):\n",
        "        g = expit(X @ w)\n",
        "        ydiff = y-g # get y difference\n",
        "        gradient = np.mean(X * ydiff[:,np.newaxis], axis=0)\n",
        "        gradient = gradient.reshape(w.shape)\n",
        "        gradient[1:] += -2 * w[1:] * C\n",
        "        return -gradient\n",
        "    \n",
        "    # just overwrite fit function\n",
        "    def fit(self, X, y):\n",
        "        Xb = self._add_bias(X) # add bias term\n",
        "        num_samples, num_features = Xb.shape\n",
        "        \n",
        "        self.w_ = fmin_bfgs(self.objective_function, # what to optimize\n",
        "                            np.zeros((num_features,1)), # starting point\n",
        "                            fprime=self.objective_gradient, # gradient function\n",
        "                            args=(Xb,y,self.C), # extra args for gradient and objective function\n",
        "                            gtol=1e-03, # stopping criteria for gradient, |v_k|\n",
        "                            maxiter=self.iters, # stopping criteria iterations\n",
        "                            disp=False)\n",
        "        \n",
        "        self.w_ = self.w_.reshape((num_features,1))\n",
        "\n",
        "\n",
        "bfgslr2 = BFGSBinaryLogisticRegressionL2(_,2,C=0.001) # note that we need only a few iterations here\n",
        "bfgslr2.fit(lr_data_X_train, lr_data_Y_train)\n",
        "yhat = bfgslr2.predict(lr_data_X_test)\n",
        "print('BFGSBinaryLogisticRegression L2 Regularization')\n",
        "print(bfgslr2)\n",
        "print('Accuracy of: ',accuracy_score(lr_data_Y_test,yhat))"
      ],
      "execution_count": 0,
      "outputs": [
        {
          "output_type": "stream",
          "text": [
            "BFGSBinaryLogisticRegression L2 Regularization\n",
            "Binary Logistic Regression Object with coefficients:\n",
            "[[5.40092980e-02]\n",
            " [7.98820690e-02]\n",
            " [4.85696515e-04]\n",
            " [5.05355789e-04]\n",
            " [9.97502383e-01]\n",
            " [4.15302410e-02]\n",
            " [1.42740660e-02]\n",
            " [1.17736336e-01]]\n",
            "Accuracy of:  0.29896907216494845\n",
            "Wall time: 140 ms\n"
          ],
          "name": "stdout"
        }
      ]
    },
    {
      "cell_type": "markdown",
      "metadata": {
        "id": "GZOy065lepod",
        "colab_type": "text"
      },
      "source": [
        "The above code is for BFGS Binary Logistic Regression. Yet again, the prediction accuracy is still around 30%. This is starting to indicate that there could be something wrong with the prediction task, and it may not be possible. This was using L2, aka Ridge Regression."
      ]
    },
    {
      "cell_type": "markdown",
      "metadata": {
        "id": "PnjfQpt-c8vX",
        "colab_type": "text"
      },
      "source": [
        "#### L1 Regularization"
      ]
    },
    {
      "cell_type": "code",
      "metadata": {
        "id": "reKehoVbc8vY",
        "colab_type": "code",
        "outputId": "c83e9f37-ee00-4bab-8e81-6438c45a6a7b",
        "colab": {}
      },
      "source": [
        "%%time\n",
        "# for this, we won't perform our own BFGS implementation \n",
        "# (it takes a good deal of code and understanding of the algorithm)\n",
        "# luckily for us, scipy has its own BFGS implementation:\n",
        "from scipy.optimize import fmin_bfgs\n",
        "class BFGSBinaryLogisticRegressionL1(BinaryLogisticRegression):\n",
        "    \n",
        "    @staticmethod\n",
        "    def objective_function(w,X,y,C):\n",
        "        g = expit(X @ w)\n",
        "        return -np.sum(np.log(g[y==1]))-np.sum(np.log(1-g[y==0])) + C*sum(w) \n",
        "\n",
        "    @staticmethod\n",
        "    def objective_gradient(w,X,y,C):\n",
        "        g = expit(X @ w)\n",
        "        ydiff = y-g # get y difference\n",
        "        gradient = np.mean(X * ydiff[:,np.newaxis], axis=0)\n",
        "        gradient = gradient.reshape(w.shape)\n",
        "        gradient[1:] += - w[1:] * C \n",
        "        return -gradient\n",
        "    \n",
        "    # just overwrite fit function\n",
        "    def fit(self, X, y):\n",
        "        Xb = self._add_bias(X) # add bias term\n",
        "        num_samples, num_features = Xb.shape\n",
        "        \n",
        "        self.w_ = fmin_bfgs(self.objective_function, # what to optimize\n",
        "                            np.zeros((num_features,1)), # starting point\n",
        "                            fprime=self.objective_gradient, # gradient function\n",
        "                            args=(Xb,y,self.C), # extra args for gradient and objective function\n",
        "                            gtol=1e-03, # stopping criteria for gradient, |v_k|\n",
        "                            maxiter=self.iters, # stopping criteria iterations\n",
        "                            disp=False)\n",
        "        \n",
        "        self.w_ = self.w_.reshape((num_features,1))\n",
        "            \n",
        "bfgslr1 = BFGSBinaryLogisticRegressionL1(_,2,C=0.001) # note that we need only a few iterations here\n",
        "\n",
        "bfgslr1.fit(lr_data_X_train, lr_data_Y_train)\n",
        "yhat = bfgslr1.predict(lr_data_X_test)\n",
        "print('BFGSBinaryLogisticRegression L1 Regularization')\n",
        "print(bfgslr1)\n",
        "print('Accuracy of: ',accuracy_score(lr_data_Y_test,yhat))"
      ],
      "execution_count": 0,
      "outputs": [
        {
          "output_type": "stream",
          "text": [
            "BFGSBinaryLogisticRegression L1 Regularization\n",
            "Binary Logistic Regression Object with coefficients:\n",
            "[[5.40092980e-02]\n",
            " [7.98820690e-02]\n",
            " [4.85696515e-04]\n",
            " [5.05355789e-04]\n",
            " [9.97502383e-01]\n",
            " [4.15302410e-02]\n",
            " [1.42740660e-02]\n",
            " [1.17736336e-01]]\n",
            "Accuracy of:  0.29896907216494845\n",
            "Wall time: 150 ms\n"
          ],
          "name": "stdout"
        }
      ]
    },
    {
      "cell_type": "markdown",
      "metadata": {
        "id": "92FliiZOe27m",
        "colab_type": "text"
      },
      "source": [
        "The above code is for BFGS Binary Logistic Regression using Lasso Regression, aka L1. The percentage of accuracy is yet again around 29%."
      ]
    },
    {
      "cell_type": "markdown",
      "metadata": {
        "id": "7lbGa7-rc8va",
        "colab_type": "text"
      },
      "source": [
        "####  Both L1 & L2 Regularization"
      ]
    },
    {
      "cell_type": "code",
      "metadata": {
        "id": "Rm49Cph0c8vb",
        "colab_type": "code",
        "outputId": "aad74b80-8bfa-49c7-8932-d7fe300904af",
        "colab": {}
      },
      "source": [
        "%%time\n",
        "# for this, we won't perform our own BFGS implementation \n",
        "# (it takes a good deal of code and understanding of the algorithm)\n",
        "# luckily for us, scipy has its own BFGS implementation:\n",
        "from scipy.optimize import fmin_bfgs\n",
        "class BFGSBinaryLogisticRegressionL1L2(BinaryLogisticRegression):\n",
        "    \n",
        "    @staticmethod\n",
        "    def objective_function(w,X,y,C):\n",
        "        g = expit(X @ w)\n",
        "        return ( -np.sum(np.log(g[y==1]))-np.sum(np.log(1-g[y==0])) + C*sum(w) ) + (-np.sum(np.log(g[y==1]))-np.sum(np.log(1-g[y==0])) + C*sum(w**2))\n",
        "\n",
        "    @staticmethod\n",
        "    def objective_gradient(w,X,y,C):\n",
        "        g = expit(X @ w)\n",
        "        ydiff = y-g # get y difference\n",
        "        gradient = np.mean(X * ydiff[:,np.newaxis], axis=0)\n",
        "        gradient = gradient.reshape(w.shape)\n",
        "        gradient[1:] += - w[1:] * C - 2 * w[1:] * C\n",
        "        return -gradient\n",
        "    \n",
        "    # just overwrite fit function\n",
        "    def fit(self, X, y):\n",
        "        Xb = self._add_bias(X) # add bias term\n",
        "        num_samples, num_features = Xb.shape\n",
        "        \n",
        "        self.w_ = fmin_bfgs(self.objective_function, # what to optimize\n",
        "                            np.zeros((num_features,1)), # starting point\n",
        "                            fprime=self.objective_gradient, # gradient function\n",
        "                            args=(Xb,y,self.C), # extra args for gradient and objective function\n",
        "                            gtol=1e-03, # stopping criteria for gradient, |v_k|\n",
        "                            maxiter=self.iters, # stopping criteria iterations\n",
        "                            disp=False)\n",
        "        \n",
        "        self.w_ = self.w_.reshape((num_features,1))\n",
        "            \n",
        "bfgslr12 = BFGSBinaryLogisticRegressionL1L2(_,2,C=0.001) # note that we need only a few iterations here\n",
        "\n",
        "bfgslr12.fit(lr_data_X_train, lr_data_Y_train)\n",
        "yhat = bfgslr12.predict(lr_data_X_test)\n",
        "print('BFGSBinaryLogisticRegression L1 & L2 Regularization')\n",
        "print(bfgslr12)\n",
        "print('Accuracy of: ',accuracy_score(lr_data_Y_test,yhat))"
      ],
      "execution_count": 0,
      "outputs": [
        {
          "output_type": "stream",
          "text": [
            "BFGSBinaryLogisticRegression L1 & L2 Regularization\n",
            "Binary Logistic Regression Object with coefficients:\n",
            "[[5.40092980e-02]\n",
            " [7.98820690e-02]\n",
            " [4.85696515e-04]\n",
            " [5.05355789e-04]\n",
            " [9.97502383e-01]\n",
            " [4.15302410e-02]\n",
            " [1.42740660e-02]\n",
            " [1.17736336e-01]]\n",
            "Accuracy of:  0.29896907216494845\n",
            "Wall time: 192 ms\n"
          ],
          "name": "stdout"
        }
      ]
    },
    {
      "cell_type": "markdown",
      "metadata": {
        "colab_type": "text",
        "id": "8EdfGJbDlwDU"
      },
      "source": [
        "Using both L1 and L2, this is still an accuracy around 29%. This prediction task ended up being much harder and more complicated than it originally seemed."
      ]
    },
    {
      "cell_type": "markdown",
      "metadata": {
        "colab_type": "text",
        "id": "99hlXc-AeVS3"
      },
      "source": [
        "### ***15 points***\n",
        "Train your classifier to achieve good generalization performance. That is, adjust the optimization technique and the value of the regularization term \"C\" to achieve the best performance on your test set. Visualize the performance of the classifier versus the parameters you investigated. Is your method of selecting parameters justified? That is, do you think there is any \"data snooping\" involved with this method of selecting parameters?\n"
      ]
    },
    {
      "cell_type": "code",
      "metadata": {
        "colab_type": "code",
        "id": "UeE9wXvVl0oz",
        "colab": {}
      },
      "source": [
        "# get good generalization performance aka technique and C adjustment\n",
        "\n",
        "indexL1 = []\n",
        "accuracyL1 = []\n",
        "\n",
        "indexL2 = []\n",
        "accuracyL2 = []\n",
        "\n",
        "indexL1L2 = []\n",
        "accuracyL1L2 = []\n",
        "\n",
        "for i in range(0, 20):\n",
        "    C_step = 0.001+i*0.01\n",
        "    \n",
        "    # L1\n",
        "    bfgslr1 = BFGSBinaryLogisticRegressionL1(_,2,C=C_step) # note that we need only a few iterations here\n",
        "    bfgslr1.fit(lr_data_X_train, lr_data_Y_train)\n",
        "    yhat = bfgslr1.predict(lr_data_X_test)\n",
        "    indexL1.append(C_step)\n",
        "    accuracyL1.append(accuracy_score(lr_data_Y_test,yhat))\n",
        "    \n",
        "    # L2\n",
        "    bfgslr2 = BFGSBinaryLogisticRegressionL2(_,2,C=C_step) # note that we need only a few iterations here\n",
        "    bfgslr2.fit(lr_data_X_train, lr_data_Y_train)\n",
        "    yhat = bfgslr2.predict(lr_data_X_test)\n",
        "    indexL2.append(C_step)\n",
        "    accuracyL2.append(accuracy_score(lr_data_Y_test,yhat))\n",
        "    \n",
        "    # L1L2\n",
        "    bfgslr12 = BFGSBinaryLogisticRegressionL1L2(_,2,C=C_step) # note that we need only a few iterations here\n",
        "    bfgslr12.fit(lr_data_X_train, lr_data_Y_train)\n",
        "    yhat = bfgslr12.predict(lr_data_X_test)\n",
        "    indexL1L2.append(C_step)\n",
        "    accuracyL1L2.append(accuracy_score(lr_data_Y_test,yhat))\n"
      ],
      "execution_count": 0,
      "outputs": []
    },
    {
      "cell_type": "markdown",
      "metadata": {
        "id": "xIxC20edc8vi",
        "colab_type": "text"
      },
      "source": [
        "##### Above, we're using L1, L2, L1&L2 and adjusting C to see different results"
      ]
    },
    {
      "cell_type": "code",
      "metadata": {
        "id": "1tUNutiFc8vj",
        "colab_type": "code",
        "outputId": "f03b913c-a71f-4ddb-8fdc-b813750dbe4c",
        "colab": {}
      },
      "source": [
        "# visualize performance classifier vs params investigated\n",
        "plt.plot(indexL1, accuracyL1, color='g', label=\"L1\")\n",
        "plt.plot(indexL2, accuracyL2, color='orange', label=\"L2\")\n",
        "plt.plot(indexL1L2, accuracyL1L2, color='blue', label=\"L1&L2\")\n",
        "\n",
        "plt.xlabel('C adjustment')\n",
        "plt.ylabel('Accuracy')\n",
        "plt.legend()\n",
        "plt.title('Visualization of performance classifier vs params investigated')\n",
        "plt.show()"
      ],
      "execution_count": 0,
      "outputs": [
        {
          "output_type": "display_data",
          "data": {
            "image/png": "[encoded data removed]",
            "text/plain": [
              "<Figure size 432x288 with 1 Axes>"
            ]
          },
          "metadata": {
            "tags": [],
            "needs_background": "light"
          }
        }
      ]
    },
    {
      "cell_type": "markdown",
      "metadata": {
        "colab_type": "text",
        "id": "lK-1_KPsl_DI"
      },
      "source": [
        "*Explain answer here*\n",
        "\n",
        "Our parameter selection does not seem to be justified. For all of our possibilites, we have have the same accuracy of less than 30%. This indicates our prediction task and methods did not work as planned. This could be do to the fact that there are so many different variables that go into whether a genetic variant actually is pathogenic or benign. While I do not believe we have data snooping because there really is not a big reveal or a significant finding, I do believe there is a serious issue with our task as well as with the analysis of the variables we are using."
      ]
    },
    {
      "cell_type": "markdown",
      "metadata": {
        "colab_type": "text",
        "id": "TBz7sp8ZefFf"
      },
      "source": [
        "### ***15 points***\n",
        "Compare the performance of your \"best\" logistic regression optimization procedure to the procedure used in scikit-learn. Visualize the performance differences in terms of training time and classification performance. Discuss the results. "
      ]
    },
    {
      "cell_type": "code",
      "metadata": {
        "colab_type": "code",
        "id": "I0UThcgkmIef",
        "outputId": "84b0e853-90f6-40b9-891f-f916c3deb2b9",
        "colab": {}
      },
      "source": [
        "# visualize performance differences training time our best logistic regression optimization procedure\n",
        "# visualize performance classification our best logistic regression optimization procedure\n",
        "\n",
        "import time\n",
        "import sklearn\n",
        "startL2= time.time()\n",
        " \n",
        "bfgslr2 = BFGSBinaryLogisticRegressionL2(_,2,C=C_step) \n",
        "bfgslr2.fit(lr_data_X_train, lr_data_Y_train)\n",
        "yhat = bfgslr2.predict(lr_data_X_test)\n",
        "\n",
        "endL2= time.time()\n",
        "training_time_my_BFGSL2= endL2- startL2\n",
        "my_bfgslr2_accuracy = accuracy_score(lr_data_Y_test,yhat)\n",
        "print('My Training Time:', training_timeBFGSL2)\n",
        "print('My Accuracy:', my_accuracy)\n"
      ],
      "execution_count": 0,
      "outputs": [
        {
          "output_type": "stream",
          "text": [
            "My Training Time: 0.021033763885498047\n",
            "My Accuracy: 0.29896907216494845\n"
          ],
          "name": "stdout"
        }
      ]
    },
    {
      "cell_type": "code",
      "metadata": {
        "id": "5cPHIsUQc8vo",
        "colab_type": "code",
        "outputId": "6c07569b-3e2a-4193-bf4c-773f2acd84fa",
        "colab": {}
      },
      "source": [
        "# visualize performance differences training time sci-kit learn\n",
        "# visualize performance classification sci-kit learn optimization procedure\n",
        "startL2= time.time()\n",
        "scikit_bfgslr2 = sklearn.linear_model.LogisticRegression(penalty='l2', dual=False, tol=0.0001, \n",
        "                                        C=0.01, fit_intercept=True, \n",
        "                                        solver='lbfgs', max_iter=1000).fit(lr_data_X_train, lr_data_Y_train)\n",
        "yhat = scikit_bfgslr2.predict(lr_data_X_test)\n",
        "endL2= time.time()\n",
        "training_time_scikit_BFGSL2= endL2 - startL2\n",
        "scikit_bfgslr2_accuracy = accuracy_score(lr_data_Y_test,yhat)\n",
        "print('Scikit-learn training time:', training_time_scikit_BFGSL2)\n",
        "print('Scikit-learn accuracy:', scikit_bfgslr2_accuracy)\n"
      ],
      "execution_count": 0,
      "outputs": [
        {
          "output_type": "stream",
          "text": [
            "Scikit-learn training time: 5.298713207244873\n",
            "Scikit-learn accuracy: 0.9925207196280574\n"
          ],
          "name": "stdout"
        }
      ]
    },
    {
      "cell_type": "code",
      "metadata": {
        "id": "yfD14NZ3c8vr",
        "colab_type": "code",
        "outputId": "4767c291-7fe6-492c-c2c7-d5a343d4d0bd",
        "colab": {}
      },
      "source": [
        "plt.plot(training_time_my_BFGSL2, my_bfgslr2_accuracy, 'go', label=\"My BFGSL2\")\n",
        "plt.plot(training_time_scikit_BFGSL2, scikit_bfgslr2_accuracy, 'bs', label=\"Scikit Learn\")\n",
        "\n",
        "plt.xlabel('Time (seconds)')\n",
        "plt.ylabel('Accuracy')\n",
        "plt.legend()\n",
        "plt.title('Visualization of performance differences and classification between our best logistic regression optimization and scikit-learn')\n",
        "plt.show()"
      ],
      "execution_count": 0,
      "outputs": [
        {
          "output_type": "display_data",
          "data": {
            "image/png": "[encoded data removed]",
            "text/plain": [
              "<Figure size 432x288 with 1 Axes>"
            ]
          },
          "metadata": {
            "tags": [],
            "needs_background": "light"
          }
        }
      ]
    },
    {
      "cell_type": "markdown",
      "metadata": {
        "colab_type": "text",
        "id": "_RTMRwrFmkoY"
      },
      "source": [
        "*Explain answer here* <br/>\n",
        "Since performance doesnt change between values of C and regularization techniques, we choose BFGSBinaryLogisticRegressionL2 to compare with scikit-learn\n",
        "<br/><br/>\n",
        "From the visualization of performance and time, it is very obvious that scikit learn is much better than our technique. While our technique takes very little time, it is obvious that it was at the detriment of our performance. While our performance is around 30%, scikit learn's accuracy is close to 90-95%, which is the accuracy we originally wanted for our data. While scikit learn takes more time, this is not a huge issue as this is a system that would run in the background and not at a moment's notice."
      ]
    },
    {
      "cell_type": "markdown",
      "metadata": {
        "colab_type": "text",
        "id": "UXOIO5H3dwfb"
      },
      "source": [
        "## Deployment [***10 points***]\n",
        "Which implementation of logistic regression would you advise be used in a deployed machine learning model, your implementation or scikit-learn (or other third party)? Why?"
      ]
    },
    {
      "cell_type": "markdown",
      "metadata": {
        "colab_type": "text",
        "id": "iJOPh7qSgb6x"
      },
      "source": [
        "*Explain answer here*\n",
        "\n",
        "Scikit learn is what I would suggest be used for this dataset. Our implementation does not find the best accuracy rates, they are around 30% which is no where near good enough to be used in any deployment for the medical field. Scikit learn is created to run these sort of calculations in a quick and correct manner. It has been created and refined more than our implementation, and thus would have a better accuracy than we will be able to reach in our implementation. Scikit learn was written by those with a deeper knowledge than us as well, and thus performs better. Our implementation does not do well for our classification task. I would not suggest our implementation. Scikit learn had the best accuracy, which is what matters for our dataset since it involves people and their health."
      ]
    },
    {
      "cell_type": "markdown",
      "metadata": {
        "colab_type": "text",
        "id": "zyA7zZFidz6j"
      },
      "source": [
        "## Exceptional Work [***10 points***]\n",
        "You have free reign to provide additional analyses. One idea: Update the code to use either \"one-versus-all\" or \"one-versus-one\" extensions of binary to multi-class classification. One idea (required for 7000 level students): Implement an optimization technique for logistic regression using mean square error as your objective function (instead of binary entropy). Your solution should be able to solve the binary logistic regression problem in one update step."
      ]
    },
    {
      "cell_type": "code",
      "metadata": {
        "id": "cciI8zEZc8vx",
        "colab_type": "code",
        "outputId": "d6fb6db3-4325-46c4-d2c8-146bf6ccda11",
        "colab": {}
      },
      "source": [
        "class MultiClassLogisticRegression:\n",
        "    def __init__(self, eta, iterations=20, C=0.0001):\n",
        "        self.eta = eta\n",
        "        self.iters = iterations\n",
        "        self.C = C\n",
        "        self.classifiers_ = []\n",
        "        # internally we will store the weights as self.w_ to keep with sklearn conventions\n",
        "    \n",
        "    def __str__(self):\n",
        "        if(hasattr(self,'w_')):\n",
        "            return 'MultiClass Logistic Regression Object with coefficients:\\n'+ str(self.w_) # is we have trained the object\n",
        "        else:\n",
        "            return 'Untrained MultiClass Logistic Regression Object'\n",
        "        \n",
        "    def fit(self,X,y):\n",
        "        num_samples, num_features = X.shape\n",
        "        self.unique_ = np.sort(np.unique(y)) # get each unique class value\n",
        "        num_unique_classes = len(self.unique_)\n",
        "        self.classifiers_ = []\n",
        "        for i,yval in enumerate(self.unique_): # for each unique value\n",
        "            y_binary = y==yval # create a binary problem\n",
        "            # train the binary classifier for this class\n",
        "            hblr = BFGSBinaryLogisticRegressionL2(self.eta,self.iters,self.C)\n",
        "            hblr.fit(X,y_binary)\n",
        "            #print(accuracy(y_binary,hblr.predict(X)))\n",
        "            # add the trained classifier to the list\n",
        "            self.classifiers_.append(hblr)\n",
        "        # save all the weights into one matrix, separate column for each class\n",
        "        self.w_ = np.hstack([x.w_ for x in self.classifiers_]).T\n",
        "        \n",
        "    def predict_proba(self,X):\n",
        "        probs = []\n",
        "        for hblr in self.classifiers_:\n",
        "            probs.append(hblr.predict_proba(X).reshape((len(X),1))) # get probability for each classifier\n",
        "        \n",
        "        return np.hstack(probs) # make into single matrix\n",
        "    \n",
        "    def predict(self,X):\n",
        "        return np.argmax(self.predict_proba(X),axis=1) # take argmax along row\n",
        "    \n",
        "lr = MultiClassLogisticRegression(_,iterations=10,C=0.001)\n",
        "lr.fit(lr_data_X_train, lr_data_Y_train)\n",
        "print(lr)\n",
        "\n",
        "yhat = lr.predict(lr_data_X_test)\n",
        "print('Accuracy of: ',accuracy_score(lr_data_Y_test,yhat))"
      ],
      "execution_count": 0,
      "outputs": [
        {
          "output_type": "stream",
          "text": [
            "C:\\Users\\Skyler\\Anaconda3\\envs\\mlenv\\lib\\site-packages\\ipykernel_launcher.py:10: RuntimeWarning: divide by zero encountered in log\n",
            "  # Remove the CWD from sys.path while we load stuff.\n",
            "C:\\Users\\Skyler\\Anaconda3\\envs\\mlenv\\lib\\site-packages\\ipykernel_launcher.py:10: RuntimeWarning: divide by zero encountered in log\n",
            "  # Remove the CWD from sys.path while we load stuff.\n"
          ],
          "name": "stderr"
        },
        {
          "output_type": "stream",
          "text": [
            "MultiClass Logistic Regression Object with coefficients:\n",
            "[[-9.11825125e-01  2.89582045e-03 -2.42438456e-02 -2.58104660e-02\n",
            "   3.44926242e-01 -6.70948715e-01 -1.74369552e-01 -4.73912680e+00]\n",
            " [ 1.90027714e+00  1.66210495e-02  6.74284757e-02  6.78049161e-02\n",
            "  -2.16573934e-01  1.32948465e+00  1.84421063e-01  8.38275969e-01]\n",
            " [-8.01965604e+00  4.55615582e-03 -1.73492122e-01 -1.79333349e-01\n",
            "   1.16279020e-01 -5.93668553e+00 -1.45443650e+00  3.90610050e+00]\n",
            " [-6.77156446e-01 -6.91091717e-01 -1.16439156e-02 -1.18316729e-02\n",
            "  -8.22662046e-01 -5.17026464e-01 -1.70815981e-01 -1.28876995e+00]]\n",
            "Accuracy of:  0.02809783707297352\n"
          ],
          "name": "stdout"
        }
      ]
    },
    {
      "cell_type": "markdown",
      "metadata": {
        "colab_type": "text",
        "id": "2kmhljcDgS1L"
      },
      "source": [
        "The above code is for MultiClass Logistic Regression. Our version of MultiClass Regression is very bad when it comes to our dataset. As it is less than 3% accurate, this means that it would not be useful in any way, shape, or form. "
      ]
    }
  ]
}